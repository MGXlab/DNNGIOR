{
 "cells": [
  {
   "cell_type": "markdown",
   "id": "878d7db4",
   "metadata": {},
   "source": [
    "Load dependencies"
   ]
  },
  {
   "cell_type": "code",
   "execution_count": 22,
   "id": "5f327b25",
   "metadata": {},
   "outputs": [],
   "source": [
    "import cobra\n",
    "#Avoid the warnings about the sbml formating\n",
    "import logging\n",
    "logging.getLogger(\"cobra\").setLevel(logging.ERROR)\n",
    "import json\n",
    "import os\n",
    "import sys\n",
    "from pathlib import Path\n",
    "path = Path.cwd()\n",
    "sys.path.append(path)\n",
    "\n",
    "import numpy as np"
   ]
  },
  {
   "cell_type": "code",
   "execution_count": 3,
   "id": "cef60e3c",
   "metadata": {},
   "outputs": [],
   "source": [
    "from reaction_class import Reaction\n",
    "import gapfill_function\n",
    "from build_model import *"
   ]
  },
  {
   "cell_type": "markdown",
   "id": "e1c06a46",
   "metadata": {},
   "source": [
    "### Cobrapy crash tutorial for browsing GSMMs\n",
    "\n",
    "I find cobrapy one the best ways to interact with GSMMs in a programatic way. It's quite well documented (https://cobrapy.readthedocs.io/en/latest/)\n",
    "\n",
    "I am only going to illustrate some basic functionalities:\n",
    "\n",
    "1) load a model from an XML file"
   ]
  },
  {
   "cell_type": "code",
   "execution_count": 4,
   "id": "4dabeee3",
   "metadata": {},
   "outputs": [
    {
     "name": "stdout",
     "output_type": "stream",
     "text": [
      "Set parameter Username\n",
      "Academic license - for non-commercial use only - expires 2023-01-07\n"
     ]
    }
   ],
   "source": [
    "model_location = os.path.join(path.parent, 'files',  'models', 'all_bins-draft.xml')\n",
    "gpseq_model = cobra.io.read_sbml_model(model_location)"
   ]
  },
  {
   "cell_type": "markdown",
   "id": "02f53b22",
   "metadata": {},
   "source": [
    "As expected from GSMMs, the model obj has genes, reactions, metabolites, medium, demand reactions, and compartments.\n",
    "\n",
    "They are all iterable python objects that have additional information as id, name, charge, formula, etc"
   ]
  },
  {
   "cell_type": "code",
   "execution_count": 5,
   "id": "b01772ec",
   "metadata": {},
   "outputs": [
    {
     "name": "stdout",
     "output_type": "stream",
     "text": [
      "number of reactions :  3846\n",
      "number of metabolites :  3113\n",
      "number of genes :  17464\n",
      "Compartments :  {'c0': '', 'e0': '', 'p0': ''}\n",
      "id :  rxn00004_c0\n",
      "name :  4-hydroxy-4-methyl-2-oxoglutarate pyruvate-lyase (pyruvate-forming)\n",
      "cpd02570_c0 <=> 2.0 cpd00020_c0\n",
      "Parapyruvate-c0 <=> 2.0 Pyruvate-c0\n",
      "\n",
      "\n",
      " reaction genes :  frozenset({<Gene gp_NODE___NINE____NINE____ZERO___length___TWO____SIX____EIGHT____THREE____FIVE___cov___ONE____SIX____DOT____SEVEN____FIVE____ONE____SEVEN____ONE____EIGHT_____ONE____THREE____NINE____NINE____TWO_____ONE____FOUR____SEVEN____ZERO____FIVE__ at 0x7f4b901ce040>, <Gene gp_NODE___EIGHT____ONE____NINE____THREE___length___FOUR____ZERO____SIX____FIVE___cov___ONE____SIX____DOT____ONE____TWO____ONE____SIX____NINE____SIX_____THREE____SEVEN____EIGHT____FIVE_____THREE____THREE____ZERO____THREE__ at 0x7f4b901bf250>, <Gene gp_NODE___ONE____THREE____SIX___length___ONE____ZERO____FOUR____SEVEN____EIGHT____FOUR___cov___THREE____ONE____DOT____SEVEN____TWO____EIGHT____SIX____EIGHT____ONE_____ONE____EIGHT____EIGHT____THREE____FOUR_____ONE____EIGHT____THREE____SEVEN____THREE__ at 0x7f4b901bfe80>, <Gene gp_NODE___ONE____NINE____SEVEN___length___EIGHT____ONE____SIX____ZERO____FIVE___cov___EIGHT____NINE____DOT____EIGHT____NINE____ONE____THREE____SIX____SEVEN_____FIVE____TWO____THREE____EIGHT____NINE_____FIVE____THREE____ZERO____FIVE____SEVEN__ at 0x7f4b901bfeb0>, <Gene gp_NODE___EIGHT____FOUR___length___ONE____FOUR____THREE____ZERO____TWO____NINE___cov___SIX____FIVE____DOT____FIVE____TWO____SIX____NINE____ONE____FOUR_____TWO____TWO____SEVEN____SIX____EIGHT_____TWO____THREE____FOUR____THREE____SIX__ at 0x7f4b901ce0d0>, <Gene gp_NODE___TWO____ONE____SIX___length___SEVEN____SEVEN____FOUR____THREE____ZERO___cov___THREE____ZERO____DOT____FIVE____SIX____SIX____FIVE____SIX____FIVE_____ONE____FOUR____TWO____TWO____FIVE_____ONE____THREE____SEVEN____FOUR____ZERO__ at 0x7f4b901bfee0>, <Gene gp_NODE___TWO____FIVE____THREE____SIX___length___ONE____ONE____FIVE____SIX____THREE___cov___TWO____TWO____DOT____EIGHT____THREE____ZERO____NINE____EIGHT____SEVEN_____TWO____ONE____EIGHT____ZERO_____TWO____SIX____SIX____FIVE__ at 0x7f4b901bff10>, <Gene gp_NODE___TWO____EIGHT____ONE____ONE___length___ONE____ZERO____FIVE____FIVE____EIGHT___cov___ONE____THREE____DOT____TWO____FOUR____ONE____SIX____FOUR____FIVE_____FOUR____ONE____SIX_____ONE____ZERO____EIGHT____FOUR__ at 0x7f4b901bff40>, <Gene gp_NODE___THREE____ZERO____FIVE____TWO___length___NINE____EIGHT____TWO____TWO___cov___ONE____THREE____DOT____FIVE____NINE____ONE____NINE____NINE____THREE_____EIGHT____THREE____EIGHT____ONE_____SEVEN____EIGHT____NINE____SIX__ at 0x7f4b901bff70>, <Gene gp_NODE___SEVEN____FIVE____SIX___length___THREE____THREE____TWO____FOUR____SEVEN___cov___ONE____EIGHT____DOT____ONE____FIVE____FOUR____NINE____FOUR____SEVEN_____THREE____ONE____ZERO____TWO____SEVEN_____THREE____ZERO____THREE____SIX____TWO__ at 0x7f4b901bf190>, <Gene gp_NODE___THREE____EIGHT____ZERO___length___FIVE____FIVE____SIX____SEVEN____SIX___cov___SIX____THREE____DOT____TWO____EIGHT____NINE____TWO____NINE____SEVEN_____THREE____ONE____THREE____SEVEN____ONE_____THREE____ZERO____SIX____SEVEN____NINE__ at 0x7f4b901bffa0>, <Gene gp_NODE___THREE____EIGHT____THREE___length___FIVE____FIVE____ZERO____FOUR____TWO___cov___FOUR____ZERO____DOT____ONE____THREE____FIVE____FIVE____SEVEN____EIGHT_____FOUR____SEVEN____NINE____SIX____TWO_____FOUR____EIGHT____SIX____ONE____FIVE__ at 0x7f4b901bffd0>}) \n",
      "\n",
      "\n",
      "\n",
      "\n",
      " reaction gene rules :  gp_NODE___ONE____THREE____SIX___length___ONE____ZERO____FOUR____SEVEN____EIGHT____FOUR___cov___THREE____ONE____DOT____SEVEN____TWO____EIGHT____SIX____EIGHT____ONE_____ONE____EIGHT____EIGHT____THREE____FOUR_____ONE____EIGHT____THREE____SEVEN____THREE__ or gp_NODE___ONE____NINE____SEVEN___length___EIGHT____ONE____SIX____ZERO____FIVE___cov___EIGHT____NINE____DOT____EIGHT____NINE____ONE____THREE____SIX____SEVEN_____FIVE____TWO____THREE____EIGHT____NINE_____FIVE____THREE____ZERO____FIVE____SEVEN__ or gp_NODE___TWO____ONE____SIX___length___SEVEN____SEVEN____FOUR____THREE____ZERO___cov___THREE____ZERO____DOT____FIVE____SIX____SIX____FIVE____SIX____FIVE_____ONE____FOUR____TWO____TWO____FIVE_____ONE____THREE____SEVEN____FOUR____ZERO__ or gp_NODE___TWO____FIVE____THREE____SIX___length___ONE____ONE____FIVE____SIX____THREE___cov___TWO____TWO____DOT____EIGHT____THREE____ZERO____NINE____EIGHT____SEVEN_____TWO____ONE____EIGHT____ZERO_____TWO____SIX____SIX____FIVE__ or gp_NODE___TWO____EIGHT____ONE____ONE___length___ONE____ZERO____FIVE____FIVE____EIGHT___cov___ONE____THREE____DOT____TWO____FOUR____ONE____SIX____FOUR____FIVE_____FOUR____ONE____SIX_____ONE____ZERO____EIGHT____FOUR__ or gp_NODE___THREE____ZERO____FIVE____TWO___length___NINE____EIGHT____TWO____TWO___cov___ONE____THREE____DOT____FIVE____NINE____ONE____NINE____NINE____THREE_____EIGHT____THREE____EIGHT____ONE_____SEVEN____EIGHT____NINE____SIX__ or gp_NODE___THREE____EIGHT____ZERO___length___FIVE____FIVE____SIX____SEVEN____SIX___cov___SIX____THREE____DOT____TWO____EIGHT____NINE____TWO____NINE____SEVEN_____THREE____ONE____THREE____SEVEN____ONE_____THREE____ZERO____SIX____SEVEN____NINE__ or gp_NODE___THREE____EIGHT____THREE___length___FIVE____FIVE____ZERO____FOUR____TWO___cov___FOUR____ZERO____DOT____ONE____THREE____FIVE____FIVE____SEVEN____EIGHT_____FOUR____SEVEN____NINE____SIX____TWO_____FOUR____EIGHT____SIX____ONE____FIVE__ or gp_NODE___SEVEN____FIVE____SIX___length___THREE____THREE____TWO____FOUR____SEVEN___cov___ONE____EIGHT____DOT____ONE____FIVE____FOUR____NINE____FOUR____SEVEN_____THREE____ONE____ZERO____TWO____SEVEN_____THREE____ZERO____THREE____SIX____TWO__ or gp_NODE___EIGHT____ONE____NINE____THREE___length___FOUR____ZERO____SIX____FIVE___cov___ONE____SIX____DOT____ONE____TWO____ONE____SIX____NINE____SIX_____THREE____SEVEN____EIGHT____FIVE_____THREE____THREE____ZERO____THREE__ or gp_NODE___EIGHT____FOUR___length___ONE____FOUR____THREE____ZERO____TWO____NINE___cov___SIX____FIVE____DOT____FIVE____TWO____SIX____NINE____ONE____FOUR_____TWO____TWO____SEVEN____SIX____EIGHT_____TWO____THREE____FOUR____THREE____SIX__ or gp_NODE___NINE____NINE____ZERO___length___TWO____SIX____EIGHT____THREE____FIVE___cov___ONE____SIX____DOT____SEVEN____FIVE____ONE____SEVEN____ONE____EIGHT_____ONE____THREE____NINE____NINE____TWO_____ONE____FOUR____SEVEN____ZERO____FIVE__ \n",
      "\n",
      "\n",
      "id :  cpd00020_c0\n",
      "name :  Pyruvate-c0\n",
      "formula :  C3H3O3\n",
      "charge :  -1\n",
      "elements :  {'C': 3, 'H': 3, 'O': 3}\n",
      "weight :  87.05412\n",
      "reactions that use this metabolite :  ['rxn00177_c0', 'rxn00289_c0', 'rxn06404_c0', 'rxn00783_c0', 'rxn05469_c0', 'rxn00500_c0', 'rxn15021_c0', 'rxn05560_c0', 'rxn00678_c0', 'rxn00801_c0', 'rxn01990_c0', 'rxn15491_c0', 'rxn00258_c0', 'rxn01735_c0', 'rxn00517_c0', 'rxn90067_c0', 'rxn11703_c0', 'rxn12707_c0', 'rxn05226_c0', 'rxn02185_c0', 'rxn00250_c0', 'rxn01644_c0', 'rxn05617_c0', 'rxn01354_c0', 'rxn00422_c0', 'rxn00162_c0', 'rxn05485_c0', 'rxn00278_c0', 'rxn00966_c0', 'rxn15044_c0', 'rxn00166_c0', 'rxn02346_c0', 'rxn00499_c0', 'rxn05109_c0', 'rxn02210_c0', 'rxn00566_c0', 'rxn07450_c0', 'rxn04092_c0', 'rxn00411_c0', 'rxn00003_c0', 'rxn03610_c0', 'rxn05988_c0', 'rxn00191_c0', 'rxn00987_c0', 'rxn10951_c0', 'rxn01322_c0', 'rxn00159_c0', 'rxn02925_c0', 'rxn05647_c0', 'rxn00148_c0', 'rxn01202_c0', 'rxn00004_c0', 'rxn03841_c0', 'rxn05607_c0', 'rxn00164_c0', 'rxn00460_c0', 'rxn00473_c0', 'rxn00165_c0', 'rxn03909_c0', 'rxn00168_c0', 'rxn04675_c0', 'rxn00328_c0', 'rxn05938_c0', 'rxn00272_c0', 'rxn08535_c0', 'rxn09402_c0', 'rxn00656_c0', 'rxn01619_c0', 'rxn15166_c0', 'rxn06282_c0', 'rxn16114_c0', 'rxn00840_c0', 'rxn01307_c0', 'rxn00904_c0', 'rxn03884_c0', 'rxn00011_c0', 'rxn00145_c0', 'rxn00491_c0', 'rxn09167_c0', 'rxn15266_c0', 'rxn14068_c0', 'rxn00304_c0', 'rxn01667_c0', 'rxn02900_c0', 'rxn14245_c0', 'rxn12670_c0', 'rxn15267_c0', 'rxn00149_c0', 'rxn01242_c0', 'rxn14077_c0', 'rxn00147_c0', 'rxn00726_c0', 'rxn00950_c0', 'rxn00160_c0', 'rxn08043_c0', 'rxn02230_c0', 'rxn00161_c0', 'rxn11731_c0', 'rxn00146_c0', 'rxn00157_c0', 'rxn01203_c0', 'rxn00540_c0', 'rxn00727_c0', 'rxn00255_c0', 'rxn03379_c0', 'rxn00154_c0', 'rxn03924_c0']\n"
     ]
    }
   ],
   "source": [
    "\n",
    "print('number of reactions : ', len(gpseq_model.reactions))\n",
    "\n",
    "\n",
    "print('number of metabolites : ', len(gpseq_model.metabolites))\n",
    "\n",
    "\n",
    "print('number of genes : ', len(gpseq_model.genes))\n",
    "\n",
    "\n",
    "print('Compartments : ', gpseq_model.compartments)\n",
    "\n",
    "#1 reaction info\n",
    "print('id : ', gpseq_model.reactions.rxn00004_c0.id)\n",
    "print('name : ', gpseq_model.reactions.rxn00004_c0.name)\n",
    "\n",
    "print(gpseq_model.reactions.rxn00004_c0.reaction)\n",
    "print(gpseq_model.reactions.rxn00004_c0.build_reaction_string(use_metabolite_names=1))\n",
    "\n",
    "print('\\n\\n', 'reaction genes : ',  gpseq_model.reactions.rxn00004_c0.genes , '\\n\\n')\n",
    "print('\\n\\n', 'reaction gene rules : ', gpseq_model.reactions.rxn00004_c0.gene_reaction_rule, '\\n\\n',)\n",
    "\n",
    "\n",
    "#1 metabolite info\n",
    "print('id : ', gpseq_model.metabolites.cpd00020_c0.id)\n",
    "print('name : ', gpseq_model.metabolites.cpd00020_c0.name)\n",
    "print('formula : ', gpseq_model.metabolites.cpd00020_c0.formula)\n",
    "print('charge : ', gpseq_model.metabolites.cpd00020_c0.charge)\n",
    "print('elements : ', gpseq_model.metabolites.cpd00020_c0.elements)\n",
    "print('weight : ', gpseq_model.metabolites.cpd00020_c0.formula_weight)\n",
    "print('reactions that use this metabolite : ', [i.id for i in gpseq_model.metabolites.cpd00020_c0.reactions])\n"
   ]
  },
  {
   "cell_type": "markdown",
   "id": "ab43c4e9",
   "metadata": {},
   "source": [
    "All these fields are editable. \n",
    "\n",
    "Additionally, there is a suite of functions (check the docs).\n",
    "\n",
    "To run FBA (the draft model is not functional)"
   ]
  },
  {
   "cell_type": "code",
   "execution_count": 6,
   "id": "c3722010",
   "metadata": {},
   "outputs": [
    {
     "name": "stdout",
     "output_type": "stream",
     "text": [
      "0.0\n",
      "rxn00001_c0       0.0\n",
      "rxn00002_c0       0.0\n",
      "rxn00003_c0       0.0\n",
      "rxn00004_c0       0.0\n",
      "rxn00006_c0       0.0\n",
      "                 ... \n",
      "EX_cpd03662_e0    0.0\n",
      "EX_cpd00178_e0    0.0\n",
      "EX_cpd01618_e0    0.0\n",
      "bio1              0.0\n",
      "DM_cpd01042_c0    0.0\n",
      "Name: fluxes, Length: 3846, dtype: float64\n"
     ]
    }
   ],
   "source": [
    "solution = gpseq_model.optimize()\n",
    "print(solution.objective_value)\n",
    "\n",
    "print(solution.fluxes)"
   ]
  },
  {
   "cell_type": "markdown",
   "id": "a15caff1",
   "metadata": {},
   "source": [
    "As a quick illustration. I am going to create a reaction for ATP hydrolysis, add it to the model and use this as an objective instead of the biomass."
   ]
  },
  {
   "cell_type": "code",
   "execution_count": 7,
   "id": "4ead7df3",
   "metadata": {},
   "outputs": [],
   "source": [
    "reaction = cobra.Reaction('ATHyd')\n",
    "reaction.name = 'ATP hydrolysis'\n",
    "atp = gpseq_model.metabolites.cpd00002_c0\n",
    "water = gpseq_model.metabolites.cpd00001_c0\n",
    "adp = gpseq_model.metabolites.cpd00008_c0\n",
    "pi = gpseq_model.metabolites.cpd00009_c0\n",
    "proton = gpseq_model.metabolites.cpd00067_c0\n",
    "\n",
    "reaction.add_metabolites({atp:-1, water:-1, adp:1, pi:1, proton:1})\n",
    "\n",
    "reaction.lower_bound=0\n",
    "reaction.upper_bound=1000\n",
    "\n",
    "gpseq_model.add_reactions([reaction])\n",
    "\n",
    "\n",
    "gpseq_model.reactions.ATHyd.objective_coefficient=1\n",
    "gpseq_model.reactions.bio1.objective_coefficient=0"
   ]
  },
  {
   "cell_type": "code",
   "execution_count": 8,
   "id": "23b8ed94",
   "metadata": {},
   "outputs": [
    {
     "name": "stdout",
     "output_type": "stream",
     "text": [
      "0.0\n",
      "rxn00001_c0       0.0\n",
      "rxn00002_c0       0.0\n",
      "rxn00003_c0       0.0\n",
      "rxn00004_c0       0.0\n",
      "rxn00006_c0       0.0\n",
      "                 ... \n",
      "EX_cpd00178_e0    0.0\n",
      "EX_cpd01618_e0    0.0\n",
      "bio1              0.0\n",
      "DM_cpd01042_c0    0.0\n",
      "ATHyd             0.0\n",
      "Name: fluxes, Length: 3847, dtype: float64\n"
     ]
    }
   ],
   "source": [
    "solution = gpseq_model.optimize()\n",
    "print(solution.objective_value)\n",
    "\n",
    "print(solution.fluxes)"
   ]
  },
  {
   "cell_type": "markdown",
   "id": "dfacd17a",
   "metadata": {},
   "source": [
    "Finally, to save the modified model as an XML file"
   ]
  },
  {
   "cell_type": "code",
   "execution_count": 9,
   "id": "d191792d",
   "metadata": {},
   "outputs": [],
   "source": [
    "new_model_location = os.path.join(path.parent, 'files',  'models', 'all_bins-draft_ATP_Obj.xml')\n",
    "cobra.io.write_sbml_model(gpseq_model, new_model_location)"
   ]
  },
  {
   "cell_type": "markdown",
   "id": "aac4d5e1",
   "metadata": {},
   "source": [
    "### Gapfilling a model on complete media with equally penalized database reactions\n",
    "\n",
    "Use the function gapfill_function.gapfill\n",
    "\n",
    "as inputs use:\n",
    "\n",
    "1) The reaction ids of your draft model as a set that we call 'draft_reaction_ids'\n",
    "\n"
   ]
  },
  {
   "cell_type": "code",
   "execution_count": 10,
   "id": "274da884",
   "metadata": {},
   "outputs": [],
   "source": [
    "model_location = os.path.join(path.parent, 'files',  'models', 'all_bins-draft_ATP_Obj.xml')\n",
    "draft_model = Reaction(model=model_location)\n",
    "draft_model_cobra_obj = cobra.io.read_sbml_model(model_location) #this will later be used to retrieve the genes of the draft model\n",
    "draft_reaction_ids = set(draft_model.reactions) "
   ]
  },
  {
   "cell_type": "markdown",
   "id": "138d3849",
   "metadata": {},
   "source": [
    "2) A Reaction class object that contains all the reactions of the ModelSeed database, called 'all_reactions' "
   ]
  },
  {
   "cell_type": "code",
   "execution_count": 11,
   "id": "e40ee2f3",
   "metadata": {},
   "outputs": [],
   "source": [
    "# Load the database reactions.tsv file\n",
    "biochem = os.path.join(path.parent, 'files',  'biochemistry', 'reactions.tsv')\n",
    "db_reactions = Reaction(biochem_input=biochem)\n",
    "\n",
    "#Combine all reactions into one object\n",
    "\n",
    "all_reactions = Reaction()\n",
    "all_reactions.reactions = all_reactions.add_dict(draft_model.reactions, db_reactions.reactions) "
   ]
  },
  {
   "cell_type": "markdown",
   "id": "6a00319b",
   "metadata": {},
   "source": [
    "3) the id of an objective function, in our case 'bio1' or 'ATHyd'\n",
    "\n",
    "4) A method to select the best gapfilled sets. In this case we use the minimum number of added reactions 'min_reactions'"
   ]
  },
  {
   "cell_type": "code",
   "execution_count": 12,
   "id": "47fbb153",
   "metadata": {},
   "outputs": [
    {
     "name": "stdout",
     "output_type": "stream",
     "text": [
      "Warning for adding constraints: zero or small (< 1e-13) coefficients, ignored\n",
      "Delta is 70671.00\n",
      "Warning for adding constraints: zero or small (< 1e-13) coefficients, ignored\n",
      "Flux through biomass reaction is 1.00000000\n",
      "Delta is 35335.00\n",
      "Warning for adding constraints: zero or small (< 1e-13) coefficients, ignored\n",
      "Flux through biomass reaction is 1.00000000\n",
      "Delta is 17667.00\n",
      "Warning for adding constraints: zero or small (< 1e-13) coefficients, ignored\n",
      "Flux through biomass reaction is 1.00000000\n",
      "Delta is 8833.00\n",
      "Warning for adding constraints: zero or small (< 1e-13) coefficients, ignored\n",
      "Flux through biomass reaction is 1.00000000\n",
      "Delta is 4416.00\n",
      "Warning for adding constraints: zero or small (< 1e-13) coefficients, ignored\n",
      "Flux through biomass reaction is 1.00000000\n",
      "Delta is 2208.00\n",
      "Warning for adding constraints: zero or small (< 1e-13) coefficients, ignored\n",
      "Flux through biomass reaction is 1.00000000\n",
      "Delta is 1104.00\n",
      "Warning for adding constraints: zero or small (< 1e-13) coefficients, ignored\n",
      "Flux through biomass reaction is 1.00000000\n",
      "Delta is 552.00\n",
      "Warning for adding constraints: zero or small (< 1e-13) coefficients, ignored\n",
      "Flux through biomass reaction is 1.00000000\n",
      "Delta is 276.00\n",
      "Warning for adding constraints: zero or small (< 1e-13) coefficients, ignored\n",
      "Flux through biomass reaction is 1.00000000\n",
      "Delta is 138.00\n",
      "Warning for adding constraints: zero or small (< 1e-13) coefficients, ignored\n",
      "Flux through biomass reaction is 1.00000000\n",
      "Delta is 69.00\n",
      "Warning for adding constraints: zero or small (< 1e-13) coefficients, ignored\n",
      "Flux through biomass reaction is 1.00000000\n",
      "Delta is 34.00\n",
      "Warning for adding constraints: zero or small (< 1e-13) coefficients, ignored\n",
      "Flux through biomass reaction is 1.00000000\n",
      "Delta is 17.00\n",
      "Warning for adding constraints: zero or small (< 1e-13) coefficients, ignored\n",
      "Flux through biomass reaction is 1.00000000\n",
      "Delta is 8.00\n",
      "Warning for adding constraints: zero or small (< 1e-13) coefficients, ignored\n",
      "Flux through biomass reaction is 0.60693822\n",
      "Delta is 4.00\n",
      "Warning for adding constraints: zero or small (< 1e-13) coefficients, ignored\n",
      "Flux through objective reaction is 0.00000000\n",
      "Delta is 6.00\n",
      "Warning for adding constraints: zero or small (< 1e-13) coefficients, ignored\n",
      "Flux through objective reaction is 0.00000000\n",
      "Delta is 7.00\n",
      "Warning for adding constraints: zero or small (< 1e-13) coefficients, ignored\n",
      "Flux through biomass reaction is 0.36469980\n",
      "Objective value is 1.000000.\n"
     ]
    }
   ],
   "source": [
    "model, obj, new_reacs = gapfill_function.gapfill(all_reactions, draft_reaction_ids, {}, 'bio1', medium = 'complete', result_selection = 'min_reactions')\n"
   ]
  },
  {
   "cell_type": "markdown",
   "id": "a1919a9f",
   "metadata": {},
   "source": [
    "The added reactions as listed in the 'new_reacs' list and a cobrapy model object is generated called 'model'"
   ]
  },
  {
   "cell_type": "code",
   "execution_count": 13,
   "id": "52699e8e",
   "metadata": {},
   "outputs": [
    {
     "name": "stdout",
     "output_type": "stream",
     "text": [
      "number of added reactions :  78\n",
      "number of reactions in model :  3741\n",
      "number of metabolites in model :  3132\n",
      "objective value : 1.0\n"
     ]
    }
   ],
   "source": [
    "print('number of added reactions : ', len(new_reacs))\n",
    "print('number of reactions in model : ', len(model.reactions))\n",
    "print('number of metabolites in model : ', len(model.metabolites))\n",
    "\n",
    "#run FBA\n",
    "solution = model.optimize()\n",
    "print('objective value :' , solution.objective_value)"
   ]
  },
  {
   "cell_type": "markdown",
   "id": "8ad8142f",
   "metadata": {},
   "source": [
    "The returned model only has reaction and metabolite ids and the upper and lower bounds are fixed between -1 and 1.\n",
    "\n",
    "To obtain a model with all the annotations from the modelSEED database and internal fluxes constrained between -1000 and 1000, plus the gene annotations from  the draft model run:"
   ]
  },
  {
   "cell_type": "code",
   "execution_count": 14,
   "id": "d5ee8d07",
   "metadata": {},
   "outputs": [
    {
     "name": "stdout",
     "output_type": "stream",
     "text": [
      "Read LP format model from file /tmp/tmpq16jm1oq.lp\n",
      "Reading time = 0.04 seconds\n",
      ": 3132 rows, 7482 columns, 35642 nonzeros\n"
     ]
    }
   ],
   "source": [
    "refined_model = refine_model(model, draft_model_cobra_obj)"
   ]
  },
  {
   "cell_type": "code",
   "execution_count": 15,
   "id": "3f9b1544",
   "metadata": {},
   "outputs": [
    {
     "name": "stdout",
     "output_type": "stream",
     "text": [
      "1.0\n"
     ]
    }
   ],
   "source": [
    "solution = refined_model.optimize()\n",
    "print(solution.objective_value) #the exchange reactions are still bounded between -1 and 1"
   ]
  },
  {
   "cell_type": "markdown",
   "id": "ea716ecb",
   "metadata": {},
   "source": [
    "save the model"
   ]
  },
  {
   "cell_type": "code",
   "execution_count": 16,
   "id": "a41f15a2",
   "metadata": {},
   "outputs": [
    {
     "ename": "ValueError",
     "evalue": "invalid null reference in method 'Species_setCompartment', argument 2 of type 'std::string const &'",
     "output_type": "error",
     "traceback": [
      "\u001b[0;31m---------------------------------------------------------------------------\u001b[0m",
      "\u001b[0;31mValueError\u001b[0m                                Traceback (most recent call last)",
      "Input \u001b[0;32mIn [16]\u001b[0m, in \u001b[0;36m<module>\u001b[0;34m\u001b[0m\n\u001b[1;32m      1\u001b[0m gapfilled_model_location \u001b[38;5;241m=\u001b[39m os\u001b[38;5;241m.\u001b[39mpath\u001b[38;5;241m.\u001b[39mjoin(path\u001b[38;5;241m.\u001b[39mparent, \u001b[38;5;124m'\u001b[39m\u001b[38;5;124mfiles\u001b[39m\u001b[38;5;124m'\u001b[39m,  \u001b[38;5;124m'\u001b[39m\u001b[38;5;124mmodels\u001b[39m\u001b[38;5;124m'\u001b[39m, \u001b[38;5;124m'\u001b[39m\u001b[38;5;124mall_bins-full_media_gpfilled.xml\u001b[39m\u001b[38;5;124m'\u001b[39m)\n\u001b[0;32m----> 2\u001b[0m \u001b[43mcobra\u001b[49m\u001b[38;5;241;43m.\u001b[39;49m\u001b[43mio\u001b[49m\u001b[38;5;241;43m.\u001b[39;49m\u001b[43mwrite_sbml_model\u001b[49m\u001b[43m(\u001b[49m\u001b[43mrefined_model\u001b[49m\u001b[43m,\u001b[49m\u001b[43m \u001b[49m\u001b[43mgapfilled_model_location\u001b[49m\u001b[43m)\u001b[49m\n",
      "File \u001b[0;32m~/miniconda3/envs/cob/lib/python3.9/site-packages/cobra/io/sbml.py:963\u001b[0m, in \u001b[0;36mwrite_sbml_model\u001b[0;34m(cobra_model, filename, f_replace, **kwargs)\u001b[0m\n\u001b[1;32m    936\u001b[0m \u001b[38;5;28;01mdef\u001b[39;00m \u001b[38;5;21mwrite_sbml_model\u001b[39m(cobra_model, filename, f_replace\u001b[38;5;241m=\u001b[39mF_REPLACE, \u001b[38;5;241m*\u001b[39m\u001b[38;5;241m*\u001b[39mkwargs):\n\u001b[1;32m    937\u001b[0m     \u001b[38;5;124;03m\"\"\"Writes cobra model to filename.\u001b[39;00m\n\u001b[1;32m    938\u001b[0m \n\u001b[1;32m    939\u001b[0m \u001b[38;5;124;03m    The created model is SBML level 3 version 1 (L1V3) with\u001b[39;00m\n\u001b[0;32m   (...)\u001b[0m\n\u001b[1;32m    961\u001b[0m \u001b[38;5;124;03m    f_replace: dict of replacement functions for id replacement\u001b[39;00m\n\u001b[1;32m    962\u001b[0m \u001b[38;5;124;03m    \"\"\"\u001b[39;00m\n\u001b[0;32m--> 963\u001b[0m     doc \u001b[38;5;241m=\u001b[39m \u001b[43m_model_to_sbml\u001b[49m\u001b[43m(\u001b[49m\u001b[43mcobra_model\u001b[49m\u001b[43m,\u001b[49m\u001b[43m \u001b[49m\u001b[43mf_replace\u001b[49m\u001b[38;5;241;43m=\u001b[39;49m\u001b[43mf_replace\u001b[49m\u001b[43m,\u001b[49m\u001b[43m \u001b[49m\u001b[38;5;241;43m*\u001b[39;49m\u001b[38;5;241;43m*\u001b[39;49m\u001b[43mkwargs\u001b[49m\u001b[43m)\u001b[49m\n\u001b[1;32m    965\u001b[0m     \u001b[38;5;28;01mif\u001b[39;00m \u001b[38;5;28misinstance\u001b[39m(filename, \u001b[38;5;28mstr\u001b[39m):\n\u001b[1;32m    966\u001b[0m         \u001b[38;5;66;03m# write to path\u001b[39;00m\n\u001b[1;32m    967\u001b[0m         libsbml\u001b[38;5;241m.\u001b[39mwriteSBMLToFile(doc, filename)\n",
      "File \u001b[0;32m~/miniconda3/envs/cob/lib/python3.9/site-packages/cobra/io/sbml.py:1113\u001b[0m, in \u001b[0;36m_model_to_sbml\u001b[0;34m(cobra_model, f_replace, units)\u001b[0m\n\u001b[1;32m   1111\u001b[0m specie\u001b[38;5;241m.\u001b[39msetHasOnlySubstanceUnits(\u001b[38;5;28;01mFalse\u001b[39;00m)\n\u001b[1;32m   1112\u001b[0m specie\u001b[38;5;241m.\u001b[39msetName(metabolite\u001b[38;5;241m.\u001b[39mname)\n\u001b[0;32m-> 1113\u001b[0m \u001b[43mspecie\u001b[49m\u001b[38;5;241;43m.\u001b[39;49m\u001b[43msetCompartment\u001b[49m\u001b[43m(\u001b[49m\u001b[43mmetabolite\u001b[49m\u001b[38;5;241;43m.\u001b[39;49m\u001b[43mcompartment\u001b[49m\u001b[43m)\u001b[49m\n\u001b[1;32m   1114\u001b[0m s_fbc \u001b[38;5;241m=\u001b[39m specie\u001b[38;5;241m.\u001b[39mgetPlugin(\u001b[38;5;124m\"\u001b[39m\u001b[38;5;124mfbc\u001b[39m\u001b[38;5;124m\"\u001b[39m)  \u001b[38;5;66;03m# type: libsbml.FbcSpeciesPlugin\u001b[39;00m\n\u001b[1;32m   1115\u001b[0m \u001b[38;5;28;01mif\u001b[39;00m metabolite\u001b[38;5;241m.\u001b[39mcharge \u001b[38;5;129;01mis\u001b[39;00m \u001b[38;5;129;01mnot\u001b[39;00m \u001b[38;5;28;01mNone\u001b[39;00m:\n",
      "File \u001b[0;32m~/miniconda3/envs/cob/lib/python3.9/site-packages/libsbml/__init__.py:24056\u001b[0m, in \u001b[0;36mSpecies.setCompartment\u001b[0;34m(self, sid)\u001b[0m\n\u001b[1;32m  24039\u001b[0m \u001b[38;5;28;01mdef\u001b[39;00m \u001b[38;5;21msetCompartment\u001b[39m(\u001b[38;5;28mself\u001b[39m, sid):\n\u001b[1;32m  24040\u001b[0m     \u001b[38;5;124mr\u001b[39m\u001b[38;5;124;03m\"\"\"\u001b[39;00m\n\u001b[1;32m  24041\u001b[0m \u001b[38;5;124;03m    setCompartment(Species self, string sid) -> int\u001b[39;00m\n\u001b[1;32m  24042\u001b[0m \n\u001b[0;32m   (...)\u001b[0m\n\u001b[1;32m  24054\u001b[0m \n\u001b[1;32m  24055\u001b[0m \u001b[38;5;124;03m    \"\"\"\u001b[39;00m\n\u001b[0;32m> 24056\u001b[0m     \u001b[38;5;28;01mreturn\u001b[39;00m \u001b[43m_libsbml\u001b[49m\u001b[38;5;241;43m.\u001b[39;49m\u001b[43mSpecies_setCompartment\u001b[49m\u001b[43m(\u001b[49m\u001b[38;5;28;43mself\u001b[39;49m\u001b[43m,\u001b[49m\u001b[43m \u001b[49m\u001b[43msid\u001b[49m\u001b[43m)\u001b[49m\n",
      "\u001b[0;31mValueError\u001b[0m: invalid null reference in method 'Species_setCompartment', argument 2 of type 'std::string const &'"
     ]
    }
   ],
   "source": [
    "gapfilled_model_location = os.path.join(path.parent, 'files',  'models', 'all_bins-full_media_gpfilled.xml')\n",
    "cobra.io.write_sbml_model(refined_model, gapfilled_model_location)"
   ]
  },
  {
   "cell_type": "markdown",
   "id": "17529b83",
   "metadata": {},
   "source": [
    "### Gapfilling a model on a defined media\n",
    "\n",
    "We need the same inputs as above, but now we also need a media\n",
    "\n"
   ]
  },
  {
   "cell_type": "code",
   "execution_count": 17,
   "id": "c25e9de4",
   "metadata": {},
   "outputs": [],
   "source": [
    "media_file = os.path.join(path.parent, 'files', 'biochemistry', 'Nitrogen-Nitrite_media.tsv')\n",
    "\n",
    "Nit_media = {}\n",
    "\n",
    "with open(media_file) as f:\n",
    "    f.readline()\n",
    "    for line in f:\n",
    "        a = line.strip().split('\\t')\n",
    "        Nit_media['EX_' + a[0] + '_e0'] = {'lower_bound':-1, 'upper_bound':1, 'metabolites':{a[0]+'_e0':-1.0}}"
   ]
  },
  {
   "cell_type": "code",
   "execution_count": 18,
   "id": "d18d094c",
   "metadata": {},
   "outputs": [
    {
     "name": "stdout",
     "output_type": "stream",
     "text": [
      "Warning for adding constraints: zero or small (< 1e-13) coefficients, ignored\n",
      "Delta is 65919.00\n",
      "Warning for adding constraints: zero or small (< 1e-13) coefficients, ignored\n",
      "Flux through biomass reaction is 1.00000000\n",
      "Delta is 32959.00\n",
      "Warning for adding constraints: zero or small (< 1e-13) coefficients, ignored\n",
      "Flux through biomass reaction is 1.00000000\n",
      "Delta is 16479.00\n",
      "Warning for adding constraints: zero or small (< 1e-13) coefficients, ignored\n",
      "Flux through biomass reaction is 1.00000000\n",
      "Delta is 8239.00\n",
      "Warning for adding constraints: zero or small (< 1e-13) coefficients, ignored\n",
      "Flux through biomass reaction is 1.00000000\n",
      "Delta is 4119.00\n",
      "Warning for adding constraints: zero or small (< 1e-13) coefficients, ignored\n",
      "Flux through biomass reaction is 1.00000000\n",
      "Delta is 2059.00\n",
      "Warning for adding constraints: zero or small (< 1e-13) coefficients, ignored\n",
      "Flux through biomass reaction is 1.00000000\n",
      "Delta is 1029.00\n",
      "Warning for adding constraints: zero or small (< 1e-13) coefficients, ignored\n",
      "Flux through biomass reaction is 1.00000000\n",
      "Delta is 514.00\n",
      "Warning for adding constraints: zero or small (< 1e-13) coefficients, ignored\n",
      "Flux through biomass reaction is 1.00000000\n",
      "Delta is 257.00\n",
      "Warning for adding constraints: zero or small (< 1e-13) coefficients, ignored\n",
      "Flux through biomass reaction is 1.00000000\n",
      "Delta is 128.00\n",
      "Warning for adding constraints: zero or small (< 1e-13) coefficients, ignored\n",
      "Flux through biomass reaction is 1.00000000\n",
      "Delta is 64.00\n",
      "Warning for adding constraints: zero or small (< 1e-13) coefficients, ignored\n",
      "Flux through biomass reaction is 1.00000000\n",
      "Delta is 32.00\n",
      "Warning for adding constraints: zero or small (< 1e-13) coefficients, ignored\n",
      "Flux through biomass reaction is 1.00000000\n",
      "Delta is 16.00\n",
      "Warning for adding constraints: zero or small (< 1e-13) coefficients, ignored\n",
      "Flux through biomass reaction is 1.00000000\n",
      "Delta is 8.00\n",
      "Warning for adding constraints: zero or small (< 1e-13) coefficients, ignored\n",
      "Flux through biomass reaction is 1.00000000\n",
      "Delta is 4.00\n",
      "Warning for adding constraints: zero or small (< 1e-13) coefficients, ignored\n",
      "Flux through biomass reaction is 1.00000000\n",
      "Delta is 2.00\n",
      "Warning for adding constraints: zero or small (< 1e-13) coefficients, ignored\n",
      "Flux through biomass reaction is 1.00000000\n",
      "Delta is 1.00\n",
      "Warning for adding constraints: zero or small (< 1e-13) coefficients, ignored\n",
      "Flux through biomass reaction is 1.00000000\n",
      "Objective value is 1.000000.\n"
     ]
    }
   ],
   "source": [
    "model2, obj2, new_reacs2 = gapfill_function.gapfill(all_reactions, draft_reaction_ids, {}, 'ATHyd', result_selection = 'min_reactions', medium=Nit_media)\n"
   ]
  },
  {
   "cell_type": "code",
   "execution_count": 19,
   "id": "58b16532",
   "metadata": {},
   "outputs": [
    {
     "name": "stdout",
     "output_type": "stream",
     "text": [
      "number of added reactions :  4\n",
      "objective value :  1.0\n"
     ]
    }
   ],
   "source": [
    "print('number of added reactions : ', len(new_reacs2))\n",
    "solution = model2.optimize()\n",
    "print('objective value : ', solution.objective_value)"
   ]
  },
  {
   "cell_type": "code",
   "execution_count": 20,
   "id": "df455b2c",
   "metadata": {},
   "outputs": [
    {
     "name": "stdout",
     "output_type": "stream",
     "text": [
      "Read LP format model from file /tmp/tmptz1zaiy3.lp\n",
      "Reading time = 0.03 seconds\n",
      ": 3113 rows, 7334 columns, 34746 nonzeros\n"
     ]
    },
    {
     "ename": "ValueError",
     "evalue": "invalid null reference in method 'Species_setCompartment', argument 2 of type 'std::string const &'",
     "output_type": "error",
     "traceback": [
      "\u001b[0;31m---------------------------------------------------------------------------\u001b[0m",
      "\u001b[0;31mValueError\u001b[0m                                Traceback (most recent call last)",
      "Input \u001b[0;32mIn [20]\u001b[0m, in \u001b[0;36m<module>\u001b[0;34m\u001b[0m\n\u001b[1;32m      1\u001b[0m refined_model2 \u001b[38;5;241m=\u001b[39m refine_model(model2, draft_model_cobra_obj)\n\u001b[1;32m      2\u001b[0m gapfilled_model_location \u001b[38;5;241m=\u001b[39m os\u001b[38;5;241m.\u001b[39mpath\u001b[38;5;241m.\u001b[39mjoin(path\u001b[38;5;241m.\u001b[39mparent, \u001b[38;5;124m'\u001b[39m\u001b[38;5;124mfiles\u001b[39m\u001b[38;5;124m'\u001b[39m,  \u001b[38;5;124m'\u001b[39m\u001b[38;5;124mmodels\u001b[39m\u001b[38;5;124m'\u001b[39m, \u001b[38;5;124m'\u001b[39m\u001b[38;5;124mall_bins-defined_media_gpfilled.xml\u001b[39m\u001b[38;5;124m'\u001b[39m)\n\u001b[0;32m----> 3\u001b[0m \u001b[43mcobra\u001b[49m\u001b[38;5;241;43m.\u001b[39;49m\u001b[43mio\u001b[49m\u001b[38;5;241;43m.\u001b[39;49m\u001b[43mwrite_sbml_model\u001b[49m\u001b[43m(\u001b[49m\u001b[43mrefined_model2\u001b[49m\u001b[43m,\u001b[49m\u001b[43m \u001b[49m\u001b[43mgapfilled_model_location\u001b[49m\u001b[43m)\u001b[49m\n",
      "File \u001b[0;32m~/miniconda3/envs/cob/lib/python3.9/site-packages/cobra/io/sbml.py:963\u001b[0m, in \u001b[0;36mwrite_sbml_model\u001b[0;34m(cobra_model, filename, f_replace, **kwargs)\u001b[0m\n\u001b[1;32m    936\u001b[0m \u001b[38;5;28;01mdef\u001b[39;00m \u001b[38;5;21mwrite_sbml_model\u001b[39m(cobra_model, filename, f_replace\u001b[38;5;241m=\u001b[39mF_REPLACE, \u001b[38;5;241m*\u001b[39m\u001b[38;5;241m*\u001b[39mkwargs):\n\u001b[1;32m    937\u001b[0m     \u001b[38;5;124;03m\"\"\"Writes cobra model to filename.\u001b[39;00m\n\u001b[1;32m    938\u001b[0m \n\u001b[1;32m    939\u001b[0m \u001b[38;5;124;03m    The created model is SBML level 3 version 1 (L1V3) with\u001b[39;00m\n\u001b[0;32m   (...)\u001b[0m\n\u001b[1;32m    961\u001b[0m \u001b[38;5;124;03m    f_replace: dict of replacement functions for id replacement\u001b[39;00m\n\u001b[1;32m    962\u001b[0m \u001b[38;5;124;03m    \"\"\"\u001b[39;00m\n\u001b[0;32m--> 963\u001b[0m     doc \u001b[38;5;241m=\u001b[39m \u001b[43m_model_to_sbml\u001b[49m\u001b[43m(\u001b[49m\u001b[43mcobra_model\u001b[49m\u001b[43m,\u001b[49m\u001b[43m \u001b[49m\u001b[43mf_replace\u001b[49m\u001b[38;5;241;43m=\u001b[39;49m\u001b[43mf_replace\u001b[49m\u001b[43m,\u001b[49m\u001b[43m \u001b[49m\u001b[38;5;241;43m*\u001b[39;49m\u001b[38;5;241;43m*\u001b[39;49m\u001b[43mkwargs\u001b[49m\u001b[43m)\u001b[49m\n\u001b[1;32m    965\u001b[0m     \u001b[38;5;28;01mif\u001b[39;00m \u001b[38;5;28misinstance\u001b[39m(filename, \u001b[38;5;28mstr\u001b[39m):\n\u001b[1;32m    966\u001b[0m         \u001b[38;5;66;03m# write to path\u001b[39;00m\n\u001b[1;32m    967\u001b[0m         libsbml\u001b[38;5;241m.\u001b[39mwriteSBMLToFile(doc, filename)\n",
      "File \u001b[0;32m~/miniconda3/envs/cob/lib/python3.9/site-packages/cobra/io/sbml.py:1113\u001b[0m, in \u001b[0;36m_model_to_sbml\u001b[0;34m(cobra_model, f_replace, units)\u001b[0m\n\u001b[1;32m   1111\u001b[0m specie\u001b[38;5;241m.\u001b[39msetHasOnlySubstanceUnits(\u001b[38;5;28;01mFalse\u001b[39;00m)\n\u001b[1;32m   1112\u001b[0m specie\u001b[38;5;241m.\u001b[39msetName(metabolite\u001b[38;5;241m.\u001b[39mname)\n\u001b[0;32m-> 1113\u001b[0m \u001b[43mspecie\u001b[49m\u001b[38;5;241;43m.\u001b[39;49m\u001b[43msetCompartment\u001b[49m\u001b[43m(\u001b[49m\u001b[43mmetabolite\u001b[49m\u001b[38;5;241;43m.\u001b[39;49m\u001b[43mcompartment\u001b[49m\u001b[43m)\u001b[49m\n\u001b[1;32m   1114\u001b[0m s_fbc \u001b[38;5;241m=\u001b[39m specie\u001b[38;5;241m.\u001b[39mgetPlugin(\u001b[38;5;124m\"\u001b[39m\u001b[38;5;124mfbc\u001b[39m\u001b[38;5;124m\"\u001b[39m)  \u001b[38;5;66;03m# type: libsbml.FbcSpeciesPlugin\u001b[39;00m\n\u001b[1;32m   1115\u001b[0m \u001b[38;5;28;01mif\u001b[39;00m metabolite\u001b[38;5;241m.\u001b[39mcharge \u001b[38;5;129;01mis\u001b[39;00m \u001b[38;5;129;01mnot\u001b[39;00m \u001b[38;5;28;01mNone\u001b[39;00m:\n",
      "File \u001b[0;32m~/miniconda3/envs/cob/lib/python3.9/site-packages/libsbml/__init__.py:24056\u001b[0m, in \u001b[0;36mSpecies.setCompartment\u001b[0;34m(self, sid)\u001b[0m\n\u001b[1;32m  24039\u001b[0m \u001b[38;5;28;01mdef\u001b[39;00m \u001b[38;5;21msetCompartment\u001b[39m(\u001b[38;5;28mself\u001b[39m, sid):\n\u001b[1;32m  24040\u001b[0m     \u001b[38;5;124mr\u001b[39m\u001b[38;5;124;03m\"\"\"\u001b[39;00m\n\u001b[1;32m  24041\u001b[0m \u001b[38;5;124;03m    setCompartment(Species self, string sid) -> int\u001b[39;00m\n\u001b[1;32m  24042\u001b[0m \n\u001b[0;32m   (...)\u001b[0m\n\u001b[1;32m  24054\u001b[0m \n\u001b[1;32m  24055\u001b[0m \u001b[38;5;124;03m    \"\"\"\u001b[39;00m\n\u001b[0;32m> 24056\u001b[0m     \u001b[38;5;28;01mreturn\u001b[39;00m \u001b[43m_libsbml\u001b[49m\u001b[38;5;241;43m.\u001b[39;49m\u001b[43mSpecies_setCompartment\u001b[49m\u001b[43m(\u001b[49m\u001b[38;5;28;43mself\u001b[39;49m\u001b[43m,\u001b[49m\u001b[43m \u001b[49m\u001b[43msid\u001b[49m\u001b[43m)\u001b[49m\n",
      "\u001b[0;31mValueError\u001b[0m: invalid null reference in method 'Species_setCompartment', argument 2 of type 'std::string const &'"
     ]
    }
   ],
   "source": [
    "refined_model2 = refine_model(model2, draft_model_cobra_obj)\n",
    "gapfilled_model_location = os.path.join(path.parent, 'files',  'models', 'all_bins-defined_media_gpfilled.xml')\n",
    "cobra.io.write_sbml_model(refined_model2, gapfilled_model_location)\n"
   ]
  },
  {
   "cell_type": "markdown",
   "id": "ffcb896c",
   "metadata": {},
   "source": [
    "### Gapfilig a model with different costs for reactions\n",
    "\n",
    "Now we need to provide a python dictionary with reaction costs. The function will automatically give a cost of zero to reactions that are already in the draft model and also to the exchange reactions of the defined media. It will give a default cost (set to 1) to reactions that are not in the draft model nor in the dictionary with costs."
   ]
  },
  {
   "cell_type": "code",
   "execution_count": 25,
   "id": "6af15113",
   "metadata": {},
   "outputs": [],
   "source": [
    "# #select random reaction and add random costs between 0 and 1\n",
    "# candidate_reactions = {}\n",
    "# for i in  all_reactions.reactions:\n",
    "#     if np.random.uniform()<0.02:\n",
    "#         candidate_reactions[i] = np.random.uniform()\n",
    "\n",
    "        \n",
    "#use NN scores        \n",
    "s_file = open(os.path.join(path.parent, 'files', 'custom scores','prediction_example.json'))\n",
    "NN_scores = json.loads(s_file.read())\n",
    "s_file.close()\n",
    "\n",
    "\n",
    "\n",
    "candidate_reactions = {}\n",
    "for i in all_reactions.reactions:\n",
    "    if i in NN_scores.keys():\n",
    "        candidate_reactions[i] = NN_scores[i]\n"
   ]
  },
  {
   "cell_type": "markdown",
   "id": "8ade2a07",
   "metadata": {},
   "source": [
    "We will also use a different criteria to choose the gapfilled reaction. Instead of 'min_reactions' we use 'min_cost', selecting the set with a minimum sum of costs."
   ]
  },
  {
   "cell_type": "code",
   "execution_count": 26,
   "id": "c33238f9",
   "metadata": {},
   "outputs": [
    {
     "name": "stdout",
     "output_type": "stream",
     "text": [
      "Warning for adding constraints: zero or small (< 1e-13) coefficients, ignored\n",
      "Delta is 65919.00\n",
      "Warning for adding constraints: zero or small (< 1e-13) coefficients, ignored\n",
      "Flux through biomass reaction is 1.00000000\n",
      "Delta is 32959.00\n",
      "Warning for adding constraints: zero or small (< 1e-13) coefficients, ignored\n",
      "Flux through biomass reaction is 1.00000000\n",
      "Delta is 16479.00\n",
      "Warning for adding constraints: zero or small (< 1e-13) coefficients, ignored\n",
      "Flux through biomass reaction is 1.00000000\n",
      "Delta is 8239.00\n",
      "Warning for adding constraints: zero or small (< 1e-13) coefficients, ignored\n",
      "Flux through biomass reaction is 1.00000000\n",
      "Delta is 4119.00\n",
      "Warning for adding constraints: zero or small (< 1e-13) coefficients, ignored\n",
      "Flux through biomass reaction is 1.00000000\n",
      "Delta is 2059.00\n",
      "Warning for adding constraints: zero or small (< 1e-13) coefficients, ignored\n",
      "Flux through biomass reaction is 1.00000000\n",
      "Delta is 1029.00\n",
      "Warning for adding constraints: zero or small (< 1e-13) coefficients, ignored\n",
      "Flux through biomass reaction is 1.00000000\n",
      "Delta is 514.00\n",
      "Warning for adding constraints: zero or small (< 1e-13) coefficients, ignored\n",
      "Flux through biomass reaction is 1.00000000\n",
      "Delta is 257.00\n",
      "Warning for adding constraints: zero or small (< 1e-13) coefficients, ignored\n",
      "Flux through biomass reaction is 1.00000000\n",
      "Delta is 128.00\n",
      "Warning for adding constraints: zero or small (< 1e-13) coefficients, ignored\n",
      "Flux through biomass reaction is 1.00000000\n",
      "Delta is 64.00\n",
      "Warning for adding constraints: zero or small (< 1e-13) coefficients, ignored\n",
      "Flux through biomass reaction is 1.00000000\n",
      "Delta is 32.00\n",
      "Warning for adding constraints: zero or small (< 1e-13) coefficients, ignored\n",
      "Flux through biomass reaction is 1.00000000\n",
      "Delta is 16.00\n",
      "Warning for adding constraints: zero or small (< 1e-13) coefficients, ignored\n",
      "Flux through biomass reaction is 1.00000000\n",
      "Delta is 8.00\n",
      "Warning for adding constraints: zero or small (< 1e-13) coefficients, ignored\n",
      "Flux through biomass reaction is 1.00000000\n",
      "Delta is 4.00\n",
      "Warning for adding constraints: zero or small (< 1e-13) coefficients, ignored\n",
      "Flux through biomass reaction is 0.11547640\n",
      "Delta is 2.00\n",
      "Warning for adding constraints: zero or small (< 1e-13) coefficients, ignored\n",
      "Flux through biomass reaction is 0.06607937\n",
      "Delta is 1.00\n",
      "Warning for adding constraints: zero or small (< 1e-13) coefficients, ignored\n",
      "Flux through objective reaction is 0.00000000\n",
      "Objective value is 0.067217.\n"
     ]
    }
   ],
   "source": [
    "model3, obj3, new_reacs3 = gapfill_function.gapfill(all_reactions, draft_reaction_ids, candidate_reactions, 'bio1', result_selection = 'min_costs', medium=Nit_media)\n"
   ]
  },
  {
   "cell_type": "code",
   "execution_count": 27,
   "id": "7c4c2153",
   "metadata": {},
   "outputs": [
    {
     "name": "stdout",
     "output_type": "stream",
     "text": [
      "number of added reactions :  45\n",
      "0.06721719094409037\n"
     ]
    }
   ],
   "source": [
    "print('number of added reactions : ', len(new_reacs3))\n",
    "solution = model3.optimize()\n",
    "print(solution.objective_value)"
   ]
  },
  {
   "cell_type": "code",
   "execution_count": 28,
   "id": "15636a97",
   "metadata": {},
   "outputs": [
    {
     "name": "stdout",
     "output_type": "stream",
     "text": [
      "Read LP format model from file /tmp/tmphn6i5gdm.lp\n",
      "Reading time = 0.03 seconds\n",
      ": 3116 rows, 7416 columns, 35056 nonzeros\n"
     ]
    },
    {
     "ename": "ValueError",
     "evalue": "invalid null reference in method 'Species_setCompartment', argument 2 of type 'std::string const &'",
     "output_type": "error",
     "traceback": [
      "\u001b[0;31m---------------------------------------------------------------------------\u001b[0m",
      "\u001b[0;31mValueError\u001b[0m                                Traceback (most recent call last)",
      "Input \u001b[0;32mIn [28]\u001b[0m, in \u001b[0;36m<module>\u001b[0;34m\u001b[0m\n\u001b[1;32m      1\u001b[0m refined_model3 \u001b[38;5;241m=\u001b[39m refine_model(model3, draft_model_cobra_obj)\n\u001b[1;32m      2\u001b[0m gapfilled_model_location \u001b[38;5;241m=\u001b[39m os\u001b[38;5;241m.\u001b[39mpath\u001b[38;5;241m.\u001b[39mjoin(path\u001b[38;5;241m.\u001b[39mparent, \u001b[38;5;124m'\u001b[39m\u001b[38;5;124mfiles\u001b[39m\u001b[38;5;124m'\u001b[39m,  \u001b[38;5;124m'\u001b[39m\u001b[38;5;124mmodels\u001b[39m\u001b[38;5;124m'\u001b[39m, \u001b[38;5;124m'\u001b[39m\u001b[38;5;124mall_bins-random_weights_gpfilled.xml\u001b[39m\u001b[38;5;124m'\u001b[39m)\n\u001b[0;32m----> 3\u001b[0m \u001b[43mcobra\u001b[49m\u001b[38;5;241;43m.\u001b[39;49m\u001b[43mio\u001b[49m\u001b[38;5;241;43m.\u001b[39;49m\u001b[43mwrite_sbml_model\u001b[49m\u001b[43m(\u001b[49m\u001b[43mrefined_model3\u001b[49m\u001b[43m,\u001b[49m\u001b[43m \u001b[49m\u001b[43mgapfilled_model_location\u001b[49m\u001b[43m)\u001b[49m\n",
      "File \u001b[0;32m~/miniconda3/envs/cob/lib/python3.9/site-packages/cobra/io/sbml.py:963\u001b[0m, in \u001b[0;36mwrite_sbml_model\u001b[0;34m(cobra_model, filename, f_replace, **kwargs)\u001b[0m\n\u001b[1;32m    936\u001b[0m \u001b[38;5;28;01mdef\u001b[39;00m \u001b[38;5;21mwrite_sbml_model\u001b[39m(cobra_model, filename, f_replace\u001b[38;5;241m=\u001b[39mF_REPLACE, \u001b[38;5;241m*\u001b[39m\u001b[38;5;241m*\u001b[39mkwargs):\n\u001b[1;32m    937\u001b[0m     \u001b[38;5;124;03m\"\"\"Writes cobra model to filename.\u001b[39;00m\n\u001b[1;32m    938\u001b[0m \n\u001b[1;32m    939\u001b[0m \u001b[38;5;124;03m    The created model is SBML level 3 version 1 (L1V3) with\u001b[39;00m\n\u001b[0;32m   (...)\u001b[0m\n\u001b[1;32m    961\u001b[0m \u001b[38;5;124;03m    f_replace: dict of replacement functions for id replacement\u001b[39;00m\n\u001b[1;32m    962\u001b[0m \u001b[38;5;124;03m    \"\"\"\u001b[39;00m\n\u001b[0;32m--> 963\u001b[0m     doc \u001b[38;5;241m=\u001b[39m \u001b[43m_model_to_sbml\u001b[49m\u001b[43m(\u001b[49m\u001b[43mcobra_model\u001b[49m\u001b[43m,\u001b[49m\u001b[43m \u001b[49m\u001b[43mf_replace\u001b[49m\u001b[38;5;241;43m=\u001b[39;49m\u001b[43mf_replace\u001b[49m\u001b[43m,\u001b[49m\u001b[43m \u001b[49m\u001b[38;5;241;43m*\u001b[39;49m\u001b[38;5;241;43m*\u001b[39;49m\u001b[43mkwargs\u001b[49m\u001b[43m)\u001b[49m\n\u001b[1;32m    965\u001b[0m     \u001b[38;5;28;01mif\u001b[39;00m \u001b[38;5;28misinstance\u001b[39m(filename, \u001b[38;5;28mstr\u001b[39m):\n\u001b[1;32m    966\u001b[0m         \u001b[38;5;66;03m# write to path\u001b[39;00m\n\u001b[1;32m    967\u001b[0m         libsbml\u001b[38;5;241m.\u001b[39mwriteSBMLToFile(doc, filename)\n",
      "File \u001b[0;32m~/miniconda3/envs/cob/lib/python3.9/site-packages/cobra/io/sbml.py:1113\u001b[0m, in \u001b[0;36m_model_to_sbml\u001b[0;34m(cobra_model, f_replace, units)\u001b[0m\n\u001b[1;32m   1111\u001b[0m specie\u001b[38;5;241m.\u001b[39msetHasOnlySubstanceUnits(\u001b[38;5;28;01mFalse\u001b[39;00m)\n\u001b[1;32m   1112\u001b[0m specie\u001b[38;5;241m.\u001b[39msetName(metabolite\u001b[38;5;241m.\u001b[39mname)\n\u001b[0;32m-> 1113\u001b[0m \u001b[43mspecie\u001b[49m\u001b[38;5;241;43m.\u001b[39;49m\u001b[43msetCompartment\u001b[49m\u001b[43m(\u001b[49m\u001b[43mmetabolite\u001b[49m\u001b[38;5;241;43m.\u001b[39;49m\u001b[43mcompartment\u001b[49m\u001b[43m)\u001b[49m\n\u001b[1;32m   1114\u001b[0m s_fbc \u001b[38;5;241m=\u001b[39m specie\u001b[38;5;241m.\u001b[39mgetPlugin(\u001b[38;5;124m\"\u001b[39m\u001b[38;5;124mfbc\u001b[39m\u001b[38;5;124m\"\u001b[39m)  \u001b[38;5;66;03m# type: libsbml.FbcSpeciesPlugin\u001b[39;00m\n\u001b[1;32m   1115\u001b[0m \u001b[38;5;28;01mif\u001b[39;00m metabolite\u001b[38;5;241m.\u001b[39mcharge \u001b[38;5;129;01mis\u001b[39;00m \u001b[38;5;129;01mnot\u001b[39;00m \u001b[38;5;28;01mNone\u001b[39;00m:\n",
      "File \u001b[0;32m~/miniconda3/envs/cob/lib/python3.9/site-packages/libsbml/__init__.py:24056\u001b[0m, in \u001b[0;36mSpecies.setCompartment\u001b[0;34m(self, sid)\u001b[0m\n\u001b[1;32m  24039\u001b[0m \u001b[38;5;28;01mdef\u001b[39;00m \u001b[38;5;21msetCompartment\u001b[39m(\u001b[38;5;28mself\u001b[39m, sid):\n\u001b[1;32m  24040\u001b[0m     \u001b[38;5;124mr\u001b[39m\u001b[38;5;124;03m\"\"\"\u001b[39;00m\n\u001b[1;32m  24041\u001b[0m \u001b[38;5;124;03m    setCompartment(Species self, string sid) -> int\u001b[39;00m\n\u001b[1;32m  24042\u001b[0m \n\u001b[0;32m   (...)\u001b[0m\n\u001b[1;32m  24054\u001b[0m \n\u001b[1;32m  24055\u001b[0m \u001b[38;5;124;03m    \"\"\"\u001b[39;00m\n\u001b[0;32m> 24056\u001b[0m     \u001b[38;5;28;01mreturn\u001b[39;00m \u001b[43m_libsbml\u001b[49m\u001b[38;5;241;43m.\u001b[39;49m\u001b[43mSpecies_setCompartment\u001b[49m\u001b[43m(\u001b[49m\u001b[38;5;28;43mself\u001b[39;49m\u001b[43m,\u001b[49m\u001b[43m \u001b[49m\u001b[43msid\u001b[49m\u001b[43m)\u001b[49m\n",
      "\u001b[0;31mValueError\u001b[0m: invalid null reference in method 'Species_setCompartment', argument 2 of type 'std::string const &'"
     ]
    }
   ],
   "source": [
    "refined_model3 = refine_model(model3, draft_model_cobra_obj)\n",
    "gapfilled_model_location = os.path.join(path.parent, 'files',  'models', 'all_bins-random_weights_gpfilled.xml')\n",
    "cobra.io.write_sbml_model(refined_model3, gapfilled_model_location)"
   ]
  },
  {
   "cell_type": "markdown",
   "id": "4fec2071",
   "metadata": {},
   "source": [
    "### Quick idea of what to do when no flux is observed on a particular media\n",
    "\n",
    "\n",
    "1) Run a gapfill on the with complete media option (as in [5])\n",
    "\n",
    "2) Run flux variability analysis (for big models this takes a long time to run):"
   ]
  },
  {
   "cell_type": "code",
   "execution_count": 31,
   "id": "8e8375ed",
   "metadata": {},
   "outputs": [],
   "source": [
    "model_exchanges = [i for i in model.reactions if ('EX_' in i.id) and ('_e0' in i.id)]"
   ]
  },
  {
   "cell_type": "code",
   "execution_count": null,
   "id": "d784ff5d",
   "metadata": {},
   "outputs": [],
   "source": [
    "fva = cobra.flux_analysis.flux_variability_analysis(model, model_exchanges)\n",
    "print(fva)"
   ]
  },
  {
   "cell_type": "markdown",
   "id": "01c33bf2",
   "metadata": {},
   "source": [
    "The exchange reaction where the minimum and maximum are negative are likely required in the medium. They are essential for the objective and likely the database reactions have no way to make them, so gapdfilling does not wotrk."
   ]
  }
 ],
 "metadata": {
  "kernelspec": {
   "display_name": "Python 3 (ipykernel)",
   "language": "python",
   "name": "python3"
  },
  "language_info": {
   "codemirror_mode": {
    "name": "ipython",
    "version": 3
   },
   "file_extension": ".py",
   "mimetype": "text/x-python",
   "name": "python",
   "nbconvert_exporter": "python",
   "pygments_lexer": "ipython3",
   "version": "3.9.9"
  }
 },
 "nbformat": 4,
 "nbformat_minor": 5
}
