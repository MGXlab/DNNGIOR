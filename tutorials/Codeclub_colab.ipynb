{
 "cells": [
  {
   "cell_type": "code",
   "execution_count": 5,
   "id": "330fd769",
   "metadata": {
    "id": "330fd769"
   },
   "outputs": [],
   "source": [
    "\n",
    "from dnngior import NN_Predictor\n",
    "import tensorflow as tf\n",
    "# import numpy as np\n",
    "# import pandas as pd\n",
    "# \n",
    "# \n",
    "# import cobra"
   ]
  },
  {
   "cell_type": "code",
   "execution_count": 11,
   "id": "821a4d96",
   "metadata": {
    "id": "821a4d96"
   },
   "outputs": [],
   "source": [
    "import os, sys\n",
    "from pathlib import Path\n",
    "import json\n",
    "\n",
    "path = Path.cwd()\n",
    "sys.path.append(path)\n",
    "file_path = os.path.join(path.parent, 'dnngior', 'files', 'NN')\n",
    "output_path = os.path.join(path.parent, 'dnngior', 'files', 'custom scores')\n",
    "\n",
    "#Tensorflow complains because the NN is not optimized perfectly\n",
    "tf.get_logger().setLevel('ERROR')"
   ]
  },
  {
   "cell_type": "markdown",
   "id": "3a919838",
   "metadata": {
    "id": "3a919838"
   },
   "source": [
    "## Introduction\n",
    "\n",
    "The purpose of this notebook is to show some examples of using the neural network (NN) to make predictions based on reaction sets. We can then use those predictions as weights to gapfill models"
   ]
  },
  {
   "cell_type": "markdown",
   "id": "4a5d8419",
   "metadata": {
    "id": "4a5d8419"
   },
   "source": [
    "## Making predictions using the NN\n",
    "\n",
    "First we need to load in a NN, the NN_Predictor module has a function for this, you can provide a path to your favourite NN:"
   ]
  },
  {
   "cell_type": "code",
   "execution_count": 8,
   "id": "4c7276c8",
   "metadata": {
    "colab": {
     "base_uri": "https://localhost:8080/"
    },
    "id": "4c7276c8",
    "outputId": "d616fe50-837b-43f6-8ccf-de563d75b83a"
   },
   "outputs": [
    {
     "name": "stdout",
     "output_type": "stream",
     "text": [
      "Loading network at user provided path\n"
     ]
    },
    {
     "name": "stderr",
     "output_type": "stream",
     "text": [
      "2023-04-04 17:24:17.291943: I tensorflow/compiler/xla/stream_executor/cuda/cuda_gpu_executor.cc:981] successful NUMA node read from SysFS had negative value (-1), but there must be at least one NUMA node, so returning NUMA node zero\n",
      "2023-04-04 17:24:17.292087: W tensorflow/compiler/xla/stream_executor/platform/default/dso_loader.cc:64] Could not load dynamic library 'libcudart.so.11.0'; dlerror: libcudart.so.11.0: cannot open shared object file: No such file or directory\n",
      "2023-04-04 17:24:17.292116: W tensorflow/compiler/xla/stream_executor/platform/default/dso_loader.cc:64] Could not load dynamic library 'libcublas.so.11'; dlerror: libcublas.so.11: cannot open shared object file: No such file or directory\n",
      "2023-04-04 17:24:17.292137: W tensorflow/compiler/xla/stream_executor/platform/default/dso_loader.cc:64] Could not load dynamic library 'libcublasLt.so.11'; dlerror: libcublasLt.so.11: cannot open shared object file: No such file or directory\n",
      "2023-04-04 17:24:17.292156: W tensorflow/compiler/xla/stream_executor/platform/default/dso_loader.cc:64] Could not load dynamic library 'libcufft.so.10'; dlerror: libcufft.so.10: cannot open shared object file: No such file or directory\n",
      "2023-04-04 17:24:17.292175: W tensorflow/compiler/xla/stream_executor/platform/default/dso_loader.cc:64] Could not load dynamic library 'libcurand.so.10'; dlerror: libcurand.so.10: cannot open shared object file: No such file or directory\n",
      "2023-04-04 17:24:17.292194: W tensorflow/compiler/xla/stream_executor/platform/default/dso_loader.cc:64] Could not load dynamic library 'libcusolver.so.11'; dlerror: libcusolver.so.11: cannot open shared object file: No such file or directory\n",
      "2023-04-04 17:24:17.292216: W tensorflow/compiler/xla/stream_executor/platform/default/dso_loader.cc:64] Could not load dynamic library 'libcusparse.so.11'; dlerror: libcusparse.so.11: cannot open shared object file: No such file or directory\n",
      "2023-04-04 17:24:17.292243: W tensorflow/compiler/xla/stream_executor/platform/default/dso_loader.cc:64] Could not load dynamic library 'libcudnn.so.8'; dlerror: libcudnn.so.8: cannot open shared object file: No such file or directory\n",
      "2023-04-04 17:24:17.292249: W tensorflow/core/common_runtime/gpu/gpu_device.cc:1934] Cannot dlopen some GPU libraries. Please make sure the missing libraries mentioned above are installed properly if you would like to use GPU. Follow the guide at https://www.tensorflow.org/install/gpu for how to download and setup the required libraries for your platform.\n",
      "Skipping registering GPU devices...\n",
      "2023-04-04 17:24:17.326866: I tensorflow/core/platform/cpu_feature_guard.cc:193] This TensorFlow binary is optimized with oneAPI Deep Neural Network Library (oneDNN) to use the following CPU instructions in performance-critical operations:  AVX2 AVX512F AVX512_VNNI FMA\n",
      "To enable them in other operations, rebuild TensorFlow with the appropriate compiler flags.\n",
      "2023-04-04 17:24:17.329822: I tensorflow/compiler/mlir/mlir_graph_optimization_pass.cc:357] MLIR V1 optimization pass is not enabled\n",
      "2023-04-04 17:24:17.343642: W tensorflow/c/c_api.cc:291] Operation '{name:'dense_1/kernel/Assign' id:50 op device:{requested: '', assigned: ''} def:{{{node dense_1/kernel/Assign}} = AssignVariableOp[_has_manual_control_dependencies=true, dtype=DT_FLOAT, validate_shape=false](dense_1/kernel, dense_1/kernel/Initializer/stateless_random_uniform)}}' was changed by setting attribute after it was run by a session. This mutation will have no effect, and will trigger an error in the future. Either don't modify nodes after running them or create a new session.\n",
      "2023-04-04 17:24:17.565126: W tensorflow/c/c_api.cc:291] Operation '{name:'false_negatives/Assign' id:99 op device:{requested: '', assigned: ''} def:{{{node false_negatives/Assign}} = AssignVariableOp[_has_manual_control_dependencies=true, dtype=DT_FLOAT, validate_shape=false](false_negatives, false_negatives/Initializer/zeros)}}' was changed by setting attribute after it was run by a session. This mutation will have no effect, and will trigger an error in the future. Either don't modify nodes after running them or create a new session.\n"
     ]
    }
   ],
   "source": [
    "NN_MS = NN_Predictor.load_NN(path=file_path+'/NN_MS.h5')"
   ]
  },
  {
   "cell_type": "markdown",
   "id": "665388ab",
   "metadata": {
    "id": "665388ab"
   },
   "source": [
    "or if left empty it will currently default to the standard ModelSEED one"
   ]
  },
  {
   "cell_type": "code",
   "execution_count": 9,
   "id": "d0a30aa9",
   "metadata": {
    "colab": {
     "base_uri": "https://localhost:8080/"
    },
    "id": "d0a30aa9",
    "outputId": "0a274e47-7c02-494f-be9b-7b903b89dd38"
   },
   "outputs": [
    {
     "name": "stdout",
     "output_type": "stream",
     "text": [
      "Loading Default NN (ModelSEED)\n"
     ]
    },
    {
     "name": "stderr",
     "output_type": "stream",
     "text": [
      "2023-04-04 17:24:19.280071: W tensorflow/c/c_api.cc:291] Operation '{name:'dense_1_1/bias/Assign' id:563 op device:{requested: '', assigned: ''} def:{{{node dense_1_1/bias/Assign}} = AssignVariableOp[_has_manual_control_dependencies=true, dtype=DT_FLOAT, validate_shape=false](dense_1_1/bias, dense_1_1/bias/Initializer/zeros)}}' was changed by setting attribute after it was run by a session. This mutation will have no effect, and will trigger an error in the future. Either don't modify nodes after running them or create a new session.\n",
      "2023-04-04 17:24:19.447134: W tensorflow/c/c_api.cc:291] Operation '{name:'dense_1_1/kernel/v/Assign' id:916 op device:{requested: '', assigned: ''} def:{{{node dense_1_1/kernel/v/Assign}} = AssignVariableOp[_has_manual_control_dependencies=true, dtype=DT_FLOAT, validate_shape=false](dense_1_1/kernel/v, dense_1_1/kernel/v/Initializer/zeros)}}' was changed by setting attribute after it was run by a session. This mutation will have no effect, and will trigger an error in the future. Either don't modify nodes after running them or create a new session.\n"
     ]
    }
   ],
   "source": [
    "NN_MS = NN_Predictor.load_NN()"
   ]
  },
  {
   "cell_type": "markdown",
   "id": "92b03fc0",
   "metadata": {
    "id": "92b03fc0"
   },
   "source": [
    "Load in the data, the NN requires a binary list indicating presences of reactions, it is important that this is in the right order. However, you can give it a dictionary and it will put it in the right order for you.\n",
    "\n",
    "load in the dictionary:"
   ]
  },
  {
   "cell_type": "code",
   "execution_count": 12,
   "id": "c671f8f5",
   "metadata": {
    "id": "c671f8f5"
   },
   "outputs": [],
   "source": [
    "with open(file_path+'/binary_example.json', 'r') as j:\n",
    "    binary_example = json.loads(j.read())"
   ]
  },
  {
   "cell_type": "code",
   "execution_count": null,
   "id": "27c13ce6",
   "metadata": {},
   "outputs": [],
   "source": [
    "binary_example"
   ]
  },
  {
   "cell_type": "markdown",
   "id": "deebd52f",
   "metadata": {
    "id": "deebd52f"
   },
   "source": [
    "and make the prediction"
   ]
  },
  {
   "cell_type": "code",
   "execution_count": 13,
   "id": "ba454574",
   "metadata": {
    "colab": {
     "base_uri": "https://localhost:8080/"
    },
    "id": "ba454574",
    "outputId": "1b257cdd-de9e-4be5-9184-ef2bb9c36f22"
   },
   "outputs": [
    {
     "name": "stdout",
     "output_type": "stream",
     "text": [
      "Using user-provided ids\n",
      "#reactions not in NN_rxn:  0\n",
      "Loading Default NN (ModelSEED)\n"
     ]
    },
    {
     "name": "stderr",
     "output_type": "stream",
     "text": [
      "2023-04-04 17:24:39.232212: W tensorflow/c/c_api.cc:291] Operation '{name:'dense_1_2/kernel/Assign' id:1062 op device:{requested: '', assigned: ''} def:{{{node dense_1_2/kernel/Assign}} = AssignVariableOp[_has_manual_control_dependencies=true, dtype=DT_FLOAT, validate_shape=false](dense_1_2/kernel, dense_1_2/kernel/Initializer/stateless_random_uniform)}}' was changed by setting attribute after it was run by a session. This mutation will have no effect, and will trigger an error in the future. Either don't modify nodes after running them or create a new session.\n",
      "2023-04-04 17:24:39.409307: W tensorflow/c/c_api.cc:291] Operation '{name:'learning_rate_2/Assign' id:1377 op device:{requested: '', assigned: ''} def:{{{node learning_rate_2/Assign}} = AssignVariableOp[_has_manual_control_dependencies=true, dtype=DT_FLOAT, validate_shape=false](learning_rate_2, learning_rate_2/Initializer/initial_value)}}' was changed by setting attribute after it was run by a session. This mutation will have no effect, and will trigger an error in the future. Either don't modify nodes after running them or create a new session.\n",
      "/home/luna.kuleuven.be/u0156635/.local/lib/python3.10/site-packages/keras/engine/training_v1.py:2357: UserWarning: `Model.state_updates` will be removed in a future version. This property should not be used in TensorFlow 2.0, as `updates` are applied automatically.\n",
      "  updates=self.state_updates,\n",
      "2023-04-04 17:24:39.530666: W tensorflow/c/c_api.cc:291] Operation '{name:'dense_1_2/Sigmoid' id:1075 op device:{requested: '', assigned: ''} def:{{{node dense_1_2/Sigmoid}} = Sigmoid[T=DT_FLOAT, _has_manual_control_dependencies=true](dense_1_2/BiasAdd)}}' was changed by setting attribute after it was run by a session. This mutation will have no effect, and will trigger an error in the future. Either don't modify nodes after running them or create a new session.\n"
     ]
    }
   ],
   "source": [
    "prediction = NN_Predictor.predict(input=binary_example)"
   ]
  },
  {
   "cell_type": "markdown",
   "id": "RvlkYgxiK6BA",
   "metadata": {
    "id": "RvlkYgxiK6BA"
   },
   "source": [
    "This will return a dictionary with for every reaction a prediction of how likely it is that it should be in the reaction set according to the NN based on the given reaction"
   ]
  },
  {
   "cell_type": "code",
   "execution_count": 14,
   "id": "qh_cbbe8Fpn9",
   "metadata": {
    "colab": {
     "base_uri": "https://localhost:8080/"
    },
    "id": "qh_cbbe8Fpn9",
    "outputId": "4b30331a-4f92-4023-db07-663f9f3141e7"
   },
   "outputs": [
    {
     "data": {
      "text/plain": [
       "{'rxn08713_c0': 3.210943e-05,\n",
       " 'rxn03137_c0': 0.9981457,\n",
       " 'rxn09195_c0': 1.880479e-05,\n",
       " 'rxn01279_c0': 0.01665108,\n",
       " 'rxn00720_c0': 0.002832767,\n",
       " 'rxn12639_c0': 0.99999875,\n",
       " 'rxn20214_c0': 6.767396e-05,\n",
       " 'rxn08076_c0': 0.99979484,\n",
       " 'rxn01213_c0': 0.0003554159,\n",
       " 'rxn01537_c0': 0.27153924,\n",
       " 'rxn03918_c0': 0.081894025,\n",
       " 'rxn05252_c0': 0.99997467,\n",
       " 'rxn10317_c0': 9.243675e-08,\n",
       " 'rxn23042_c0': 0.9712741,\n",
       " 'rxn08542_c0': 2.7705e-07,\n",
       " 'rxn03886_c0': 0.11481701,\n",
       " 'rxn04751_c0': 0.0037542847,\n",
       " 'rxn09313_c0': 0.06191987,\n",
       " 'rxn02296_c0': 4.5195243e-06,\n",
       " 'rxn03241_c0': 0.99999905,\n",
       " 'rxn05195_c0': 0.9999999,\n",
       " 'rxn18575_c0': 5.916748e-07,\n",
       " 'rxn03540_c0': 0.995783,\n",
       " 'rxn05335_c0': 0.9999868,\n",
       " 'rxn02227_c0': 1.8563658e-05,\n",
       " 'rxn00745_c0': 0.054352637,\n",
       " 'rxn00510_c0': 0.9544768,\n",
       " 'rxn05598_c0': 0.0009475703,\n",
       " 'rxn05289_c0': 0.99943817,\n",
       " 'rxn00712_c0': 0.00038387507,\n",
       " 'rxn08528_c0': 0.99947006,\n",
       " 'rxn00407_c0': 0.9942456,\n",
       " 'rxn08335_c0': 0.9869699,\n",
       " 'rxn05361_c0': 0.99999136,\n",
       " 'rxn00804_c0': 0.81698596,\n",
       " 'rxn05505_c0': 0.030318405,\n",
       " 'rxn00147_c0': 0.14574544,\n",
       " 'rxn37060_c0': 0.00010403868,\n",
       " 'rxn05325_c0': 0.9999855,\n",
       " 'rxn01114_c0': 0.033136386,\n",
       " 'rxn09023_c0': 0.0021570167,\n",
       " 'rxn01013_c0': 0.9820908,\n",
       " 'rxn10126_c0': 0.9998857,\n",
       " 'rxn46694_c0': 0.3252236,\n",
       " 'rxn01640_c0': 0.93178684,\n",
       " 'rxn16823_c0': 0.0029471407,\n",
       " 'rxn27362_c0': 0.03919762,\n",
       " 'rxn12849_c0': 0.0009529251,\n",
       " 'rxn00559_c0': 0.6991723,\n",
       " 'rxn00297_c0': 0.12908019,\n",
       " 'rxn08668_c0': 0.9994911,\n",
       " 'rxn06777_c0': 0.06482687,\n",
       " 'rxn05541_c0': 0.00090475444,\n",
       " 'rxn04598_c0': 0.0012301544,\n",
       " 'rxn01644_c0': 0.99327785,\n",
       " 'rxn02927_c0': 0.104626715,\n",
       " 'rxn00800_c0': 0.998804,\n",
       " 'rxn01457_c0': 0.006118053,\n",
       " 'rxn11877_c0': 1.2964438e-06,\n",
       " 'rxn05149_c0': 0.371004,\n",
       " 'rxn03251_c0': 0.9996379,\n",
       " 'rxn05170_c0': 0.948134,\n",
       " 'rxn10268_c0': 0.9999088,\n",
       " 'rxn00151_c0': 0.98459524,\n",
       " 'rxn06493_c0': 0.08192173,\n",
       " 'rxn01649_c0': 0.998638,\n",
       " 'rxn00304_c0': 0.99801064,\n",
       " 'rxn01710_c0': 0.9863249,\n",
       " 'rxn04142_c0': 0.9953073,\n",
       " 'rxn08508_c0': 0.001882357,\n",
       " 'rxn00547_c0': 0.958825,\n",
       " 'rxn04712_c0': 3.29728e-05,\n",
       " 'rxn11544_c0': 0.00019013685,\n",
       " 'rxn00748_c0': 0.2763114,\n",
       " 'rxn05144_c0': 0.00079540926,\n",
       " 'rxn10216_c0': 0.00012687719,\n",
       " 'rxn05369_c0': 0.99997956,\n",
       " 'rxn10338_c0': 0.00077701354,\n",
       " 'rxn01462_c0': 0.7444161,\n",
       " 'rxn24606_c0': 1.7391598e-05,\n",
       " 'rxn08158_c0': 2.824959e-05,\n",
       " 'rxn00914_c0': 4.6404515e-05,\n",
       " 'rxn01670_c0': 0.9805828,\n",
       " 'rxn08783_c0': 0.06898713,\n",
       " 'rxn01368_c0': 0.98032546,\n",
       " 'rxn42177_c0': 0.02422117,\n",
       " 'rxn01851_c0': 0.99990505,\n",
       " 'rxn05347_c0': 0.9999977,\n",
       " 'rxn10892_c0': 2.7108186e-07,\n",
       " 'rxn03962_c0': 0.25272825,\n",
       " 'rxn08941_c0': 0.006754539,\n",
       " 'rxn02985_c0': 6.9369e-05,\n",
       " 'rxn05539_c0': 0.8266162,\n",
       " 'rxn05341_c0': 0.99984556,\n",
       " 'rxn00106_c0': 0.08241136,\n",
       " 'rxn00082_c0': 0.0001647929,\n",
       " 'rxn10228_c0': 0.9991639,\n",
       " 'rxn00830_c0': 0.29351097,\n",
       " 'rxn02373_c0': 0.9880503,\n",
       " 'rxn01647_c0': 0.99905515,\n",
       " 'rxn09167_c0': 0.01612119,\n",
       " 'rxn01275_c0': 0.17563246,\n",
       " 'rxn05447_c0': 0.99997514,\n",
       " 'rxn08547_c0': 8.5782536e-05,\n",
       " 'rxn16839_c0': 0.25684625,\n",
       " 'rxn16565_c0': 4.6475107e-05,\n",
       " 'rxn21863_c0': 0.99996907,\n",
       " 'rxn08118_c0': 6.6329058e-06,\n",
       " 'rxn05303_c0': 0.00010137287,\n",
       " 'rxn08936_c0': 0.00052860787,\n",
       " 'rxn05200_c0': 0.05132894,\n",
       " 'rxn01133_c0': 0.3667392,\n",
       " 'rxn06556_c0': 1.2158411e-05,\n",
       " 'rxn08822_c0': 0.99999464,\n",
       " 'rxn01986_c0': 0.9843559,\n",
       " 'rxn10292_c0': 1.8567127e-06,\n",
       " 'rxn01911_c0': 0.00043675117,\n",
       " 'rxn07845_c0': 0.0015396652,\n",
       " 'rxn09105_c0': 0.9999229,\n",
       " 'rxn00490_c0': 0.026375996,\n",
       " 'rxn05746_c0': 0.5664667,\n",
       " 'rxn01753_c0': 0.073005565,\n",
       " 'rxn05031_c0': 0.10154639,\n",
       " 'rxn00223_c0': 0.12142626,\n",
       " 'rxn02103_c0': 0.36876905,\n",
       " 'rxn01706_c0': 0.00042298844,\n",
       " 'rxn00549_c0': 0.9240066,\n",
       " 'rxn10214_c0': 0.00016815576,\n",
       " 'rxn42709_c0': 0.00012274466,\n",
       " 'rxn01518_c0': 0.9358843,\n",
       " 'rxn00100_c0': 0.9921416,\n",
       " 'rxn02275_c0': 0.9965611,\n",
       " 'rxn01298_c0': 4.583689e-05,\n",
       " 'rxn02680_c0': 1.0,\n",
       " 'rxn00829_c0': 0.0012221803,\n",
       " 'rxn02155_c0': 0.99921876,\n",
       " 'rxn10314_c0': 0.0076111583,\n",
       " 'rxn10284_c0': 3.9040373e-05,\n",
       " 'rxn06979_c0': 0.022638831,\n",
       " 'rxn09214_c0': 0.0014067488,\n",
       " 'rxn02056_c0': 0.9144727,\n",
       " 'rxn02145_c0': 0.008050324,\n",
       " 'rxn03513_c0': 0.9905269,\n",
       " 'rxn05563_c0': 0.00013113092,\n",
       " 'rxn00541_c0': 0.9952357,\n",
       " 'rxn03168_c0': 2.12979e-05,\n",
       " 'rxn16776_c0': 0.0010748657,\n",
       " 'rxn16612_c0': 0.031361748,\n",
       " 'rxn05438_c0': 0.9999851,\n",
       " 'rxn07435_c0': 0.8783686,\n",
       " 'rxn12206_c0': 0.0025144003,\n",
       " 'rxn03005_c0': 0.99819773,\n",
       " 'rxn08205_c0': 0.00011951467,\n",
       " 'rxn01259_c0': 0.00041482117,\n",
       " 'rxn03243_c0': 1.0,\n",
       " 'rxn01499_c0': 0.866536,\n",
       " 'rxn01883_c0': 0.0008772589,\n",
       " 'rxn19735_c0': 6.361384e-05,\n",
       " 'rxn01816_c0': 0.38337544,\n",
       " 'rxn10855_c0': 8.159613e-06,\n",
       " 'rxn09039_c0': 0.999781,\n",
       " 'rxn05145_c0': 0.9960345,\n",
       " 'rxn08376_c0': 0.071088955,\n",
       " 'rxn05336_c0': 0.99984056,\n",
       " 'rxn00298_c0': 0.44184273,\n",
       " 'rxn16794_c0': 0.00040833303,\n",
       " 'rxn00251_c0': 0.013259612,\n",
       " 'rxn01129_c0': 0.00037965376,\n",
       " 'rxn01069_c0': 0.99479026,\n",
       " 'rxn02173_c0': 0.11643798,\n",
       " 'rxn02375_c0': 0.023610137,\n",
       " 'rxn08202_c0': 0.00014133222,\n",
       " 'rxn01945_c0': 0.0023489092,\n",
       " 'rxn01761_c0': 0.0005777736,\n",
       " 'rxn10337_c0': 0.00085159275,\n",
       " 'rxn05187_c0': 0.5302127,\n",
       " 'rxn12822_c0': 0.6135412,\n",
       " 'rxn02835_c0': 0.9872724,\n",
       " 'rxn01629_c0': 0.030311698,\n",
       " 'rxn04938_c0': 0.9931494,\n",
       " 'rxn08709_c0': 1.4033109e-05,\n",
       " 'rxn05957_c0': 0.9993983,\n",
       " 'rxn03181_c0': 0.9944703,\n",
       " 'rxn15699_c0': 0.040742833,\n",
       " 'rxn09161_c0': 2.1722308e-08,\n",
       " 'rxn05372_c0': 0.9993873,\n",
       " 'rxn08619_c0': 1.7467442e-05,\n",
       " 'rxn04930_c0': 8.385015e-05,\n",
       " 'rxn08802_c0': 0.9999951,\n",
       " 'rxn10300_c0': 0.0036216425,\n",
       " 'rxn01366_c0': 0.01791424,\n",
       " 'rxn01108_c0': 0.006399866,\n",
       " 'rxn05117_c0': 0.00902337,\n",
       " 'rxn00168_c0': 0.045691084,\n",
       " 'rxn10299_c0': 0.0034934161,\n",
       " 'rxn01927_c0': 0.11478252,\n",
       " 'rxn01045_c0': 0.83181673,\n",
       " 'rxn02318_c0': 4.9093218e-05,\n",
       " 'rxn05154_c0': 0.18179499,\n",
       " 'rxn00375_c0': 0.99024856,\n",
       " 'rxn01790_c0': 0.67156225,\n",
       " 'rxn05550_c0': 0.14729764,\n",
       " 'rxn08295_c0': 0.007726894,\n",
       " 'rxn05405_c0': 0.99936885,\n",
       " 'rxn00291_c0': 0.0016275096,\n",
       " 'rxn00114_c0': 0.26558256,\n",
       " 'rxn00818_c0': 0.204699,\n",
       " 'rxn07474_c0': 6.300818e-05,\n",
       " 'rxn00953_c0': 0.99635535,\n",
       " 'rxn10123_c0': 4.0880195e-06,\n",
       " 'rxn00913_c0': 0.9978086,\n",
       " 'rxn12080_c0': 1.5099452e-06,\n",
       " 'rxn09661_c0': 6.238449e-09,\n",
       " 'rxn02676_c0': 4.2102343e-05,\n",
       " 'rxn03975_c0': 0.005294042,\n",
       " 'rxn01748_c0': 0.056232363,\n",
       " 'rxn10296_c0': 1.552239e-06,\n",
       " 'rxn14372_c0': 8.053729e-07,\n",
       " 'rxn10196_c0': 0.03213654,\n",
       " 'rxn08347_c0': 0.011187754,\n",
       " 'rxn08710_c0': 0.0036254558,\n",
       " 'rxn08977_c0': 2.785654e-06,\n",
       " 'rxn01859_c0': 0.99866277,\n",
       " 'rxn08935_c0': 0.56658304,\n",
       " 'rxn02429_c0': 0.9085796,\n",
       " 'rxn02143_c0': 0.95950735,\n",
       " 'rxn02761_c0': 0.16308844,\n",
       " 'rxn03244_c0': 0.059938032,\n",
       " 'rxn01598_c0': 0.18204062,\n",
       " 'rxn06864_c0': 0.95369804,\n",
       " 'rxn05418_c0': 0.9993151,\n",
       " 'rxn03068_c0': 0.99779546,\n",
       " 'rxn02266_c0': 0.14490399,\n",
       " 'rxn08308_c0': 0.9934155,\n",
       " 'rxn10270_c0': 0.99991137,\n",
       " 'rxn10192_c0': 0.00038506626,\n",
       " 'rxn00239_c0': 0.9963476,\n",
       " 'rxn07436_c0': 0.89892906,\n",
       " 'rxn00802_c0': 0.9994326,\n",
       " 'rxn24607_c0': 2.9220166e-06,\n",
       " 'rxn05337_c0': 0.99980575,\n",
       " 'rxn08213_c0': 0.85795516,\n",
       " 'rxn00338_c0': 0.6414655,\n",
       " 'rxn43971_c0': 0.00044196038,\n",
       " 'rxn15293_c0': 0.007544984,\n",
       " 'rxn05397_c0': 0.9993335,\n",
       " 'rxn10267_c0': 0.9999043,\n",
       " 'rxn08200_c0': 0.00010637946,\n",
       " 'rxn39912_c0': 5.804549e-08,\n",
       " 'rxn01015_c0': 0.8043381,\n",
       " 'rxn03481_c0': 0.00077818276,\n",
       " 'rxn02201_c0': 0.9989637,\n",
       " 'rxn05344_c0': 0.9999971,\n",
       " 'rxn08128_c0': 0.0012623678,\n",
       " 'rxn02474_c0': 0.99599946,\n",
       " 'rxn05465_c0': 0.9997364,\n",
       " 'rxn00422_c0': 0.007902352,\n",
       " 'rxn00704_c0': 0.66804135,\n",
       " 'rxn05201_c0': 0.00032734673,\n",
       " 'rxn01362_c0': 0.99894553,\n",
       " 'rxn15383_c0': 0.0012652231,\n",
       " 'rxn02122_c0': 3.856228e-05,\n",
       " 'rxn01324_c0': 3.1451244e-05,\n",
       " 'rxn00056_c0': 0.9206124,\n",
       " 'rxn01973_c0': 0.9993095,\n",
       " 'rxn09448_c0': 0.99997693,\n",
       " 'rxn09208_c0': 0.9991404,\n",
       " 'rxn05339_c0': 0.99983054,\n",
       " 'rxn09022_c0': 0.0015602028,\n",
       " 'rxn05437_c0': 0.9999827,\n",
       " 'rxn00394_c0': 0.83520985,\n",
       " 'rxn05029_c0': 0.99991906,\n",
       " 'rxn09151_c0': 4.5593267e-09,\n",
       " 'rxn08441_c0': 0.8293736,\n",
       " 'rxn12851_c0': 0.0009024234,\n",
       " 'rxn00361_c0': 0.9650425,\n",
       " 'rxn05605_c0': 0.0062200874,\n",
       " 'rxn08939_c0': 0.0035282602,\n",
       " 'rxn03839_c0': 0.9967461,\n",
       " 'rxn00587_c0': 0.01717824,\n",
       " 'rxn14109_c0': 6.019806e-06,\n",
       " 'rxn00941_c0': 0.022331005,\n",
       " 'rxn10227_c0': 0.9991839,\n",
       " 'rxn05205_c0': 0.075271934,\n",
       " 'rxn08078_c0': 0.98469406,\n",
       " 'rxn00194_c0': 0.06787087,\n",
       " 'rxn09154_c0': 9.700024e-09,\n",
       " 'rxn01303_c0': 0.11423136,\n",
       " 'rxn14178_c0': 0.0015433774,\n",
       " 'rxn00367_c0': 0.999356,\n",
       " 'rxn12848_c0': 0.49199548,\n",
       " 'rxn08843_c0': 0.99999535,\n",
       " 'rxn02377_c0': 0.05121099,\n",
       " 'rxn05540_c0': 0.00092263723,\n",
       " 'rxn10221_c0': 0.9926941,\n",
       " 'rxn01019_c0': 0.9993361,\n",
       " 'rxn08352_c0': 0.99466443,\n",
       " 'rxn10308_c0': 0.007941047,\n",
       " 'rxn02380_c0': 0.9831037,\n",
       " 'rxn00971_c0': 4.6898444e-07,\n",
       " 'rxn01445_c0': 0.997245,\n",
       " 'rxn11409_c0': 2.715129e-07,\n",
       " 'rxn05211_c0': 0.011570523,\n",
       " 'rxn12643_c0': 0.9999991,\n",
       " 'rxn01179_c0': 0.073444754,\n",
       " 'rxn10255_c0': 0.009845267,\n",
       " 'rxn05459_c0': 0.99978477,\n",
       " 'rxn13782_c0': 0.9999999,\n",
       " 'rxn08797_c0': 0.9999948,\n",
       " 'rxn01192_c0': 0.8079805,\n",
       " 'rxn05189_c0': 0.15991238,\n",
       " 'rxn00912_c0': 0.95801073,\n",
       " 'rxn01281_c0': 0.9960539,\n",
       " 'rxn00171_c0': 0.9898051,\n",
       " 'rxn08306_c0': 0.9932772,\n",
       " 'rxn08216_c0': 0.00028956172,\n",
       " 'rxn02782_c0': 0.14958748,\n",
       " 'rxn02181_c0': 0.0016466909,\n",
       " 'rxn05406_c0': 0.99998504,\n",
       " 'rxn00882_c0': 0.9998891,\n",
       " 'rxn16574_c0': 0.009326793,\n",
       " 'rxn01477_c0': 0.9796834,\n",
       " 'rxn20627_c0': 0.0019553597,\n",
       " 'rxn01111_c0': 0.06843768,\n",
       " 'rxn00693_c0': 0.6140083,\n",
       " 'rxn02925_c0': 0.9709835,\n",
       " 'rxn05485_c0': 0.0065628784,\n",
       " 'rxn03976_c0': 0.0008853897,\n",
       " 'rxn00797_c0': 0.10053595,\n",
       " 'rxn02319_c0': 0.0002004719,\n",
       " 'rxn04597_c0': 0.0010298298,\n",
       " 'rxn01669_c0': 0.9972073,\n",
       " 'rxn05330_c0': 0.9999997,\n",
       " 'rxn04047_c0': 0.0002552696,\n",
       " 'rxn08578_c0': 0.002132966,\n",
       " 'rxn00707_c0': 0.001732237,\n",
       " 'rxn02005_c0': 0.0067237373,\n",
       " 'rxn07978_c0': 0.99998075,\n",
       " 'rxn00526_c0': 1.1345164e-07,\n",
       " 'rxn01444_c0': 0.00060520554,\n",
       " 'rxn00104_c0': 0.77654636,\n",
       " 'rxn08025_c0': 0.0006774573,\n",
       " 'rxn02356_c0': 4.37792e-07,\n",
       " 'rxn12146_c0': 0.7117626,\n",
       " 'rxn39999_c0': 0.012605326,\n",
       " 'rxn08839_c0': 0.99998873,\n",
       " 'rxn02011_c0': 0.99808216,\n",
       " 'rxn08203_c0': 0.0001073724,\n",
       " 'rxn01751_c0': 0.00075148675,\n",
       " 'rxn10209_c0': 7.8144854e-05,\n",
       " 'rxn08900_c0': 0.004546071,\n",
       " 'rxn01437_c0': 0.06768966,\n",
       " 'rxn00109_c0': 0.004594008,\n",
       " 'rxn05654_c0': 0.9626277,\n",
       " 'rxn40000_c0': 0.031542227,\n",
       " 'rxn00966_c0': 0.0008961995,\n",
       " 'rxn01352_c0': 0.1783722,\n",
       " 'rxn01331_c0': 0.03749586,\n",
       " 'rxn01256_c0': 0.99844855,\n",
       " 'rxn00892_c0': 0.0010031583,\n",
       " 'rxn08669_c0': 0.99950236,\n",
       " 'rxn00077_c0': 0.99974793,\n",
       " 'rxn08442_c0': 0.84288037,\n",
       " 'rxn41287_c0': 0.9647273,\n",
       " 'rxn00853_c0': 0.45291165,\n",
       " 'rxn01205_c0': 0.0064876364,\n",
       " 'rxn08548_c0': 0.9974666,\n",
       " 'rxn26021_c0': 0.90683657,\n",
       " 'rxn02366_c0': 0.18654393,\n",
       " 'rxn09953_c0': 0.31916076,\n",
       " 'rxn00980_c0': 0.9990238,\n",
       " 'rxn02358_c0': 3.6161566e-07,\n",
       " 'rxn05446_c0': 0.99998224,\n",
       " 'rxn00726_c0': 0.9991558,\n",
       " 'rxn09138_c0': 1.0155809e-08,\n",
       " 'rxn00195_c0': 0.00566947,\n",
       " 'rxn08263_c0': 0.000862639,\n",
       " 'rxn08380_c0': 0.37630412,\n",
       " 'rxn01634_c0': 0.040793423,\n",
       " 'rxn01137_c0': 0.830049,\n",
       " 'rxn00604_c0': 0.9674244,\n",
       " 'rxn01519_c0': 0.9623503,\n",
       " 'rxn16583_c0': 0.99930066,\n",
       " 'rxn03023_c0': 0.7590436,\n",
       " 'rxn02944_c0': 0.0024863938,\n",
       " 'rxn02177_c0': 0.73711437,\n",
       " 'rxn10230_c0': 0.99907684,\n",
       " 'rxn05333_c0': 0.9999804,\n",
       " 'rxn03538_c0': 0.99119914,\n",
       " 'rxn08766_c0': 0.9939504,\n",
       " 'rxn01619_c0': 7.347473e-05,\n",
       " 'rxn09272_c0': 0.9995553,\n",
       " 'rxn01403_c0': 0.001016829,\n",
       " 'rxn00076_c0': 0.9577651,\n",
       " 'rxn09037_c0': 0.0010576437,\n",
       " 'rxn00085_c0': 0.99921674,\n",
       " 'rxn03084_c0': 0.99844605,\n",
       " 'rxn02166_c0': 0.9221805,\n",
       " 'rxn01827_c0': 0.91993004,\n",
       " 'rxn05287_c0': 0.0017796785,\n",
       " 'rxn02322_c0': 0.00037607763,\n",
       " 'rxn00452_c0': 0.33745402,\n",
       " 'rxn00184_c0': 0.9998348,\n",
       " 'rxn10217_c0': 0.00014404325,\n",
       " 'rxn00709_c0': 0.0020898627,\n",
       " 'rxn05345_c0': 0.99999624,\n",
       " 'rxn03969_c0': 0.09201366,\n",
       " 'rxn08297_c0': 0.008839405,\n",
       " 'rxn01249_c0': 0.015157297,\n",
       " 'rxn08129_c0': 0.001072361,\n",
       " 'rxn05432_c0': 8.2084e-05,\n",
       " 'rxn00569_c0': 0.40167525,\n",
       " 'rxn02222_c0': 0.9957962,\n",
       " 'rxn05316_c0': 0.05313681,\n",
       " 'rxn02374_c0': 0.9999999,\n",
       " 'rxn03536_c0': 0.9906907,\n",
       " 'rxn08527_c0': 0.9994251,\n",
       " 'rxn02503_c0': 0.9972095,\n",
       " 'rxn05123_c0': 0.0021168082,\n",
       " 'rxn00781_c0': 0.9941126,\n",
       " 'rxn03953_c0': 0.13172722,\n",
       " 'rxn11650_c0': 0.16846952,\n",
       " 'rxn00551_c0': 4.5323004e-06,\n",
       " 'rxn02760_c0': 0.003205159,\n",
       " 'rxn00986_c0': 0.029551368,\n",
       " 'rxn08676_c0': 0.017803248,\n",
       " 'rxn02897_c0': 0.99534404,\n",
       " 'rxn03534_c0': 0.707587,\n",
       " 'rxn00792_c0': 0.94951224,\n",
       " 'rxn05390_c0': 0.99999964,\n",
       " 'rxn01117_c0': 0.9929919,\n",
       " 'rxn05651_c0': 0.9129933,\n",
       " 'rxn02104_c0': 0.0018684827,\n",
       " 'rxn01653_c0': 0.9974976,\n",
       " 'rxn05177_c0': 0.73264056,\n",
       " 'rxn11263_c0': 0.0001433245,\n",
       " 'rxn00747_c0': 0.9963429,\n",
       " 'rxn01948_c0': 0.8705978,\n",
       " 'rxn06526_c0': 0.21404035,\n",
       " 'rxn05163_c0': 0.999046,\n",
       " 'rxn01857_c0': 0.0018847317,\n",
       " 'rxn05348_c0': 0.9999974,\n",
       " 'rxn02975_c0': 0.00039386726,\n",
       " 'rxn01204_c0': 0.89784694,\n",
       " 'rxn05231_c0': 0.20453618,\n",
       " 'rxn10222_c0': 0.99386513,\n",
       " 'rxn01084_c0': 0.99993724,\n",
       " 'rxn00866_c0': 0.000597244,\n",
       " 'rxn00834_c0': 0.9957902,\n",
       " 'rxn05342_c0': 0.9997065,\n",
       " 'rxn04384_c0': 0.9965757,\n",
       " 'rxn03250_c0': 0.9999992,\n",
       " 'rxn03917_c0': 0.09140846,\n",
       " 'rxn00321_c0': 0.46496713,\n",
       " 'rxn05567_c0': 0.011736279,\n",
       " 'rxn43470_c0': 0.03250249,\n",
       " 'rxn09209_c0': 0.9991324,\n",
       " 'rxn24610_c0': 0.00020541156,\n",
       " 'rxn04153_c0': 0.009863095,\n",
       " 'rxn09103_c0': 0.9999131,\n",
       " 'rxn02476_c0': 0.99490875,\n",
       " 'rxn16614_c0': 0.009792736,\n",
       " 'rxn08294_c0': 0.008744681,\n",
       " 'rxn00639_c0': 0.019692365,\n",
       " 'rxn16609_c0': 0.000984075,\n",
       " 'rxn00211_c0': 0.9251354,\n",
       " 'rxn24609_c0': 2.1917178e-06,\n",
       " 'rxn03395_c0': 0.99982405,\n",
       " 'rxn03408_c0': 0.9988197,\n",
       " 'rxn10468_c0': 6.3369926e-06,\n",
       " 'rxn03954_c0': 0.115292616,\n",
       " 'rxn02346_c0': 0.034511264,\n",
       " 'rxn00558_c0': 0.9842948,\n",
       " 'rxn16143_c0': 0.025815692,\n",
       " 'rxn00775_c0': 0.47724763,\n",
       " 'rxn08136_c0': 0.9925064,\n",
       " 'rxn00605_c0': 0.054735042,\n",
       " 'rxn13783_c0': 0.9999999,\n",
       " 'rxn00473_c0': 0.015754143,\n",
       " 'rxn01200_c0': 0.9985227,\n",
       " 'rxn00208_c0': 0.9989321,\n",
       " 'rxn02286_c0': 0.9999161,\n",
       " 'rxn00231_c0': 0.9968433,\n",
       " 'rxn00015_c0': 0.107858144,\n",
       " 'rxn01662_c0': 0.0002202997,\n",
       " 'rxn08667_c0': 0.00089733856,\n",
       " 'rxn02297_c0': 0.45263672,\n",
       " 'rxn01219_c0': 0.9965679,\n",
       " 'rxn05488_c0': 0.0010582831,\n",
       " 'rxn01548_c0': 0.99858934,\n",
       " 'rxn05542_c0': 0.00088752795,\n",
       " 'rxn20643_c0': 0.3119958,\n",
       " 'rxn15334_c0': 0.058502115,\n",
       " 'rxn10188_c0': 0.00037537992,\n",
       " 'rxn11040_c0': 0.26984417,\n",
       " 'rxn00418_c0': 0.0073435283,\n",
       " 'rxn01255_c0': 0.99354607,\n",
       " 'rxn01571_c0': 0.034364726,\n",
       " 'rxn00537_c0': 0.07124146,\n",
       " 'rxn01480_c0': 0.9998578,\n",
       " 'rxn00165_c0': 0.999528,\n",
       " 'rxn01989_c0': 0.0012969546,\n",
       " 'rxn08821_c0': 0.99999565,\n",
       " 'rxn00723_c0': 0.0063869227,\n",
       " 'rxn05365_c0': 0.99998647,\n",
       " 'rxn01241_c0': 0.9997588,\n",
       " 'rxn10256_c0': 0.008365544,\n",
       " 'rxn00727_c0': 0.99934596,\n",
       " 'rxn10223_c0': 0.99278986,\n",
       " 'rxn05434_c0': 0.9999712,\n",
       " 'rxn05394_c0': 0.99998695,\n",
       " 'rxn08792_c0': 0.81841695,\n",
       " 'rxn10324_c0': 6.897031e-08,\n",
       " 'rxn01636_c0': 0.9914572,\n",
       " 'rxn03504_c0': 0.74973553,\n",
       " 'rxn00029_c0': 0.9951403,\n",
       " 'rxn05382_c0': 1.8928902e-05,\n",
       " 'rxn01258_c0': 0.03153863,\n",
       " 'rxn01646_c0': 0.9989716,\n",
       " 'rxn05389_c0': 0.99944144,\n",
       " 'rxn02213_c0': 0.99779564,\n",
       " 'rxn05902_c0': 1.9327064e-05,\n",
       " 'rxn05120_c0': 0.9995323,\n",
       " 'rxn10340_c0': 0.00063690345,\n",
       " 'rxn09144_c0': 2.067628e-08,\n",
       " 'rxn01405_c0': 0.117628634,\n",
       " 'rxn12638_c0': 0.9999998,\n",
       " 'rxn00915_c0': 0.9997671,\n",
       " 'rxn09104_c0': 0.9999159,\n",
       " 'rxn00849_c0': 0.9864252,\n",
       " 'rxn05393_c0': 0.9993996,\n",
       " 'rxn08804_c0': 0.99999535,\n",
       " 'rxn05691_c0': 0.00022283068,\n",
       " 'rxn00656_c0': 0.969058,\n",
       " 'rxn03893_c0': 0.99954575,\n",
       " 'rxn08890_c0': 0.9999577,\n",
       " 'rxn15296_c0': 0.9819266,\n",
       " 'rxn11702_c0': 0.00053028046,\n",
       " 'rxn05614_c0': 0.35988018,\n",
       " 'rxn10278_c0': 3.7706395e-05,\n",
       " 'rxn03052_c0': 0.12975962,\n",
       " 'rxn06729_c0': 0.9996549,\n",
       " 'rxn11703_c0': 0.0092079565,\n",
       " 'rxn10868_c0': 1.4520892e-06,\n",
       " 'rxn09996_c0': 0.018876301,\n",
       " 'rxn03884_c0': 0.9348566,\n",
       " 'rxn00438_c0': 0.016780706,\n",
       " 'rxn09162_c0': 4.154237e-09,\n",
       " 'rxn03087_c0': 0.5228818,\n",
       " 'rxn02263_c0': 2.2287442e-05,\n",
       " 'rxn05467_c0': 0.9999998,\n",
       " 'rxn00786_c0': 0.99318117,\n",
       " 'rxn19033_c0': 3.7281393e-06,\n",
       " 'rxn00328_c0': 0.9314869,\n",
       " 'rxn01967_c0': 0.009854568,\n",
       " 'rxn05386_c0': 0.99999356,\n",
       " 'rxn00875_c0': 0.32184896,\n",
       " 'rxn09699_c0': 6.7416577e-06,\n",
       " 'rxn23043_c0': 0.70282465,\n",
       " 'rxn08396_c0': 0.99998283,\n",
       " 'rxn00589_c0': 0.024071356,\n",
       " 'rxn03240_c0': 0.999999,\n",
       " 'rxn00737_c0': 0.9833709,\n",
       " 'rxn16238_c0': 5.5897283e-07,\n",
       " 'rxn02473_c0': 0.99673057,\n",
       " 'rxn05528_c0': 0.99925107,\n",
       " 'rxn01107_c0': 0.21857539,\n",
       " 'rxn09135_c0': 1.027417e-08,\n",
       " 'rxn08842_c0': 0.99999446,\n",
       " 'rxn00691_c0': 0.3028538,\n",
       " 'rxn08546_c0': 0.9963605,\n",
       " 'rxn07468_c0': 1.5943774e-06,\n",
       " 'rxn00525_c0': 0.9596361,\n",
       " 'rxn02945_c0': 0.103824206,\n",
       " 'rxn05188_c0': 0.30740613,\n",
       " 'rxn00529_c0': 0.8689449,\n",
       " 'rxn10235_c0': 0.999163,\n",
       " 'rxn08879_c0': 0.00015810812,\n",
       " 'rxn05159_c0': 0.0075119887,\n",
       " 'rxn09149_c0': 1.6234138e-08,\n",
       " 'rxn00250_c0': 0.969466,\n",
       " 'rxn01832_c0': 0.019597134,\n",
       " 'rxn09014_c0': 0.9993275,\n",
       " 'rxn01545_c0': 0.7641881,\n",
       " 'rxn25839_c0': 0.24241048,\n",
       " 'rxn00791_c0': 0.999268,\n",
       " 'rxn00835_c0': 1.6178261e-05,\n",
       " 'rxn05155_c0': 0.5392229,\n",
       " 'rxn08467_c0': 0.021346956,\n",
       " 'rxn00260_c0': 0.9999054,\n",
       " 'rxn09210_c0': 0.99917454,\n",
       " 'rxn03269_c0': 0.47266722,\n",
       " 'rxn03253_c0': 0.99962795,\n",
       " 'rxn05391_c0': 7.68766e-05,\n",
       " 'rxn05184_c0': 0.00011751701,\n",
       " 'rxn15338_c0': 0.00064931635,\n",
       " 'rxn03150_c0': 0.10338183,\n",
       " 'rxn03247_c0': 0.9999989,\n",
       " 'rxn16142_c0': 7.810061e-06,\n",
       " 'rxn00313_c0': 0.9991267,\n",
       " 'rxn01672_c0': 0.99504524,\n",
       " 'rxn00711_c0': 0.9828225,\n",
       " 'rxn00364_c0': 0.9966358,\n",
       " 'rxn12642_c0': 0.9999994,\n",
       " 'rxn01102_c0': 0.101135276,\n",
       " 'rxn08840_c0': 0.9999954,\n",
       " 'rxn00162_c0': 0.0056288904,\n",
       " 'rxn09163_c0': 9.79755e-09,\n",
       " 'rxn08854_c0': 7.6067365e-05,\n",
       " 'rxn05402_c0': 0.99998754,\n",
       " 'rxn01575_c0': 0.99138176,\n",
       " 'rxn01962_c0': 0.98988116,\n",
       " 'rxn09142_c0': 8.609314e-09,\n",
       " 'rxn08790_c0': 3.0018986e-05,\n",
       " 'rxn00441_c0': 0.9990406,\n",
       " 'rxn01334_c0': 0.99466944,\n",
       " 'rxn08123_c0': 0.99979365,\n",
       " 'rxn05448_c0': 0.9999789,\n",
       " 'rxn07438_c0': 0.99526066,\n",
       " 'rxn02345_c0': 0.99925977,\n",
       " 'rxn00790_c0': 0.9977289,\n",
       " 'rxn05183_c0': 0.36553112,\n",
       " 'rxn08844_c0': 0.9999893,\n",
       " 'rxn01073_c0': 0.9994618,\n",
       " 'rxn00993_c0': 0.9967864,\n",
       " 'rxn00837_c0': 0.0069508217,\n",
       " 'rxn10306_c0': 0.0034404623,\n",
       " 'rxn01966_c0': 0.0013247323,\n",
       " 'rxn16507_c0': 3.6288544e-05,\n",
       " 'rxn00146_c0': 0.9159242,\n",
       " 'rxn05398_c0': 0.99999017,\n",
       " 'rxn00014_c0': 0.5642632,\n",
       " 'rxn08130_c0': 0.00046162744,\n",
       " 'rxn09206_c0': 0.9991716,\n",
       " 'rxn23239_c0': 1.0888158e-05,\n",
       " 'rxn07434_c0': 0.88309205,\n",
       " 'rxn00743_c0': 0.9256181,\n",
       " 'rxn05318_c0': 0.07347588,\n",
       " 'rxn01742_c0': 0.0035933242,\n",
       " 'rxn40505_c0': 9.6639924e-05,\n",
       " 'rxn01924_c0': 0.99553007,\n",
       " 'rxn46203_c0': 1.1603452e-06,\n",
       " 'rxn00636_c0': 0.005597511,\n",
       " 'rxn05420_c0': 5.443395e-05,\n",
       " 'rxn01225_c0': 0.9800423,\n",
       " 'rxn00348_c0': 0.29473773,\n",
       " 'rxn11940_c0': 0.035373434,\n",
       " 'rxn03908_c0': 0.9908085,\n",
       " 'rxn02803_c0': 0.99927485,\n",
       " 'rxn01641_c0': 0.0008537828,\n",
       " 'rxn00717_c0': 0.727053,\n",
       " 'rxn05422_c0': 0.99936193,\n",
       " 'rxn02521_c0': 0.96405435,\n",
       " 'rxn07584_c0': 0.040246323,\n",
       " 'rxn05538_c0': 0.0010272093,\n",
       " 'rxn07949_c0': 0.016163493,\n",
       " 'rxn02313_c0': 0.00014321589,\n",
       " 'rxn05332_c0': 0.99999243,\n",
       " 'rxn21729_c0': 0.9738639,\n",
       " 'rxn03439_c0': 0.9972712,\n",
       " 'rxn10220_c0': 0.99349785,\n",
       " 'rxn03248_c0': 1.0,\n",
       " 'rxn10770_c0': 0.9973933,\n",
       " 'rxn05199_c0': 0.053130485,\n",
       " 'rxn08296_c0': 0.00924567,\n",
       " 'rxn10060_c0': 0.99977803,\n",
       " 'rxn03249_c0': 0.99995226,\n",
       " 'rxn02989_c0': 1.0,\n",
       " 'rxn03919_c0': 0.15846722,\n",
       " 'rxn00075_c0': 6.5779176e-08,\n",
       " 'rxn04600_c0': 0.002297033,\n",
       " 'rxn00405_c0': 0.13589871,\n",
       " 'rxn02095_c0': 0.40380237,\n",
       " 'rxn02484_c0': 0.79576,\n",
       " 'rxn08336_c0': 0.9850091,\n",
       " 'rxn08846_c0': 0.999994,\n",
       " 'rxn44539_c0': 0.91004163,\n",
       " 'rxn08703_c0': 0.31671497,\n",
       " 'rxn00714_c0': 0.98185563,\n",
       " 'rxn09265_c0': 0.0046421806,\n",
       " 'rxn01715_c0': 0.040551953,\n",
       " 'rxn26447_c0': 4.1086378e-07,\n",
       " 'rxn05151_c0': 0.94877005,\n",
       " 'rxn09109_c0': 0.9999931,\n",
       " 'rxn15972_c0': 0.61195153,\n",
       " 'rxn07981_c0': 0.99998075,\n",
       " 'rxn01981_c0': 5.6431326e-09,\n",
       " 'rxn07977_c0': 0.9999997,\n",
       " 'rxn02235_c0': 1.2342163e-05,\n",
       " 'rxn02834_c0': 0.99290544,\n",
       " 'rxn00543_c0': 0.98772734,\n",
       " 'rxn02733_c0': 0.025555458,\n",
       " 'rxn00719_c0': 0.97145617,\n",
       " 'rxn01145_c0': 0.9979315,\n",
       " 'rxn15749_c0': 3.349749e-05,\n",
       " 'rxn01345_c0': 2.7569078e-07,\n",
       " 'rxn04457_c0': 0.9999979,\n",
       " 'rxn01621_c0': 0.023249835,\n",
       " 'rxn05682_c0': 0.5065998,\n",
       " 'rxn01132_c0': 0.007471043,\n",
       " 'rxn04453_c0': 0.9808869,\n",
       " 'rxn01351_c0': 0.99931544,\n",
       " 'rxn01678_c0': 0.9986389,\n",
       " 'rxn04082_c0': 0.00043677152,\n",
       " 'rxn00007_c0': 0.010381493,\n",
       " 'rxn00302_c0': 0.9992265,\n",
       " 'rxn01124_c0': 0.058837228,\n",
       " 'rxn14427_c0': 0.76606387,\n",
       " 'rxn10253_c0': 0.009231097,\n",
       " 'rxn11859_c0': 3.124977e-05,\n",
       " 'rxn20984_c0': 2.241008e-07,\n",
       " 'rxn02305_c0': 0.973926,\n",
       " 'rxn11510_c0': 0.0015704042,\n",
       " 'rxn00698_c0': 0.00012501619,\n",
       " 'rxn08017_c0': 0.99888617,\n",
       " 'rxn02497_c0': 0.0014120323,\n",
       " 'rxn00785_c0': 0.99809676,\n",
       " 'rxn01029_c0': 0.29211146,\n",
       " 'rxn03991_c0': 0.14777525,\n",
       " 'rxn01896_c0': 0.99413157,\n",
       " 'rxn02314_c0': 0.014944236,\n",
       " 'rxn00817_c0': 0.22005057,\n",
       " 'rxn15947_c0': 0.48531166,\n",
       " 'rxn00300_c0': 0.9979585,\n",
       " 'rxn09315_c0': 0.035989366,\n",
       " 'rxn01602_c0': 0.9997653,\n",
       " 'rxn00369_c0': 0.0022498544,\n",
       " 'rxn09158_c0': 6.538312e-09,\n",
       " 'rxn40411_c0': 5.0513297e-08,\n",
       " 'rxn00532_c0': 0.00047891593,\n",
       " 'rxn12549_c0': 0.005044438,\n",
       " 'rxn01607_c0': 0.0022296424,\n",
       " 'rxn24612_c0': 0.9976779,\n",
       " 'rxn01390_c0': 9.869692e-05,\n",
       " 'rxn08655_c0': 0.98016953,\n",
       " 'rxn04791_c0': 0.99999964,\n",
       " 'rxn01389_c0': 0.00010169421,\n",
       " 'rxn03644_c0': 0.0047655557,\n",
       " 'rxn27289_c0': 0.5915552,\n",
       " 'rxn10415_c0': 0.29779038,\n",
       " 'rxn05561_c0': 0.96425635,\n",
       " 'rxn05176_c0': 0.086046174,\n",
       " 'rxn04162_c0': 8.226008e-05,\n",
       " 'rxn00215_c0': 1.1713657e-06,\n",
       " 'rxn01361_c0': 0.08821164,\n",
       " 'rxn04016_c0': 0.49639326,\n",
       " 'rxn00152_c0': 0.00066032476,\n",
       " 'rxn02504_c0': 0.97267824,\n",
       " 'rxn01833_c0': 0.8648645,\n",
       " 'rxn05515_c0': 0.10597022,\n",
       " 'rxn08869_c0': 0.6983397,\n",
       " 'rxn01509_c0': 0.9960883,\n",
       " 'rxn05734_c0': 0.9998887,\n",
       " 'rxn05436_c0': 0.99998194,\n",
       " 'rxn10285_c0': 3.018258e-05,\n",
       " 'rxn08954_c0': 0.0002818599,\n",
       " 'rxn00606_c0': 0.0008879666,\n",
       " 'rxn01508_c0': 0.0005876441,\n",
       " 'rxn09320_c0': 2.3437271e-05,\n",
       " 'rxn06077_c0': 0.9996599,\n",
       " 'rxn10322_c0': 1.6128145e-07,\n",
       " 'rxn10237_c0': 0.99929357,\n",
       " 'rxn01840_c0': 0.020278899,\n",
       " 'rxn05156_c0': 0.9838277,\n",
       " 'rxn05649_c0': 0.0023008971,\n",
       " 'rxn04794_c0': 0.0014539411,\n",
       " 'rxn00504_c0': 0.99979645,\n",
       " 'rxn01737_c0': 0.00320664,\n",
       " 'rxn08661_c0': 0.059164196,\n",
       " 'rxn08851_c0': 0.99999523,\n",
       " 'rxn06510_c0': 1.0,\n",
       " 'rxn01603_c0': 0.9976234,\n",
       " 'rxn12645_c0': 0.9999993,\n",
       " 'rxn02332_c0': 1.8260162e-07,\n",
       " 'rxn04601_c0': 0.013662701,\n",
       " 'rxn12512_c0': 0.9959648,\n",
       " 'rxn01176_c0': 0.13128908,\n",
       " 'rxn02320_c0': 0.9974473,\n",
       " 'rxn09003_c0': 0.6686908,\n",
       " 'rxn00653_c0': 0.999846,\n",
       " 'rxn09182_c0': 0.2827349,\n",
       " 'rxn05351_c0': 3.7260352e-06,\n",
       " 'rxn10266_c0': 0.9999194,\n",
       " 'rxn01128_c0': 0.00044494309,\n",
       " 'rxn00409_c0': 0.99878085,\n",
       " 'rxn07191_c0': 1.3837179e-07,\n",
       " 'rxn04603_c0': 0.0006949519,\n",
       " 'rxn00307_c0': 0.42151278,\n",
       " 'rxn01618_c0': 0.02564715,\n",
       " 'rxn00851_c0': 0.99978215,\n",
       " 'rxn05353_c0': 5.0680096e-06,\n",
       " 'rxn01301_c0': 0.9958405,\n",
       " 'rxn09269_c0': 6.438593e-07,\n",
       " 'rxn05378_c0': 7.502059e-05,\n",
       " 'rxn08535_c0': 2.0839037e-05,\n",
       " 'rxn10297_c0': 1.7724551e-06,\n",
       " 'rxn09159_c0': 3.681154e-08,\n",
       " 'rxn02094_c0': 0.007911261,\n",
       " 'rxn00449_c0': 0.0059636803,\n",
       " 'rxn08618_c0': 0.00073669356,\n",
       " 'rxn00175_c0': 0.99978584,\n",
       " 'rxn01051_c0': 1.4493039e-05,\n",
       " 'rxn01387_c0': 0.99931496,\n",
       " 'rxn01316_c0': 0.33167356,\n",
       " 'rxn05297_c0': 0.2048963,\n",
       " 'rxn00562_c0': 0.99826765,\n",
       " 'rxn01746_c0': 0.15342389,\n",
       " 'rxn10193_c0': 0.003778417,\n",
       " 'rxn09193_c0': 0.079325125,\n",
       " 'rxn01972_c0': 0.08129981,\n",
       " 'rxn00101_c0': 0.9250884,\n",
       " 'rxn02465_c0': 0.99264693,\n",
       " 'rxn01423_c0': 0.12817274,\n",
       " 'rxn01879_c0': 1.0986444e-05,\n",
       " 'rxn03004_c0': 0.9980857,\n",
       " 'rxn05162_c0': 4.3260334e-05,\n",
       " 'rxn00742_c0': 0.6470962,\n",
       " 'rxn01775_c0': 0.061106432,\n",
       " 'rxn02898_c0': 0.000705039,\n",
       " 'rxn09069_c0': 0.008724113,\n",
       " 'rxn01893_c0': 0.18291685,\n",
       " 'rxn03360_c0': 0.87545204,\n",
       " 'rxn05166_c0': 0.19709125,\n",
       " 'rxn25270_c0': 0.9423073,\n",
       " 'rxn13974_c0': 0.00025195384,\n",
       " 'rxn00708_c0': 0.9974607,\n",
       " 'rxn08171_c0': 0.01923571,\n",
       " 'rxn05028_c0': 4.3465814e-05,\n",
       " 'rxn01834_c0': 0.9981695,\n",
       " 'rxn03643_c0': 0.00011572684,\n",
       " 'rxn47516_c0': 2.176745e-05,\n",
       " 'rxn04159_c0': 0.017099513,\n",
       " 'rxn09233_c0': 0.0044122324,\n",
       " 'rxn05106_c0': 0.0028315792,\n",
       " 'rxn23336_c0': 0.9983512,\n",
       " 'rxn02400_c0': 0.99846685,\n",
       " 'rxn00808_c0': 0.00043166606,\n",
       " 'rxn01626_c0': 0.993907,\n",
       " 'rxn10282_c0': 5.70444e-05,\n",
       " 'rxn05157_c0': 0.5672464,\n",
       " 'rxn00946_c0': 0.9995435,\n",
       " 'rxn05673_c0': 8.6496264e-05,\n",
       " 'rxn08838_c0': 0.9999932,\n",
       " 'rxn00060_c0': 0.995783,\n",
       " 'rxn00377_c0': 0.95562416,\n",
       " 'rxn02028_c0': 0.9963946,\n",
       " 'rxn11942_c0': 0.03253961,\n",
       " 'rxn03043_c0': 0.030029643,\n",
       " 'rxn03384_c0': 0.9993321,\n",
       " 'rxn02212_c0': 0.9806954,\n",
       " 'rxn01521_c0': 0.99582916,\n",
       " 'rxn05890_c0': 0.24627788,\n",
       " 'rxn03242_c0': 0.06246539,\n",
       " 'rxn08444_c0': 0.8247839,\n",
       " 'rxn01220_c0': 3.1162033e-06,\n",
       " 'rxn00501_c0': 0.9946067,\n",
       " 'rxn03245_c0': 0.9999993,\n",
       " 'rxn02000_c0': 0.6067236,\n",
       " 'rxn03586_c0': 0.07512833,\n",
       " 'rxn08020_c0': 0.9987555,\n",
       " 'rxn00293_c0': 0.99284005,\n",
       " 'rxn10344_c0': 0.997929,\n",
       " 'rxn05493_c0': 0.006908538,\n",
       " 'rxn08762_c0': 0.1237679,\n",
       " 'rxn16617_c0': 0.00028917,\n",
       " 'rxn02321_c0': 4.3234395e-05,\n",
       " 'rxn05504_c0': 0.8340343,\n",
       " 'rxn10213_c0': 0.00010043932,\n",
       " 'rxn05616_c0': 0.5396866,\n",
       " 'rxn01615_c0': 2.8867138e-05,\n",
       " 'rxn01674_c0': 0.00042494375,\n",
       " 'rxn05500_c0': 0.00015330563,\n",
       " 'rxn00414_c0': 0.99955225,\n",
       " 'rxn05092_c0': 0.0042277398,\n",
       " 'rxn05469_c0': 1.0294206e-05,\n",
       " 'rxn03419_c0': 0.99917006,\n",
       " 'rxn08023_c0': 5.658397e-07,\n",
       " 'rxn01292_c0': 0.000205815,\n",
       " 'rxn09107_c0': 0.9999185,\n",
       " 'rxn00814_c0': 0.00030811477,\n",
       " 'rxn07948_c0': 0.016991802,\n",
       " 'rxn02226_c0': 9.316213e-06,\n",
       " 'rxn03512_c0': 0.9953289,\n",
       " 'rxn00695_c0': 0.022604713,\n",
       " 'rxn10199_c0': 0.9999934,\n",
       " 'rxn08124_c0': 0.99981165,\n",
       " 'rxn10210_c0': 5.732803e-05,\n",
       " 'rxn01580_c0': 0.33456928,\n",
       " 'rxn05349_c0': 0.9991707,\n",
       " 'rxn05663_c0': 0.00018211394,\n",
       " 'rxn00154_c0': 0.9998502,\n",
       " 'rxn07586_c0': 0.021967161,\n",
       " 'rxn08298_c0': 0.009150679,\n",
       " 'rxn08808_c0': 0.9999902,\n",
       " 'rxn08800_c0': 0.99999416,\n",
       " 'rxn07441_c0': 2.29914e-06,\n",
       " 'rxn02885_c0': 0.45579007,\n",
       " 'rxn05165_c0': 0.8868707,\n",
       " 'rxn02270_c0': 0.9948382,\n",
       " 'rxn00673_c0': 4.374708e-06,\n",
       " 'rxn01094_c0': 0.0027727897,\n",
       " 'rxn12847_c0': 0.9999986,\n",
       " 'rxn03031_c0': 0.999412,\n",
       " 'rxn10233_c0': 0.9992603,\n",
       " 'rxn00506_c0': 0.9998708,\n",
       " 'rxn00290_c0': 0.6908693,\n",
       " 'rxn00638_c0': 0.044634916,\n",
       " 'rxn10313_c0': 0.007287905,\n",
       " 'rxn00423_c0': 0.9920607,\n",
       " 'rxn00433_c0': 0.9904361,\n",
       " 'rxn00288_c0': 0.99948204,\n",
       " 'rxn24613_c0': 1.020577e-05,\n",
       " 'rxn01635_c0': 0.8666819,\n",
       " 'rxn09314_c0': 0.07207766,\n",
       " 'rxn00758_c0': 0.9994363,\n",
       " 'rxn05206_c0': 0.96466434,\n",
       " 'rxn01709_c0': 0.0035055466,\n",
       " 'rxn10206_c0': 6.9553476e-05,\n",
       " 'rxn01685_c0': 2.3224147e-05,\n",
       " 'rxn00066_c0': 0.3110702,\n",
       " 'rxn11938_c0': 6.79967e-05,\n",
       " 'rxn00122_c0': 0.9985642,\n",
       " 'rxn01314_c0': 0.024168128,\n",
       " 'rxn05235_c0': 0.005327281,\n",
       " 'rxn08848_c0': 0.9999959,\n",
       " 'rxn00379_c0': 0.9931813,\n",
       " 'rxn10274_c0': 4.4174867e-05,\n",
       " 'rxn05115_c0': 0.99491906,\n",
       " 'rxn08552_c0': 8.4789695e-05,\n",
       " 'rxn00546_c0': 8.872681e-05,\n",
       " 'rxn00629_c0': 0.69230795,\n",
       " 'rxn07466_c0': 0.123534344,\n",
       " 'rxn02279_c0': 0.0050079576,\n",
       " 'rxn12644_c0': 0.99999934,\n",
       " 'rxn05327_c0': 0.9999806,\n",
       " 'rxn03978_c0': 0.0045785327,\n",
       " 'rxn02466_c0': 1.1856459e-06,\n",
       " 'rxn06937_c0': 0.99561006,\n",
       " 'rxn05357_c0': 6.4654173e-06,\n",
       " 'rxn01522_c0': 0.997587,\n",
       " 'rxn10207_c0': 7.465391e-05,\n",
       " 'rxn02159_c0': 0.9955531,\n",
       " 'rxn01917_c0': 0.9976472,\n",
       " 'rxn02402_c0': 0.5937011,\n",
       " 'rxn00265_c0': 0.053676125,\n",
       " 'rxn01201_c0': 3.3114277e-06,\n",
       " 'rxn00143_c0': 0.26772162,\n",
       " 'rxn10014_c0': 0.0043263575,\n",
       " 'rxn10232_c0': 0.9992993,\n",
       " 'rxn05147_c0': 0.0073503,\n",
       " 'rxn05604_c0': 0.0009681365,\n",
       " 'rxn10596_c0': 9.9696035e-06,\n",
       " 'rxn00539_c0': 0.047877777,\n",
       " 'rxn03409_c0': 0.9998182,\n",
       " 'rxn07430_c0': 0.8833353,\n",
       " 'rxn04661_c0': 1.7040977e-05,\n",
       " 'rxn05579_c0': 0.28623813,\n",
       " 'rxn08310_c0': 0.99350476,\n",
       " 'rxn00305_c0': 0.000704315,\n",
       " 'rxn02508_c0': 0.99915,\n",
       " 'rxn05039_c0': 1.1371057e-05,\n",
       " 'rxn09562_c0': 0.9964099,\n",
       " 'rxn16149_c0': 0.026125668,\n",
       " 'rxn09944_c0': 0.0013291548,\n",
       " 'rxn00355_c0': 0.0016075624,\n",
       " 'rxn01022_c0': 0.48173714,\n",
       " 'rxn05593_c0': 0.0004599752,\n",
       " 'rxn02071_c0': 0.02594057,\n",
       " 'rxn08823_c0': 0.99999493,\n",
       " 'rxn04161_c0': 0.01451558,\n",
       " 'rxn05146_c0': 0.8107895,\n",
       " 'rxn03916_c0': 0.08562739,\n",
       " 'rxn24718_c0': 0.9999984,\n",
       " 'rxn02937_c0': 0.9966767,\n",
       " 'rxn00392_c0': 0.9987256,\n",
       " 'rxn28338_c0': 0.3713257,\n",
       " 'rxn00470_c0': 0.8551562,\n",
       " 'rxn00493_c0': 0.99999934,\n",
       " 'rxn25271_c0': 0.88464147,\n",
       " 'rxn09106_c0': 0.99990726,\n",
       " 'rxn05625_c0': 0.24881597,\n",
       " 'rxn00371_c0': 0.95538414,\n",
       " 'rxn16611_c0': 0.08554876,\n",
       " 'rxn09127_c0': 5.611962e-09,\n",
       " 'rxn05581_c0': 0.0062864902,\n",
       " 'rxn00365_c0': 0.0019705351,\n",
       " 'rxn39860_c0': 0.00027879438,\n",
       " 'rxn01506_c0': 0.0085282205,\n",
       " 'rxn09176_c0': 0.78274065,\n",
       " 'rxn08781_c0': 9.825595e-05,\n",
       " 'rxn01358_c0': 0.99873054,\n",
       " 'rxn04604_c0': 0.065217875,\n",
       " 'rxn05655_c0': 0.007095511,\n",
       " 'rxn03446_c0': 0.9959032,\n",
       " 'rxn10839_c0': 1.7804665e-05,\n",
       " 'rxn06033_c0': 6.0718304e-07,\n",
       " 'rxn01388_c0': 0.9998195,\n",
       " 'rxn05248_c0': 0.99997866,\n",
       " 'rxn10595_c0': 1.6593943e-06,\n",
       " 'rxn05127_c0': 0.021725006,\n",
       " ...}"
      ]
     },
     "execution_count": 14,
     "metadata": {},
     "output_type": "execute_result"
    }
   ],
   "source": [
    "prediction"
   ]
  },
  {
   "cell_type": "markdown",
   "id": "bf1f88b0",
   "metadata": {
    "id": "bf1f88b0"
   },
   "source": [
    "We can for instance save this as an dictionary (.json) if we want to use some other time"
   ]
  },
  {
   "cell_type": "code",
   "execution_count": null,
   "id": "799de12d",
   "metadata": {
    "id": "799de12d",
    "scrolled": true
   },
   "outputs": [],
   "source": [
    "p_file = open(output_path+\"/prediction_example.json\", 'w')\n",
    "json.dump(str(prediction), p_file)"
   ]
  },
  {
   "attachments": {},
   "cell_type": "markdown",
   "id": "57f05089",
   "metadata": {
    "id": "57f05089"
   },
   "source": [
    "Of course you might not already have a dictionary with reaction presences. \n",
    "To convert a set of reactions ids to a binary array, based on a given set of ids, you may run:"
   ]
  },
  {
   "cell_type": "code",
   "execution_count": 15,
   "id": "82adb5b5",
   "metadata": {
    "colab": {
     "base_uri": "https://localhost:8080/"
    },
    "id": "82adb5b5",
    "outputId": "86c9e882-b715-48a9-8b0c-e54b1eba3ef7",
    "scrolled": true
   },
   "outputs": [
    {
     "name": "stdout",
     "output_type": "stream",
     "text": [
      "Using user-provided ids\n",
      "#reactions not in NN_rxn:  0\n"
     ]
    }
   ],
   "source": [
    "list_of_reactions = [i for i in binary_example if binary_example[i] == 1]\n",
    "default_ids  = NN_Predictor.load_ids()\n",
    "binary_input = NN_Predictor.convert_reaction_list(list_of_reactions, NN_reaction_ids = default_ids)"
   ]
  },
  {
   "cell_type": "code",
   "execution_count": 21,
   "id": "2a02e327",
   "metadata": {},
   "outputs": [
    {
     "data": {
      "text/plain": [
       "['rxn03137_c0', 'rxn08076_c0', 'rxn03241_c0', 'rxn05195_c0', 'rxn05335_c0']"
      ]
     },
     "execution_count": 21,
     "metadata": {},
     "output_type": "execute_result"
    }
   ],
   "source": [
    "list_of_reactions[:5]"
   ]
  },
  {
   "cell_type": "code",
   "execution_count": 23,
   "id": "d3326f51",
   "metadata": {},
   "outputs": [
    {
     "data": {
      "text/plain": [
       "array(['rxn08713_c0', 'rxn03137_c0', 'rxn09195_c0', ..., 'rxn01465_c0',\n",
       "       'rxn29120_c0', 'rxn01322_c0'], dtype='<U11')"
      ]
     },
     "execution_count": 23,
     "metadata": {},
     "output_type": "execute_result"
    }
   ],
   "source": [
    "default_ids"
   ]
  },
  {
   "cell_type": "code",
   "execution_count": 16,
   "id": "a5a8606d",
   "metadata": {
    "colab": {
     "base_uri": "https://localhost:8080/"
    },
    "id": "a5a8606d",
    "outputId": "bc0faa74-b632-4bce-c7d2-2b3fabf2c6f8"
   },
   "outputs": [
    {
     "ename": "TypeError",
     "evalue": "unsupported operand type(s) for +: 'NoneType' and 'str'",
     "output_type": "error",
     "traceback": [
      "\u001b[0;31m---------------------------------------------------------------------------\u001b[0m",
      "\u001b[0;31mTypeError\u001b[0m                                 Traceback (most recent call last)",
      "\u001b[1;32m/home/luna.kuleuven.be/u0156635/github_repos/DNNGIOR/tutorials/Codeclub_colab.ipynb Cell 19\u001b[0m in \u001b[0;36m1\n\u001b[0;32m----> <a href='vscode-notebook-cell:/home/luna.kuleuven.be/u0156635/github_repos/DNNGIOR/tutorials/Codeclub_colab.ipynb#X33sZmlsZQ%3D%3D?line=0'>1</a>\u001b[0m binary_input \u001b[39m=\u001b[39m NN_Predictor\u001b[39m.\u001b[39;49mconvert_reaction_list(list_of_reactions)\n",
      "File \u001b[0;32m~/github_repos/DNNGIOR/dnngior/NN_Predictor.py:160\u001b[0m, in \u001b[0;36mconvert_reaction_list\u001b[0;34m(reaction_set, NN_reaction_ids, trainedNN)\u001b[0m\n\u001b[1;32m    158\u001b[0m \u001b[39mif\u001b[39;00m(\u001b[39mlist\u001b[39m(reaction_set)[\u001b[39m0\u001b[39m][:\u001b[39m3\u001b[39m] \u001b[39m==\u001b[39m \u001b[39m'\u001b[39m\u001b[39mrxn\u001b[39m\u001b[39m'\u001b[39m):\n\u001b[1;32m    159\u001b[0m     model_type \u001b[39m=\u001b[39m \u001b[39m'\u001b[39m\u001b[39mModelSEED\u001b[39m\u001b[39m'\u001b[39m\n\u001b[0;32m--> 160\u001b[0m     NN_reaction_ids \u001b[39m=\u001b[39m np\u001b[39m.\u001b[39mload(trainedNN \u001b[39m+\u001b[39;49m \u001b[39m'\u001b[39;49m\u001b[39m/rxn_ids_ModelSEED.npy\u001b[39;49m\u001b[39m'\u001b[39;49m, allow_pickle\u001b[39m=\u001b[39m\u001b[39mTrue\u001b[39;00m)\u001b[39m.\u001b[39mastype(\u001b[39m'\u001b[39m\u001b[39mstr\u001b[39m\u001b[39m'\u001b[39m)\n\u001b[1;32m    161\u001b[0m \u001b[39melse\u001b[39;00m:\n\u001b[1;32m    162\u001b[0m     model_type \u001b[39m=\u001b[39m \u001b[39m'\u001b[39m\u001b[39mBiGG\u001b[39m\u001b[39m'\u001b[39m\n",
      "\u001b[0;31mTypeError\u001b[0m: unsupported operand type(s) for +: 'NoneType' and 'str'"
     ]
    }
   ],
   "source": [
    "binary_input = NN_Predictor.convert_reaction_list(list_of_reactions)"
   ]
  },
  {
   "cell_type": "markdown",
   "id": "867796ff",
   "metadata": {
    "id": "867796ff"
   },
   "source": [
    "But if you want to use the default NN, the predictor will do this \n",
    "automatically for you if you give a list of reactions"
   ]
  },
  {
   "cell_type": "code",
   "execution_count": null,
   "id": "a9ecb187",
   "metadata": {
    "colab": {
     "base_uri": "https://localhost:8080/"
    },
    "id": "a9ecb187",
    "outputId": "59886529-9921-4754-a3c2-16e236b3deb4"
   },
   "outputs": [],
   "source": [
    "NN_Predictor.make_prediction(input=list_of_reactions, NN=NN_MS)"
   ]
  },
  {
   "cell_type": "markdown",
   "id": "8f9a2239",
   "metadata": {
    "id": "8f9a2239"
   },
   "source": [
    "# Multiple predictions\n",
    "\n",
    "We can also make predictions for multiple models at the same time, starting with a reaction presence dataframe where the rows are the different reactions and the columns are the model ids:"
   ]
  },
  {
   "cell_type": "code",
   "execution_count": null,
   "id": "88ec4ebd",
   "metadata": {
    "id": "88ec4ebd"
   },
   "outputs": [],
   "source": [
    "#multiple binary reaction lists (csv)\n",
    "input_path = file_path+'/Sample_reaction_presence.csv'\n",
    "df = pd.read_csv(input_path, index_col=0)"
   ]
  },
  {
   "cell_type": "code",
   "execution_count": null,
   "id": "834a959a",
   "metadata": {
    "id": "834a959a"
   },
   "outputs": [],
   "source": []
  },
  {
   "cell_type": "markdown",
   "id": "da538646",
   "metadata": {
    "id": "da538646"
   },
   "source": [
    "We can then create a array of prediction scores with the same order of reaction and model ids"
   ]
  },
  {
   "cell_type": "code",
   "execution_count": null,
   "id": "08de9604",
   "metadata": {
    "colab": {
     "base_uri": "https://localhost:8080/"
    },
    "id": "08de9604",
    "outputId": "3956a586-bea2-4590-fe8d-912c8e9174f9"
   },
   "outputs": [],
   "source": [
    "df_p = NN_Predictor.make_prediction(df.T)"
   ]
  },
  {
   "cell_type": "markdown",
   "id": "f082c248",
   "metadata": {
    "id": "f082c248"
   },
   "source": [
    "Finally we can create a dataframe of predictions so we can see which score corresponds to which model and reaction id"
   ]
  },
  {
   "cell_type": "code",
   "execution_count": null,
   "id": "be128123",
   "metadata": {
    "colab": {
     "base_uri": "https://localhost:8080/",
     "height": 456
    },
    "id": "be128123",
    "outputId": "39e99d1f-eb5a-4d39-c0a7-94ef5a5ed1e5"
   },
   "outputs": [],
   "source": [
    "df_p"
   ]
  },
  {
   "cell_type": "markdown",
   "id": "htUAgPd9Mqxb",
   "metadata": {
    "id": "htUAgPd9Mqxb"
   },
   "source": [
    "# Predicting based on a model"
   ]
  },
  {
   "cell_type": "markdown",
   "id": "e0ca7549",
   "metadata": {
    "id": "e0ca7549"
   },
   "source": [
    "Usually however you will probably not have any of the previous stuff, but rather a model:"
   ]
  },
  {
   "cell_type": "code",
   "execution_count": null,
   "id": "2e225de0",
   "metadata": {
    "id": "2e225de0"
   },
   "outputs": [],
   "source": [
    "draft_model_location = os.path.join(path, 'files',  'models', 'E_coli_KTE31_388739.3_r30_removed.sbml')\n",
    "draft_model = cobra.io.read_sbml_model(draft_model_location) \n"
   ]
  },
  {
   "cell_type": "markdown",
   "id": "7f69c870",
   "metadata": {
    "id": "7f69c870"
   },
   "source": [
    "We can list the reactions from the model and use those as input"
   ]
  },
  {
   "cell_type": "code",
   "execution_count": null,
   "id": "5cdeed96",
   "metadata": {
    "id": "5cdeed96"
   },
   "outputs": [],
   "source": [
    "list_of_reactions = draft_model.reactions.list_attr('id')"
   ]
  },
  {
   "cell_type": "markdown",
   "id": "Ncv0NlO2NTJ1",
   "metadata": {
    "id": "Ncv0NlO2NTJ1"
   },
   "source": [
    "or if you give a model as input the predictor will try and do this for you"
   ]
  },
  {
   "cell_type": "code",
   "execution_count": null,
   "id": "b66b7275",
   "metadata": {
    "colab": {
     "base_uri": "https://localhost:8080/"
    },
    "id": "b66b7275",
    "outputId": "17ffad32-d27b-4245-e68a-caa1ee8e1e97"
   },
   "outputs": [],
   "source": [
    "NN_Predictor.make_prediction(input=draft_model, NN=NN_MS)"
   ]
  },
  {
   "cell_type": "markdown",
   "id": "rMYkTuUGNjVV",
   "metadata": {
    "id": "rMYkTuUGNjVV"
   },
   "source": [
    "# Gapfilling with the scores"
   ]
  },
  {
   "cell_type": "markdown",
   "id": "g90Ug6yWNqxk",
   "metadata": {
    "id": "g90Ug6yWNqxk"
   },
   "source": [
    "Unfortunately, I forgot that you need a gurobi license to do the actual gapfilling which is a bit of a hassle. Gapfilling will look a bit like this:"
   ]
  },
  {
   "cell_type": "code",
   "execution_count": null,
   "id": "ZyxuwI5QGjJ_",
   "metadata": {
    "id": "ZyxuwI5QGjJ_"
   },
   "outputs": [],
   "source": [
    "from reaction_class import Reaction\n",
    "import gapfill_function\n",
    "\n",
    "\n",
    "draft_model = Reaction(model=draft_model_location)\n",
    "biochem = os.path.join(path.parent, 'files',  'biochemistry', 'reactions.tsv')\n",
    "db_reactions = Reaction(biochem_input=biochem)\n",
    "\n",
    "#Combine all reactions into one object\n",
    "\n",
    "all_reactions = Reaction()\n",
    "all_reactions.reactions = all_reactions.add_dict(draft_model.reactions, db_reactions.reactions) \n",
    "draft_reaction_ids = set(draft_model.reactions)"
   ]
  },
  {
   "cell_type": "code",
   "execution_count": null,
   "id": "g--Pj6BvJcF0",
   "metadata": {
    "id": "g--Pj6BvJcF0"
   },
   "outputs": [],
   "source": [
    "def_gf_model, obj, new_reacs = gapfill_function.gapfill(all_reactions, draft_reaction_ids, {}, 'bio1', medium = 'complete', result_selection = 'min_reactions')\n"
   ]
  },
  {
   "cell_type": "code",
   "execution_count": null,
   "id": "vMxJ8O7bJJD2",
   "metadata": {
    "colab": {
     "base_uri": "https://localhost:8080/",
     "height": 485
    },
    "id": "vMxJ8O7bJJD2",
    "outputId": "828183ff-41c2-4d22-f90e-be81f0bf95fc"
   },
   "outputs": [],
   "source": [
    "p = NN_Predictor.make_prediction(draft_reaction_ids)\n",
    "\n",
    "weights = {}\n",
    "for i in p:\n",
    "    weights[i]  = np.round(1-p[i])\n",
    "\n",
    "NN_gf_model, obj, new_reacs = gapfill_function.gapfill(all_reactions, draft_reaction_ids, weights, 'bio1', medium = 'complete', result_selection = 'min_reactions')\n"
   ]
  },
  {
   "cell_type": "code",
   "execution_count": null,
   "id": "d9aa697f",
   "metadata": {},
   "outputs": [],
   "source": []
  },
  {
   "cell_type": "code",
   "execution_count": null,
   "id": "d8dbb038",
   "metadata": {},
   "outputs": [],
   "source": [
    "model_location = os.path.join(path.parent, 'files',  'models')\n",
    "cobra.io.write_sbml_model(def_gf_model, model_location+'/E_coli_KTE31_388739.3_gf_def.sbml')\n",
    "cobra.io.write_sbml_model(NN_gf_model, model_location+'/E_coli_KTE31_388739.3_gf_NN.sbml')\n"
   ]
  },
  {
   "cell_type": "markdown",
   "id": "DHGiNZxoOMQW",
   "metadata": {
    "id": "DHGiNZxoOMQW"
   },
   "source": [
    "# Comparing gapfilled models"
   ]
  },
  {
   "cell_type": "markdown",
   "id": "n95pfVGYOUB-",
   "metadata": {
    "id": "n95pfVGYOUB-"
   },
   "source": [
    "Now that we can look at the different gapfilled models to compare"
   ]
  },
  {
   "cell_type": "code",
   "execution_count": null,
   "id": "v7ugkkzCOdz3",
   "metadata": {
    "id": "v7ugkkzCOdz3"
   },
   "outputs": [],
   "source": [
    "model_location = os.path.join(path.parent, 'files',  'models')\n",
    "more_complete_model_location = os.path.join(model_location+'/E_coli_KTE31_388739.3_draft.sbml')\n",
    "def_gf_model_location = os.path.join(path.parent, 'files',  'models', 'E_coli_KTE31_388739.3_gf_def.sbml')\n",
    "NN_gf_model_location = os.path.join(path.parent, 'files',  'models', 'E_coli_KTE31_388739.3_gf_NN.sbml')\n",
    "\n",
    "more_complete = cobra.io.read_sbml_model(more_complete_model_location) \n",
    "def_gf_model =cobra.io.read_sbml_model(def_gf_model_location) \n",
    "NN_gf_model = cobra.io.read_sbml_model(NN_gf_model_location) \n",
    "\n",
    "c_reactions = set(more_complete.reactions.list_attr('id'))\n",
    "def_gf_reactions = set(def_gf_model.reactions.list_attr('id'))\n",
    "NN_gf_reactions = set(NN_gf_model.reactions.list_attr('id'))\n",
    "\n",
    "rem_reactions = c_reactions.difference(draft_reaction_ids)\n",
    "new_reactions_def = def_gf_reactions.difference(draft_reaction_ids)\n",
    "new_reactions_NN = NN_gf_reactions.difference(draft_reaction_ids)"
   ]
  },
  {
   "cell_type": "code",
   "execution_count": null,
   "id": "ZZVsy1R2O7Tf",
   "metadata": {
    "id": "ZZVsy1R2O7Tf"
   },
   "outputs": [],
   "source": [
    "TP_NN = len(new_reactions_NN.intersection(c_reactions))\n",
    "FP_NN = len(new_reacs) - TP_NN\n",
    "FN_NN = len(rem_reactions.difference(new_reacs))\n",
    "TN_NN = len(all_reactions.reactions) - (FP_NN+TP_NN+FN_NN)\n"
   ]
  },
  {
   "cell_type": "code",
   "execution_count": null,
   "id": "rSuSf47nQqPs",
   "metadata": {
    "id": "rSuSf47nQqPs"
   },
   "outputs": [],
   "source": [
    "TP_def = len(new_reactions_def.intersection(c_reactions))\n",
    "FP_def = len(new_reactions_def) - TP_def\n",
    "FN_def = len(rem_reactions.difference(new_reactions_def))\n",
    "TN_def = len(all_reactions.reactions) - (FP_def+TP_def+FN_def)"
   ]
  },
  {
   "cell_type": "code",
   "execution_count": null,
   "id": "ZktIJ6XBQv3D",
   "metadata": {
    "id": "ZktIJ6XBQv3D"
   },
   "outputs": [],
   "source": [
    "f1_NN = 2*TP_NN/(2*TP_def+FP_def+FN_def)\n",
    "f1_def = 2*TP_def/(2*TP_def+FP_def+FN_def)"
   ]
  },
  {
   "cell_type": "code",
   "execution_count": null,
   "id": "dcba9794",
   "metadata": {},
   "outputs": [],
   "source": [
    "f1_def"
   ]
  }
 ],
 "metadata": {
  "colab": {
   "provenance": []
  },
  "kernelspec": {
   "display_name": "Python 3 (ipykernel)",
   "language": "python",
   "name": "python3"
  }
 },
 "nbformat": 4,
 "nbformat_minor": 5
}
