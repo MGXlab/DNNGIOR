{
 "cells": [
  {
   "cell_type": "markdown",
   "id": "212a1a57",
   "metadata": {},
   "source": [
    "# Gapfill a draft GEM using the `dnngior`gapfiller"
   ]
  },
  {
   "cell_type": "markdown",
   "id": "878d7db4",
   "metadata": {},
   "source": [
    "# Installation"
   ]
  },
  {
   "cell_type": "markdown",
   "id": "66cf9902",
   "metadata": {},
   "source": [
    "To run the `dnngior` gapfiller we need to have the [Gurobi](https://www.gurobi.com) solver. "
   ]
  },
  {
   "cell_type": "code",
   "execution_count": 22,
   "id": "5f327b25",
   "metadata": {},
   "outputs": [],
   "source": [
    "!pip install -i https://pypi.gurobi.com gurobipy"
   ]
  },
  {
   "cell_type": "markdown",
   "id": "6396af7e",
   "metadata": {},
   "source": [
    "To run `gurobi`, you first need a [license](https://www.gurobi.com/downloads/). \n",
    "If you are an acedemic, you may get a license for free.\n"
   ]
  },
  {
   "cell_type": "markdown",
   "id": "5b6af420",
   "metadata": {},
   "source": [
    "> **Attention!** To run `dnngior`, the Gurobi solver is **not** optional! \n",
    "Without a valid installation of Gurobi, `dnngior` will fail."
   ]
  },
  {
   "cell_type": "markdown",
   "id": "8c1e5a99",
   "metadata": {},
   "source": [
    "Once you have successfully got `gurobi`, you are ready to install the `dnngior` gapfiller. "
   ]
  },
  {
   "cell_type": "code",
   "execution_count": 3,
   "id": "cef60e3c",
   "metadata": {},
   "outputs": [],
   "source": [
    "!pip install dnngior"
   ]
  },
  {
   "cell_type": "markdown",
   "id": "a6ea7f58",
   "metadata": {},
   "source": [
    "You are now ready to gapfill any draft GEM as long as it's using the ModelSEED ontology for compounds and reactions."
   ]
  },
  {
   "cell_type": "markdown",
   "id": "c2338f35",
   "metadata": {},
   "source": [
    "## Gapfill using a complete medium"
   ]
  },
  {
   "cell_type": "markdown",
   "id": "4cbdc2a7",
   "metadata": {},
   "source": [
    "Let us get a genome scale reconstruction of a *Blautia* strain to work with:"
   ]
  },
  {
   "cell_type": "code",
   "execution_count": 42,
   "id": "824da992",
   "metadata": {},
   "outputs": [],
   "source": [
    "import os, sys\n",
    "\n",
    "cwd         = os.getcwd()\n",
    "repo_path   = \"/\".join(os.path.abspath(cwd).split(\"/\")[:-1])\n",
    "models_path = os.path.join(repo_path, \"docs/models\")\n",
    "path_to_blautia_model = os.path.join(models_path, \"bh_ungapfilled_model.sbml\")"
   ]
  },
  {
   "cell_type": "markdown",
   "id": "bc5f7006",
   "metadata": {},
   "source": [
    "Now, we can load the initial reconstruction, check its medium and whether it grows on it. So. let's print the first 4 exchange reactions on the current medium and see how many exchange reactions are present on the initial reconstruction."
   ]
  },
  {
   "cell_type": "code",
   "execution_count": 79,
   "id": "f4bb7447",
   "metadata": {},
   "outputs": [
    {
     "name": "stderr",
     "output_type": "stream",
     "text": [
      "'' is not a valid SBML 'SId'.\n"
     ]
    },
    {
     "name": "stdout",
     "output_type": "stream",
     "text": [
      "Exchange for H+ [e] [e0]\n",
      "Exchange for Adenosine [e] [e0]\n",
      "Exchange for Fumarate [e] [e0]\n",
      "Exchange for Nitrite [e] [e0]\n",
      "Number of compounds on initial medium:  148\n"
     ]
    }
   ],
   "source": [
    "import cobra\n",
    "draft_reconstruction = cobra.io.read_sbml_model(path_to_blautia_model)\n",
    "\n",
    "# Check current medium\n",
    "counter = 0 \n",
    "for i in model.medium:\n",
    "    counter += 1\n",
    "    if counter < 5:\n",
    "        print(draft_reconstruction.reactions.get_by_id(i).name)\n",
    "print(\"Number of compounds on initial medium: \", len(draft_reconstruction.medium))\n"
   ]
  },
  {
   "cell_type": "markdown",
   "id": "72337e12",
   "metadata": {},
   "source": [
    "Now let us see if the initial reconstruction is a growing model. "
   ]
  },
  {
   "cell_type": "code",
   "execution_count": 44,
   "id": "f0ed219a",
   "metadata": {},
   "outputs": [
    {
     "data": {
      "text/html": [
       "<strong><em>Optimal</em> solution with objective value 0.000</strong><br><div>\n",
       "<style scoped>\n",
       "    .dataframe tbody tr th:only-of-type {\n",
       "        vertical-align: middle;\n",
       "    }\n",
       "\n",
       "    .dataframe tbody tr th {\n",
       "        vertical-align: top;\n",
       "    }\n",
       "\n",
       "    .dataframe thead th {\n",
       "        text-align: right;\n",
       "    }\n",
       "</style>\n",
       "<table border=\"1\" class=\"dataframe\">\n",
       "  <thead>\n",
       "    <tr style=\"text-align: right;\">\n",
       "      <th></th>\n",
       "      <th>fluxes</th>\n",
       "      <th>reduced_costs</th>\n",
       "    </tr>\n",
       "  </thead>\n",
       "  <tbody>\n",
       "    <tr>\n",
       "      <th>rxn02201_c0</th>\n",
       "      <td>0.0</td>\n",
       "      <td>0.0</td>\n",
       "    </tr>\n",
       "    <tr>\n",
       "      <th>rxn00351_c0</th>\n",
       "      <td>0.0</td>\n",
       "      <td>0.0</td>\n",
       "    </tr>\n",
       "    <tr>\n",
       "      <th>rxn00836_c0</th>\n",
       "      <td>0.0</td>\n",
       "      <td>0.0</td>\n",
       "    </tr>\n",
       "    <tr>\n",
       "      <th>rxn05318_c0</th>\n",
       "      <td>0.0</td>\n",
       "      <td>0.0</td>\n",
       "    </tr>\n",
       "    <tr>\n",
       "      <th>rxn01094_c0</th>\n",
       "      <td>0.0</td>\n",
       "      <td>0.0</td>\n",
       "    </tr>\n",
       "    <tr>\n",
       "      <th>...</th>\n",
       "      <td>...</td>\n",
       "      <td>...</td>\n",
       "    </tr>\n",
       "    <tr>\n",
       "      <th>SK_cpd02701_c0</th>\n",
       "      <td>0.0</td>\n",
       "      <td>0.0</td>\n",
       "    </tr>\n",
       "    <tr>\n",
       "      <th>SK_cpd11416_c0</th>\n",
       "      <td>0.0</td>\n",
       "      <td>0.0</td>\n",
       "    </tr>\n",
       "    <tr>\n",
       "      <th>SK_cpd15302_c0</th>\n",
       "      <td>0.0</td>\n",
       "      <td>0.0</td>\n",
       "    </tr>\n",
       "    <tr>\n",
       "      <th>SK_cpd03091_c0</th>\n",
       "      <td>0.0</td>\n",
       "      <td>0.0</td>\n",
       "    </tr>\n",
       "    <tr>\n",
       "      <th>SK_cpd01042_c0</th>\n",
       "      <td>0.0</td>\n",
       "      <td>0.0</td>\n",
       "    </tr>\n",
       "  </tbody>\n",
       "</table>\n",
       "<p>1656 rows × 2 columns</p>\n",
       "</div>"
      ],
      "text/plain": [
       "<Solution 0.000 at 0x7f3e8ffce2f0>"
      ]
     },
     "execution_count": 44,
     "metadata": {},
     "output_type": "execute_result"
    }
   ],
   "source": [
    "draft_reconstruction.optimize()  "
   ]
  },
  {
   "cell_type": "markdown",
   "id": "5bb19628",
   "metadata": {},
   "source": [
    "Apparently, this reconstruction is not growing."
   ]
  },
  {
   "cell_type": "markdown",
   "id": "53a7d56a",
   "metadata": {},
   "source": [
    "So, let's gapfill it! \n",
    "\n",
    "Import the `dnngior` library and use the `Gapfill` class to gapfill the reconstruction. "
   ]
  },
  {
   "cell_type": "markdown",
   "id": "add28f53",
   "metadata": {},
   "source": []
  },
  {
   "cell_type": "code",
   "execution_count": 45,
   "id": "c11f6a36",
   "metadata": {
    "scrolled": true
   },
   "outputs": [
    {
     "name": "stderr",
     "output_type": "stream",
     "text": [
      "'' is not a valid SBML 'SId'.\n",
      "'' is not a valid SBML 'SId'.\n",
      "No objective coefficients in model. Unclear what should be optimized\n"
     ]
    },
    {
     "name": "stdout",
     "output_type": "stream",
     "text": [
      "Loading network at user provided path\n",
      "Converting to binary array:\n",
      "#reactions not found in keys:  155 / 1656\n"
     ]
    },
    {
     "name": "stderr",
     "output_type": "stream",
     "text": [
      "/home/luna.kuleuven.be/u0156635/.local/lib/python3.10/site-packages/keras/engine/training_v1.py:2357: UserWarning: `Model.state_updates` will be removed in a future version. This property should not be used in TensorFlow 2.0, as `updates` are applied automatically.\n",
      "  updates=self.state_updates,\n"
     ]
    },
    {
     "name": "stdout",
     "output_type": "stream",
     "text": [
      "Warning for adding constraints: zero or small (< 1e-13) coefficients, ignored\n",
      "Flux through biomass reaction is 1.00000000\n",
      "Flux through biomass reaction is 1.00000000\n",
      "Warning for adding constraints: zero or small (< 1e-13) coefficients, ignored\n",
      "\n",
      "\n",
      " condition is currently:  73622 \n",
      "\n",
      "\n",
      "Warning for adding constraints: zero or small (< 1e-13) coefficients, ignored\n",
      "\n",
      "\n",
      " condition is currently:  36811 \n",
      "\n",
      "\n",
      "Warning for adding constraints: zero or small (< 1e-13) coefficients, ignored\n",
      "\n",
      "\n",
      " condition is currently:  18405 \n",
      "\n",
      "\n",
      "Warning for adding constraints: zero or small (< 1e-13) coefficients, ignored\n",
      "\n",
      "\n",
      " condition is currently:  9202 \n",
      "\n",
      "\n",
      "Warning for adding constraints: zero or small (< 1e-13) coefficients, ignored\n",
      "\n",
      "\n",
      " condition is currently:  4601 \n",
      "\n",
      "\n",
      "Warning for adding constraints: zero or small (< 1e-13) coefficients, ignored\n",
      "\n",
      "\n",
      " condition is currently:  2300 \n",
      "\n",
      "\n",
      "Warning for adding constraints: zero or small (< 1e-13) coefficients, ignored\n",
      "\n",
      "\n",
      " condition is currently:  1150 \n",
      "\n",
      "\n",
      "Warning for adding constraints: zero or small (< 1e-13) coefficients, ignored\n",
      "\n",
      "\n",
      " condition is currently:  575 \n",
      "\n",
      "\n",
      "Warning for adding constraints: zero or small (< 1e-13) coefficients, ignored\n",
      "\n",
      "\n",
      " condition is currently:  287 \n",
      "\n",
      "\n",
      "Warning for adding constraints: zero or small (< 1e-13) coefficients, ignored\n",
      "\n",
      "\n",
      " condition is currently:  143 \n",
      "\n",
      "\n",
      "Warning for adding constraints: zero or small (< 1e-13) coefficients, ignored\n",
      "\n",
      "\n",
      " condition is currently:  71 \n",
      "\n",
      "\n",
      "Warning for adding constraints: zero or small (< 1e-13) coefficients, ignored\n",
      "\n",
      "\n",
      " condition is currently:  35 \n",
      "\n",
      "\n",
      "Warning for adding constraints: zero or small (< 1e-13) coefficients, ignored\n",
      "\n",
      "\n",
      " condition is currently:  17 \n",
      "\n",
      "\n",
      "Warning for adding constraints: zero or small (< 1e-13) coefficients, ignored\n",
      "\n",
      "\n",
      " condition is currently:  8 \n",
      "\n",
      "\n",
      "Warning for adding constraints: zero or small (< 1e-13) coefficients, ignored\n",
      "\n",
      "\n",
      " condition is currently:  4 \n",
      "\n",
      "\n",
      "Warning for adding constraints: zero or small (< 1e-13) coefficients, ignored\n",
      "\n",
      "\n",
      " condition is currently:  2 \n",
      "\n",
      "\n",
      "Warning for adding constraints: zero or small (< 1e-13) coefficients, ignored\n",
      "\n",
      "\n",
      " condition is currently:  1 \n",
      "\n",
      "\n",
      "Objective value is 0.154228.\n",
      "Read LP format model from file /tmp/tmp1wmlzbte.lp\n",
      "Reading time = 0.02 seconds\n",
      ": 1402 rows, 3346 columns, 14424 nonzeros\n"
     ]
    }
   ],
   "source": [
    "import dnngior\n",
    "gapfill_complete_medium = dnngior.Gapfill(draftModel = path_to_blautia_model, \n",
    "                                          medium = None, \n",
    "                                          objectiveName = 'bio1')"
   ]
  },
  {
   "cell_type": "markdown",
   "id": "3a5e0afd",
   "metadata": {},
   "source": [
    "Get the number of reactions added during the gapfilling along with their names. "
   ]
  },
  {
   "cell_type": "code",
   "execution_count": 46,
   "id": "e0246fe1",
   "metadata": {},
   "outputs": [
    {
     "name": "stdout",
     "output_type": "stream",
     "text": [
      "Number of eactions added: 17\n",
      "~~\n",
      "murein polymerizing transglycosylase\n",
      "R_R05617_c\n",
      "EX_cpd15432_e0\n",
      "acyl-CoA:malonyl-CoA C-acyltransferase (decarboxylating, oxoacyl- and enoyl-reducing, thioester-hydrolysing)\n",
      "-\n",
      "acyl-CoA:malonyl-CoA C-acyltransferase (decarboxylating, oxoacyl-\n",
      "S-adenosyl-L-methione:demethylmenaquinone methyltransferase\n",
      "EX_cpd15511_e0\n",
      "stearoyl-cardiolipin synthase\n",
      "glycolaldehyde:NAD+ oxidoreductase\n",
      "glycine/sarcosine/dimethylglycine N-methyltransferase\n",
      "EX_cpd02557_e0\n",
      "2-Amino-4-hydroxy-6-(erythro-1,2,3-trihydroxypropyl) dihydropteridine triphosphate phosphohydrolase (alkaline optimum)\n",
      "all-trans-Octaprenyl diphosphate\n",
      "EX_cpd02229_e0\n",
      "core oligosaccharide lipid A transport via vector (periplasm to extracellular)\n",
      "\n"
     ]
    }
   ],
   "source": [
    "print(\"Number of eactions added:\", len(gapfill_complete_medium.added_reactions))\n",
    "print(\"~~\")\n",
    "for reaction in gapfill_complete_medium.added_reactions:\n",
    "    print(gf_model_compl_med.reactions.get_by_id(reaction).name)"
   ]
  },
  {
   "cell_type": "markdown",
   "id": "2aebcfd6",
   "metadata": {},
   "source": [
    "Now make a new object of the gapfilled model."
   ]
  },
  {
   "cell_type": "code",
   "execution_count": 47,
   "id": "039f5090",
   "metadata": {},
   "outputs": [
    {
     "name": "stdout",
     "output_type": "stream",
     "text": [
      "Read LP format model from file /tmp/tmp1cme7kgq.lp\n",
      "Reading time = 0.01 seconds\n",
      ": 1402 rows, 3346 columns, 14424 nonzeros\n"
     ]
    }
   ],
   "source": [
    "gf_model_compl_med = gapfill_complete_medium.gapfilledModel.copy()"
   ]
  },
  {
   "cell_type": "markdown",
   "id": "9ab1cf86",
   "metadata": {},
   "source": [
    "And check whether it grows on its medium."
   ]
  },
  {
   "cell_type": "code",
   "execution_count": 48,
   "id": "53957634",
   "metadata": {},
   "outputs": [
    {
     "data": {
      "text/html": [
       "<strong><em>Optimal</em> solution with objective value 154.228</strong><br><div>\n",
       "<style scoped>\n",
       "    .dataframe tbody tr th:only-of-type {\n",
       "        vertical-align: middle;\n",
       "    }\n",
       "\n",
       "    .dataframe tbody tr th {\n",
       "        vertical-align: top;\n",
       "    }\n",
       "\n",
       "    .dataframe thead th {\n",
       "        text-align: right;\n",
       "    }\n",
       "</style>\n",
       "<table border=\"1\" class=\"dataframe\">\n",
       "  <thead>\n",
       "    <tr style=\"text-align: right;\">\n",
       "      <th></th>\n",
       "      <th>fluxes</th>\n",
       "      <th>reduced_costs</th>\n",
       "    </tr>\n",
       "  </thead>\n",
       "  <tbody>\n",
       "    <tr>\n",
       "      <th>EX_cpd01329_e0</th>\n",
       "      <td>0.000000</td>\n",
       "      <td>0.0</td>\n",
       "    </tr>\n",
       "    <tr>\n",
       "      <th>rxn04070_c0</th>\n",
       "      <td>0.432545</td>\n",
       "      <td>0.0</td>\n",
       "    </tr>\n",
       "    <tr>\n",
       "      <th>rxn05467_c0</th>\n",
       "      <td>-1000.000000</td>\n",
       "      <td>0.0</td>\n",
       "    </tr>\n",
       "    <tr>\n",
       "      <th>rxn00543_c0</th>\n",
       "      <td>0.000000</td>\n",
       "      <td>-0.0</td>\n",
       "    </tr>\n",
       "    <tr>\n",
       "      <th>rxn00527_c0</th>\n",
       "      <td>0.000000</td>\n",
       "      <td>0.0</td>\n",
       "    </tr>\n",
       "    <tr>\n",
       "      <th>...</th>\n",
       "      <td>...</td>\n",
       "      <td>...</td>\n",
       "    </tr>\n",
       "    <tr>\n",
       "      <th>rxn00131_c0</th>\n",
       "      <td>-41.057192</td>\n",
       "      <td>0.0</td>\n",
       "    </tr>\n",
       "    <tr>\n",
       "      <th>rxn05682_c0</th>\n",
       "      <td>0.000000</td>\n",
       "      <td>0.0</td>\n",
       "    </tr>\n",
       "    <tr>\n",
       "      <th>rxn00184_c0</th>\n",
       "      <td>0.000000</td>\n",
       "      <td>0.0</td>\n",
       "    </tr>\n",
       "    <tr>\n",
       "      <th>rxn01241_c0</th>\n",
       "      <td>0.000000</td>\n",
       "      <td>0.0</td>\n",
       "    </tr>\n",
       "    <tr>\n",
       "      <th>rxn21858_c0</th>\n",
       "      <td>0.432545</td>\n",
       "      <td>0.0</td>\n",
       "    </tr>\n",
       "  </tbody>\n",
       "</table>\n",
       "<p>1673 rows × 2 columns</p>\n",
       "</div>"
      ],
      "text/plain": [
       "<Solution 154.228 at 0x7f3d99d6f610>"
      ]
     },
     "execution_count": 48,
     "metadata": {},
     "output_type": "execute_result"
    }
   ],
   "source": [
    "gf_model_compl_med.optimize()"
   ]
  },
  {
   "cell_type": "markdown",
   "id": "55bddb9d",
   "metadata": {},
   "source": [
    "Check what compounds are now present on the model's medium that were not in the initial's reconstruction."
   ]
  },
  {
   "cell_type": "code",
   "execution_count": 82,
   "id": "64e3ba94",
   "metadata": {},
   "outputs": [
    {
     "name": "stdout",
     "output_type": "stream",
     "text": [
      "All exchange reactions of the initial reconstruction are present on the gapfilled model.\n",
      "\n",
      "Compound  Bactoprenyl diphosphate_e0  has been added in the gapfilled model's medium.\n",
      "Compound  Farnesylfarnesylgeraniol_e0  has been added in the gapfilled model's medium.\n",
      "Compound  two linked disacharide pentapeptide murein units (uncrosslinked, middle of chain)_e0  has been added in the gapfilled model's medium.\n",
      "Compound  core oligosaccharide lipid A_e0  has been added in the gapfilled model's medium.\n"
     ]
    }
   ],
   "source": [
    "check = False\n",
    "for i in draft_reconstruction.medium:\n",
    "    if i not in gf_model_compl_med.medium:\n",
    "        print(\"Compound \", i , \" was part of the initial's model model but not in the gapfilled.\")\n",
    "        check = True\n",
    "if not check:\n",
    "    print(\"All exchange reactions of the initial reconstruction are present on the gapfilled model.\\n\")\n",
    "\n",
    "for j in gf_model_compl_med.medium:\n",
    "    if j not in draft_reconstruction.medium:\n",
    "        print(\"Compound \", gf_model_compl_med.metabolites.get_by_id(j[3:]).name, \" has been added in the gapfilled model's medium.\")"
   ]
  },
  {
   "cell_type": "markdown",
   "id": "e1c06a46",
   "metadata": {},
   "source": [
    "## Gapfill using a defined medium"
   ]
  },
  {
   "cell_type": "markdown",
   "id": "71e57411",
   "metadata": {},
   "source": [
    "Load the media file. "
   ]
  },
  {
   "cell_type": "code",
   "execution_count": 50,
   "id": "98c24341",
   "metadata": {},
   "outputs": [],
   "source": [
    "media_file = os.path.join(repo_path, 'docs/biochemistry/Nitrogen-Nitrite_media.tsv')"
   ]
  },
  {
   "cell_type": "code",
   "execution_count": 60,
   "id": "140093be",
   "metadata": {},
   "outputs": [
    {
     "data": {
      "text/html": [
       "<div>\n",
       "<style scoped>\n",
       "    .dataframe tbody tr th:only-of-type {\n",
       "        vertical-align: middle;\n",
       "    }\n",
       "\n",
       "    .dataframe tbody tr th {\n",
       "        vertical-align: top;\n",
       "    }\n",
       "\n",
       "    .dataframe thead th {\n",
       "        text-align: right;\n",
       "    }\n",
       "</style>\n",
       "<table border=\"1\" class=\"dataframe\">\n",
       "  <thead>\n",
       "    <tr style=\"text-align: right;\">\n",
       "      <th></th>\n",
       "      <th>id</th>\n",
       "      <th>name</th>\n",
       "      <th>concentration</th>\n",
       "      <th>minflux</th>\n",
       "      <th>maxflux</th>\n",
       "    </tr>\n",
       "  </thead>\n",
       "  <tbody>\n",
       "    <tr>\n",
       "      <th>0</th>\n",
       "      <td>cpd00027</td>\n",
       "      <td>D-Glucose</td>\n",
       "      <td>0.001</td>\n",
       "      <td>-100</td>\n",
       "      <td>5</td>\n",
       "    </tr>\n",
       "    <tr>\n",
       "      <th>1</th>\n",
       "      <td>cpd00075</td>\n",
       "      <td>Nitrite</td>\n",
       "      <td>0.001</td>\n",
       "      <td>-100</td>\n",
       "      <td>5</td>\n",
       "    </tr>\n",
       "    <tr>\n",
       "      <th>2</th>\n",
       "      <td>cpd00009</td>\n",
       "      <td>Phosphate</td>\n",
       "      <td>0.001</td>\n",
       "      <td>-100</td>\n",
       "      <td>5</td>\n",
       "    </tr>\n",
       "    <tr>\n",
       "      <th>3</th>\n",
       "      <td>cpd00048</td>\n",
       "      <td>Sulfate</td>\n",
       "      <td>0.001</td>\n",
       "      <td>-100</td>\n",
       "      <td>5</td>\n",
       "    </tr>\n",
       "    <tr>\n",
       "      <th>4</th>\n",
       "      <td>cpd00063</td>\n",
       "      <td>Ca2+</td>\n",
       "      <td>0.001</td>\n",
       "      <td>-100</td>\n",
       "      <td>100</td>\n",
       "    </tr>\n",
       "  </tbody>\n",
       "</table>\n",
       "</div>"
      ],
      "text/plain": [
       "         id       name  concentration  minflux  maxflux\n",
       "0  cpd00027  D-Glucose          0.001     -100        5\n",
       "1  cpd00075    Nitrite          0.001     -100        5\n",
       "2  cpd00009  Phosphate          0.001     -100        5\n",
       "3  cpd00048    Sulfate          0.001     -100        5\n",
       "4  cpd00063       Ca2+          0.001     -100      100"
      ]
     },
     "execution_count": 60,
     "metadata": {},
     "output_type": "execute_result"
    }
   ],
   "source": [
    "import pandas as pd\n",
    "raw_data = pd.read_csv(media_file, sep=\"\\t\")\n",
    "raw_data.head()"
   ]
  },
  {
   "cell_type": "markdown",
   "id": "163cf499",
   "metadata": {},
   "source": [
    "Load the new media to a dictionary setting the exchange reaction as a key and a dictionary as its value, including a lower, an upper bound and the stoichiometry of the related compound."
   ]
  },
  {
   "cell_type": "code",
   "execution_count": 62,
   "id": "439cdd57",
   "metadata": {
    "scrolled": true
   },
   "outputs": [
    {
     "name": "stderr",
     "output_type": "stream",
     "text": [
      "'' is not a valid SBML 'SId'.\n",
      "'' is not a valid SBML 'SId'.\n",
      "No objective coefficients in model. Unclear what should be optimized\n"
     ]
    },
    {
     "name": "stdout",
     "output_type": "stream",
     "text": [
      "Loading network at user provided path\n",
      "Converting to binary array:\n",
      "#reactions not found in keys:  7 / 1508\n"
     ]
    },
    {
     "name": "stderr",
     "output_type": "stream",
     "text": [
      "/home/luna.kuleuven.be/u0156635/.local/lib/python3.10/site-packages/keras/engine/training_v1.py:2357: UserWarning: `Model.state_updates` will be removed in a future version. This property should not be used in TensorFlow 2.0, as `updates` are applied automatically.\n",
      "  updates=self.state_updates,\n"
     ]
    },
    {
     "name": "stdout",
     "output_type": "stream",
     "text": [
      "Warning for adding constraints: zero or small (< 1e-13) coefficients, ignored\n",
      "Flux through biomass reaction is 1.00000000\n",
      "Flux through biomass reaction is 1.00000000\n",
      "Warning for adding constraints: zero or small (< 1e-13) coefficients, ignored\n",
      "\n",
      "\n",
      " condition is currently:  71554 \n",
      "\n",
      "\n",
      "Warning for adding constraints: zero or small (< 1e-13) coefficients, ignored\n",
      "\n",
      "\n",
      " condition is currently:  35777 \n",
      "\n",
      "\n",
      "Warning for adding constraints: zero or small (< 1e-13) coefficients, ignored\n",
      "\n",
      "\n",
      " condition is currently:  17888 \n",
      "\n",
      "\n",
      "Warning for adding constraints: zero or small (< 1e-13) coefficients, ignored\n",
      "\n",
      "\n",
      " condition is currently:  8944 \n",
      "\n",
      "\n",
      "Warning for adding constraints: zero or small (< 1e-13) coefficients, ignored\n",
      "\n",
      "\n",
      " condition is currently:  4472 \n",
      "\n",
      "\n",
      "Warning for adding constraints: zero or small (< 1e-13) coefficients, ignored\n",
      "\n",
      "\n",
      " condition is currently:  2236 \n",
      "\n",
      "\n",
      "Warning for adding constraints: zero or small (< 1e-13) coefficients, ignored\n",
      "\n",
      "\n",
      " condition is currently:  1118 \n",
      "\n",
      "\n",
      "Warning for adding constraints: zero or small (< 1e-13) coefficients, ignored\n",
      "\n",
      "\n",
      " condition is currently:  559 \n",
      "\n",
      "\n",
      "Warning for adding constraints: zero or small (< 1e-13) coefficients, ignored\n",
      "\n",
      "\n",
      " condition is currently:  279 \n",
      "\n",
      "\n",
      "Warning for adding constraints: zero or small (< 1e-13) coefficients, ignored\n",
      "\n",
      "\n",
      " condition is currently:  139 \n",
      "\n",
      "\n",
      "Warning for adding constraints: zero or small (< 1e-13) coefficients, ignored\n",
      "\n",
      "\n",
      " condition is currently:  69 \n",
      "\n",
      "\n",
      "Warning for adding constraints: zero or small (< 1e-13) coefficients, ignored\n",
      "\n",
      "\n",
      " condition is currently:  34 \n",
      "\n",
      "\n",
      "Warning for adding constraints: zero or small (< 1e-13) coefficients, ignored\n",
      "\n",
      "\n",
      " condition is currently:  17 \n",
      "\n",
      "\n",
      "Warning for adding constraints: zero or small (< 1e-13) coefficients, ignored\n",
      "\n",
      "\n",
      " condition is currently:  8 \n",
      "\n",
      "\n",
      "Warning for adding constraints: zero or small (< 1e-13) coefficients, ignored\n",
      "\n",
      "\n",
      " condition is currently:  4 \n",
      "\n",
      "\n",
      "Warning for adding constraints: zero or small (< 1e-13) coefficients, ignored\n",
      "\n",
      "\n",
      " condition is currently:  2 \n",
      "\n",
      "\n",
      "Warning for adding constraints: zero or small (< 1e-13) coefficients, ignored\n",
      "\n",
      "\n",
      " condition is currently:  1 \n",
      "\n",
      "\n",
      "Objective value is 0.115127.\n",
      "Read LP format model from file /tmp/tmpn9n7xliq.lp\n",
      "Reading time = 0.00 seconds\n",
      ": 1419 rows, 3166 columns, 14758 nonzeros\n",
      "Read LP format model from file /tmp/tmph0l3gm1i.lp\n",
      "Reading time = 0.01 seconds\n",
      ": 1419 rows, 3166 columns, 14758 nonzeros\n"
     ]
    }
   ],
   "source": [
    "Nit_media = {}\n",
    "with open(media_file) as f:\n",
    "    f.readline()\n",
    "    for line in f:\n",
    "        a = line.strip().split('\\t')\n",
    "        Nit_media['EX_' + a[0] + '_e0'] = {'lower_bound':-1, 'upper_bound':1, 'metabolites':{a[0]+'_e0':-1.0}}"
   ]
  },
  {
   "cell_type": "markdown",
   "id": "552d7f37",
   "metadata": {},
   "source": [
    "Gapfill the initial reconstruction using the nitrate media."
   ]
  },
  {
   "cell_type": "code",
   "execution_count": 63,
   "id": "31d7b5dc",
   "metadata": {},
   "outputs": [
    {
     "name": "stderr",
     "output_type": "stream",
     "text": [
      "'' is not a valid SBML 'SId'.\n",
      "'' is not a valid SBML 'SId'.\n",
      "No objective coefficients in model. Unclear what should be optimized\n"
     ]
    },
    {
     "name": "stdout",
     "output_type": "stream",
     "text": [
      "Loading network at user provided path\n",
      "Converting to binary array:\n",
      "#reactions not found in keys:  7 / 1508\n"
     ]
    },
    {
     "name": "stderr",
     "output_type": "stream",
     "text": [
      "/home/luna.kuleuven.be/u0156635/.local/lib/python3.10/site-packages/keras/engine/training_v1.py:2357: UserWarning: `Model.state_updates` will be removed in a future version. This property should not be used in TensorFlow 2.0, as `updates` are applied automatically.\n",
      "  updates=self.state_updates,\n"
     ]
    },
    {
     "name": "stdout",
     "output_type": "stream",
     "text": [
      "Warning for adding constraints: zero or small (< 1e-13) coefficients, ignored\n",
      "Flux through biomass reaction is 1.00000000\n",
      "Flux through biomass reaction is 1.00000000\n",
      "Warning for adding constraints: zero or small (< 1e-13) coefficients, ignored\n",
      "\n",
      "\n",
      " condition is currently:  71554 \n",
      "\n",
      "\n",
      "Warning for adding constraints: zero or small (< 1e-13) coefficients, ignored\n",
      "\n",
      "\n",
      " condition is currently:  35777 \n",
      "\n",
      "\n",
      "Warning for adding constraints: zero or small (< 1e-13) coefficients, ignored\n",
      "\n",
      "\n",
      " condition is currently:  17888 \n",
      "\n",
      "\n",
      "Warning for adding constraints: zero or small (< 1e-13) coefficients, ignored\n",
      "\n",
      "\n",
      " condition is currently:  8944 \n",
      "\n",
      "\n",
      "Warning for adding constraints: zero or small (< 1e-13) coefficients, ignored\n",
      "\n",
      "\n",
      " condition is currently:  4472 \n",
      "\n",
      "\n",
      "Warning for adding constraints: zero or small (< 1e-13) coefficients, ignored\n",
      "\n",
      "\n",
      " condition is currently:  2236 \n",
      "\n",
      "\n",
      "Warning for adding constraints: zero or small (< 1e-13) coefficients, ignored\n",
      "\n",
      "\n",
      " condition is currently:  1118 \n",
      "\n",
      "\n",
      "Warning for adding constraints: zero or small (< 1e-13) coefficients, ignored\n",
      "\n",
      "\n",
      " condition is currently:  559 \n",
      "\n",
      "\n",
      "Warning for adding constraints: zero or small (< 1e-13) coefficients, ignored\n",
      "\n",
      "\n",
      " condition is currently:  279 \n",
      "\n",
      "\n",
      "Warning for adding constraints: zero or small (< 1e-13) coefficients, ignored\n",
      "\n",
      "\n",
      " condition is currently:  139 \n",
      "\n",
      "\n",
      "Warning for adding constraints: zero or small (< 1e-13) coefficients, ignored\n",
      "\n",
      "\n",
      " condition is currently:  69 \n",
      "\n",
      "\n",
      "Warning for adding constraints: zero or small (< 1e-13) coefficients, ignored\n",
      "\n",
      "\n",
      " condition is currently:  34 \n",
      "\n",
      "\n",
      "Warning for adding constraints: zero or small (< 1e-13) coefficients, ignored\n",
      "\n",
      "\n",
      " condition is currently:  17 \n",
      "\n",
      "\n",
      "Warning for adding constraints: zero or small (< 1e-13) coefficients, ignored\n",
      "\n",
      "\n",
      " condition is currently:  8 \n",
      "\n",
      "\n",
      "Warning for adding constraints: zero or small (< 1e-13) coefficients, ignored\n",
      "\n",
      "\n",
      " condition is currently:  4 \n",
      "\n",
      "\n",
      "Warning for adding constraints: zero or small (< 1e-13) coefficients, ignored\n",
      "\n",
      "\n",
      " condition is currently:  2 \n",
      "\n",
      "\n",
      "Warning for adding constraints: zero or small (< 1e-13) coefficients, ignored\n",
      "\n",
      "\n",
      " condition is currently:  1 \n",
      "\n",
      "\n",
      "Objective value is 0.115127.\n",
      "Read LP format model from file /tmp/tmpexem24jp.lp\n",
      "Reading time = 0.00 seconds\n",
      ": 1419 rows, 3166 columns, 14758 nonzeros\n"
     ]
    }
   ],
   "source": [
    "gapfill_nitr     = dnngior.Gapfill(path_to_blautia_model, medium = Nit_media, objectiveName = 'bio1')"
   ]
  },
  {
   "cell_type": "markdown",
   "id": "6575572f",
   "metadata": {},
   "source": [
    "Again, make an object of the gapfilled model and check whether it grows."
   ]
  },
  {
   "cell_type": "code",
   "execution_count": 65,
   "id": "d360fca8",
   "metadata": {},
   "outputs": [
    {
     "name": "stdout",
     "output_type": "stream",
     "text": [
      "Read LP format model from file /tmp/tmp_99qbd2m.lp\n",
      "Reading time = 0.00 seconds\n",
      ": 1419 rows, 3166 columns, 14758 nonzeros\n"
     ]
    },
    {
     "data": {
      "text/html": [
       "<strong><em>Optimal</em> solution with objective value 39.996</strong><br><div>\n",
       "<style scoped>\n",
       "    .dataframe tbody tr th:only-of-type {\n",
       "        vertical-align: middle;\n",
       "    }\n",
       "\n",
       "    .dataframe tbody tr th {\n",
       "        vertical-align: top;\n",
       "    }\n",
       "\n",
       "    .dataframe thead th {\n",
       "        text-align: right;\n",
       "    }\n",
       "</style>\n",
       "<table border=\"1\" class=\"dataframe\">\n",
       "  <thead>\n",
       "    <tr style=\"text-align: right;\">\n",
       "      <th></th>\n",
       "      <th>fluxes</th>\n",
       "      <th>reduced_costs</th>\n",
       "    </tr>\n",
       "  </thead>\n",
       "  <tbody>\n",
       "    <tr>\n",
       "      <th>rxn04070_c0</th>\n",
       "      <td>0.224345</td>\n",
       "      <td>0.0</td>\n",
       "    </tr>\n",
       "    <tr>\n",
       "      <th>rxn05467_c0</th>\n",
       "      <td>0.000000</td>\n",
       "      <td>0.0</td>\n",
       "    </tr>\n",
       "    <tr>\n",
       "      <th>rxn00543_c0</th>\n",
       "      <td>0.000000</td>\n",
       "      <td>0.0</td>\n",
       "    </tr>\n",
       "    <tr>\n",
       "      <th>rxn00527_c0</th>\n",
       "      <td>-0.081221</td>\n",
       "      <td>0.0</td>\n",
       "    </tr>\n",
       "    <tr>\n",
       "      <th>rxn08287_c0</th>\n",
       "      <td>5.506151</td>\n",
       "      <td>0.0</td>\n",
       "    </tr>\n",
       "    <tr>\n",
       "      <th>...</th>\n",
       "      <td>...</td>\n",
       "      <td>...</td>\n",
       "    </tr>\n",
       "    <tr>\n",
       "      <th>rxn00131_c0</th>\n",
       "      <td>11.392259</td>\n",
       "      <td>0.0</td>\n",
       "    </tr>\n",
       "    <tr>\n",
       "      <th>rxn05682_c0</th>\n",
       "      <td>0.000000</td>\n",
       "      <td>0.0</td>\n",
       "    </tr>\n",
       "    <tr>\n",
       "      <th>rxn00184_c0</th>\n",
       "      <td>0.000000</td>\n",
       "      <td>0.0</td>\n",
       "    </tr>\n",
       "    <tr>\n",
       "      <th>rxn01241_c0</th>\n",
       "      <td>0.000000</td>\n",
       "      <td>0.0</td>\n",
       "    </tr>\n",
       "    <tr>\n",
       "      <th>rxn21858_c0</th>\n",
       "      <td>0.000000</td>\n",
       "      <td>0.0</td>\n",
       "    </tr>\n",
       "  </tbody>\n",
       "</table>\n",
       "<p>1583 rows × 2 columns</p>\n",
       "</div>"
      ],
      "text/plain": [
       "<Solution 39.996 at 0x7f3db7d5ab00>"
      ]
     },
     "execution_count": 65,
     "metadata": {},
     "output_type": "execute_result"
    }
   ],
   "source": [
    "gf_model_Nit_med = gapfill_nitr.gapfilledModel.copy()\n",
    "gf_model_Nit_med.optimize()"
   ]
  },
  {
   "cell_type": "code",
   "execution_count": 84,
   "id": "e5a409bc",
   "metadata": {},
   "outputs": [
    {
     "name": "stdout",
     "output_type": "stream",
     "text": [
      "Number of eactions added: 75\n",
      "~~\n",
      "Hydrogen selenide:NADP+ oxidoreductase\n",
      "Deoxyadenosine 5'-triphosphate:DNA deoxynucleotidyltransferase (DNA-directed)\n",
      "Protein synthesis (B. subtilis)\n",
      "R_R05617_c\n",
      "EX_cpd10515_e0\n"
     ]
    }
   ],
   "source": [
    "print(\"Number of eactions added:\", len(gapfill_nitr.added_reactions))\n",
    "print(\"~~\")\n",
    "for reaction in gapfill_nitr.added_reactions[:5]:\n",
    "    print(gf_model_Nit_med.reactions.get_by_id(reaction).name)"
   ]
  },
  {
   "cell_type": "markdown",
   "id": "a9246993",
   "metadata": {},
   "source": [
    "The gapfilled model is growing again! \n",
    "However it's optimal objective value is lower and the number of the exchange reactions added is rather higher. \n"
   ]
  },
  {
   "cell_type": "code",
   "execution_count": null,
   "id": "05c0affd",
   "metadata": {},
   "outputs": [],
   "source": []
  },
  {
   "cell_type": "code",
   "execution_count": null,
   "id": "b4179dae",
   "metadata": {},
   "outputs": [],
   "source": []
  },
  {
   "cell_type": "markdown",
   "id": "51b990be",
   "metadata": {},
   "source": [
    "## Build a GEM with `RAST-tk` and `ModelSEEDpy`"
   ]
  },
  {
   "cell_type": "markdown",
   "id": "e7eb920b",
   "metadata": {},
   "source": [
    "Here we show how one can get a GEM programmatically (no GUI) using the `ModelSEEDpy` library. \n",
    "This step will provide an input reconstruction for the `dnngior` gapfiller. \n",
    "This example is only instructive and is not guaranteed by the authors to work since it depends on third party software."
   ]
  },
  {
   "cell_type": "markdown",
   "id": "c2d8d4f8",
   "metadata": {},
   "source": [
    "Starting from a genome, the user needs to annotate it first before building a GEM.\n",
    "A good option for this step is the [BV-BRC Command Line Interface](https://www.bv-brc.org/docs//cli_tutorial/cli_installation.html) that allows to RAST-annotate the genome."
   ]
  },
  {
   "cell_type": "markdown",
   "id": "416370c3",
   "metadata": {},
   "source": [
    "Once you install the CLI, you may go for the default RASTtk Pipeline. Here is how we annotated a [*Salmonella* genome](https://www.ncbi.nlm.nih.gov/assembly/GCF_019918175.1) found in GenBank."
   ]
  },
  {
   "cell_type": "markdown",
   "id": "7e7281d3",
   "metadata": {},
   "source": [
    "First, initiate a RAST genome using the `.fna` file of yours. "
   ]
  },
  {
   "cell_type": "code",
   "execution_count": null,
   "id": "592b53fa",
   "metadata": {},
   "outputs": [],
   "source": [
    "!rast-create-genome --scientific-name \"Salmonella infantis\" \\\n",
    "                    --genetic-code 11\\\n",
    "                    --domain Bacteria\\\n",
    "                    --contigs GCF_019918175.1_ASM1991817v1_genomic.fna\\\n",
    "                    --genome-id S_infantis_ASM1991817v1\\\n",
    "                    --ncbi-taxonomy-id 595\\\n",
    "                    --source https://www.ncbi.nlm.nih.gov/assembly/GCF_019918175.1\\\n",
    "                    --source-id ASM1991817v1 > S_infantis.gto"
   ]
  },
  {
   "cell_type": "markdown",
   "id": "6e7cf8b1",
   "metadata": {},
   "source": [
    ">**Attention!** In case you have any trouble when running the `rast`- commands, please consider checking the status of the [RAST server](https://rast.nmpdr.org/rast.cgi). As already mentioned, all steps described in this section have nothing to do with the `dnngior` library, so for any issues you need to contact either the RAST or the ModeSEED communities."
   ]
  },
  {
   "cell_type": "markdown",
   "id": "39b18892",
   "metadata": {},
   "source": [
    "Then run the default RASTtk pipeline tool."
   ]
  },
  {
   "cell_type": "code",
   "execution_count": null,
   "id": "3ed2f46e",
   "metadata": {},
   "outputs": [],
   "source": [
    "!rast-process-genome < S_infantis.gto > S_infantis.gto2"
   ]
  },
  {
   "cell_type": "markdown",
   "id": "417026f7",
   "metadata": {},
   "source": [
    "Finally, export your annotation in a valid format for the `ModelSEEDpy` library."
   ]
  },
  {
   "cell_type": "code",
   "execution_count": 69,
   "id": "93ccf453",
   "metadata": {},
   "outputs": [
    {
     "name": "stdout",
     "output_type": "stream",
     "text": [
      "malformed JSON string, neither tag, array, object, number, string or atom, at character offset 0 (before \"(end of string)\") at /usr/share/bvbrc-cli/deployment/lib/Bio/KBase/GenomeAnnotation/CmdHelper.pm line 230, <STDIN> line 1.\r\n"
     ]
    }
   ],
   "source": [
    "!rast-export-genome protein_fasta < S_infantis.gto2 > S_infantis.faa"
   ]
  },
  {
   "cell_type": "markdown",
   "id": "58097c6e",
   "metadata": {},
   "source": [
    "Once you have your annotated genome, you are ready to go for the reconstruction step.\n",
    "\n",
    "So first, you need to get the `ModelSEEDpy` library"
   ]
  },
  {
   "cell_type": "code",
   "execution_count": 66,
   "id": "2b93f3a5",
   "metadata": {},
   "outputs": [
    {
     "name": "stdout",
     "output_type": "stream",
     "text": [
      "Cloning into 'ModelSEEDpy'...\n",
      "remote: Enumerating objects: 3398, done.\u001b[K\n",
      "remote: Counting objects: 100% (697/697), done.\u001b[K\n",
      "remote: Compressing objects: 100% (189/189), done.\u001b[K\n",
      "remote: Total 3398 (delta 548), reused 563 (delta 508), pack-reused 2701\u001b[K\n",
      "Receiving objects: 100% (3398/3398), 8.28 MiB | 8.91 MiB/s, done.\n",
      "Resolving deltas: 100% (2387/2387), done.\n",
      "Defaulting to user installation because normal site-packages is not writeable\n",
      "Processing ./ModelSEEDpy\n",
      "\u001b[33m  DEPRECATION: A future pip version will change local packages to be built in-place without first copying to a temporary directory. We recommend you use --use-feature=in-tree-build to test your packages with this new behavior before it becomes the default.\n",
      "   pip 21.3 will remove support for this functionality. You can find discussion regarding this at https://github.com/pypa/pip/issues/7555.\u001b[0m\n",
      "  Installing build dependencies ... \u001b[?25ldone\n",
      "\u001b[?25h  Getting requirements to build wheel ... \u001b[?25ldone\n",
      "\u001b[?25h    Preparing wheel metadata ... \u001b[?25ldone\n",
      "\u001b[?25hCollecting pyeda\n",
      "  Using cached pyeda-0.28.0.zip (535 kB)\n",
      "Collecting networkx>=2.4\n",
      "  Downloading networkx-3.1-py3-none-any.whl (2.1 MB)\n",
      "\u001b[K     |████████████████████████████████| 2.1 MB 2.1 MB/s eta 0:00:01\n",
      "\u001b[?25hRequirement already satisfied: scipy>=1.5.4 in /home/luna.kuleuven.be/u0156635/.local/lib/python3.9/site-packages (from ModelSEEDpy==0.3.1) (1.9.3)\n",
      "Collecting scikit-learn==1.2.0\n",
      "  Using cached scikit_learn-1.2.0-cp39-cp39-manylinux_2_17_x86_64.manylinux2014_x86_64.whl (9.5 MB)\n",
      "Requirement already satisfied: matplotlib>=3.0.0 in /home/luna.kuleuven.be/u0156635/.local/lib/python3.9/site-packages (from ModelSEEDpy==0.3.1) (3.6.3)\n",
      "Requirement already satisfied: cobra>=0.17.1 in /home/luna.kuleuven.be/u0156635/.local/lib/python3.9/site-packages (from ModelSEEDpy==0.3.1) (0.26.2)\n",
      "Collecting chemicals>=1.0.13\n",
      "  Downloading chemicals-1.1.3-py3-none-any.whl (23.6 MB)\n",
      "\u001b[K     |████████████████████████████████| 23.6 MB 476 kB/s  eta 0:00:01\n",
      "\u001b[?25hCollecting chemw>=0.3.2\n",
      "  Using cached ChemW-0.3.5.tar.gz (467 kB)\n",
      "Requirement already satisfied: numpy>=1.17.3 in /home/luna.kuleuven.be/u0156635/.local/lib/python3.9/site-packages (from scikit-learn==1.2.0->ModelSEEDpy==0.3.1) (1.23.4)\n",
      "Requirement already satisfied: threadpoolctl>=2.0.0 in /home/luna.kuleuven.be/u0156635/.local/lib/python3.9/site-packages (from scikit-learn==1.2.0->ModelSEEDpy==0.3.1) (3.1.0)\n",
      "Requirement already satisfied: joblib>=1.1.1 in /home/luna.kuleuven.be/u0156635/.local/lib/python3.9/site-packages (from scikit-learn==1.2.0->ModelSEEDpy==0.3.1) (1.2.0)\n",
      "Requirement already satisfied: pandas in /home/luna.kuleuven.be/u0156635/.local/lib/python3.9/site-packages (from chemicals>=1.0.13->ModelSEEDpy==0.3.1) (1.5.3)\n",
      "Collecting fluids>=1.0.23\n",
      "  Downloading fluids-1.0.23-py3-none-any.whl (1.5 MB)\n",
      "\u001b[K     |████████████████████████████████| 1.5 MB 9.3 MB/s eta 0:00:01\n",
      "\u001b[?25hCollecting pubchempy\n",
      "  Using cached PubChemPy-1.0.4.tar.gz (29 kB)\n",
      "Requirement already satisfied: requests in /opt/miniconda3/lib/python3.9/site-packages (from chemw>=0.3.2->ModelSEEDpy==0.3.1) (2.27.1)\n",
      "Collecting sigfig\n",
      "  Using cached sigfig-1.3.2-py3-none-any.whl (9.8 kB)\n",
      "Requirement already satisfied: pydantic~=1.6 in /home/luna.kuleuven.be/u0156635/.local/lib/python3.9/site-packages (from cobra>=0.17.1->ModelSEEDpy==0.3.1) (1.10.4)\n",
      "Requirement already satisfied: optlang~=1.5 in /home/luna.kuleuven.be/u0156635/.local/lib/python3.9/site-packages (from cobra>=0.17.1->ModelSEEDpy==0.3.1) (1.6.1)\n",
      "Requirement already satisfied: python-libsbml~=5.19 in /home/luna.kuleuven.be/u0156635/.local/lib/python3.9/site-packages (from cobra>=0.17.1->ModelSEEDpy==0.3.1) (5.19.7)\n",
      "Requirement already satisfied: swiglpk in /home/luna.kuleuven.be/u0156635/.local/lib/python3.9/site-packages (from cobra>=0.17.1->ModelSEEDpy==0.3.1) (5.0.8)\n",
      "Requirement already satisfied: future in /home/luna.kuleuven.be/u0156635/.local/lib/python3.9/site-packages (from cobra>=0.17.1->ModelSEEDpy==0.3.1) (0.18.3)\n",
      "Requirement already satisfied: ruamel.yaml~=0.16 in /home/luna.kuleuven.be/u0156635/.local/lib/python3.9/site-packages (from cobra>=0.17.1->ModelSEEDpy==0.3.1) (0.17.21)\n",
      "Requirement already satisfied: importlib-resources in /home/luna.kuleuven.be/u0156635/.local/lib/python3.9/site-packages (from cobra>=0.17.1->ModelSEEDpy==0.3.1) (5.10.2)\n",
      "Requirement already satisfied: diskcache~=5.0 in /home/luna.kuleuven.be/u0156635/.local/lib/python3.9/site-packages (from cobra>=0.17.1->ModelSEEDpy==0.3.1) (5.4.0)\n",
      "Requirement already satisfied: appdirs~=1.4 in /home/luna.kuleuven.be/u0156635/.local/lib/python3.9/site-packages (from cobra>=0.17.1->ModelSEEDpy==0.3.1) (1.4.4)\n",
      "Requirement already satisfied: depinfo~=1.7 in /home/luna.kuleuven.be/u0156635/.local/lib/python3.9/site-packages (from cobra>=0.17.1->ModelSEEDpy==0.3.1) (1.7.0)\n",
      "Requirement already satisfied: rich>=8.0 in /home/luna.kuleuven.be/u0156635/.local/lib/python3.9/site-packages (from cobra>=0.17.1->ModelSEEDpy==0.3.1) (13.2.0)\n",
      "Requirement already satisfied: httpx~=0.14 in /home/luna.kuleuven.be/u0156635/.local/lib/python3.9/site-packages (from cobra>=0.17.1->ModelSEEDpy==0.3.1) (0.23.3)\n",
      "Requirement already satisfied: rfc3986[idna2008]<2,>=1.3 in /home/luna.kuleuven.be/u0156635/.local/lib/python3.9/site-packages (from httpx~=0.14->cobra>=0.17.1->ModelSEEDpy==0.3.1) (1.5.0)\n",
      "Requirement already satisfied: certifi in /opt/miniconda3/lib/python3.9/site-packages (from httpx~=0.14->cobra>=0.17.1->ModelSEEDpy==0.3.1) (2021.10.8)\n",
      "Requirement already satisfied: sniffio in /home/luna.kuleuven.be/u0156635/.local/lib/python3.9/site-packages (from httpx~=0.14->cobra>=0.17.1->ModelSEEDpy==0.3.1) (1.3.0)\n",
      "Requirement already satisfied: httpcore<0.17.0,>=0.15.0 in /home/luna.kuleuven.be/u0156635/.local/lib/python3.9/site-packages (from httpx~=0.14->cobra>=0.17.1->ModelSEEDpy==0.3.1) (0.16.3)\n",
      "Requirement already satisfied: anyio<5.0,>=3.0 in /home/luna.kuleuven.be/u0156635/.local/lib/python3.9/site-packages (from httpcore<0.17.0,>=0.15.0->httpx~=0.14->cobra>=0.17.1->ModelSEEDpy==0.3.1) (3.6.2)\n",
      "Requirement already satisfied: h11<0.15,>=0.13 in /home/luna.kuleuven.be/u0156635/.local/lib/python3.9/site-packages (from httpcore<0.17.0,>=0.15.0->httpx~=0.14->cobra>=0.17.1->ModelSEEDpy==0.3.1) (0.14.0)\n",
      "Requirement already satisfied: idna>=2.8 in /opt/miniconda3/lib/python3.9/site-packages (from anyio<5.0,>=3.0->httpcore<0.17.0,>=0.15.0->httpx~=0.14->cobra>=0.17.1->ModelSEEDpy==0.3.1) (3.3)\n",
      "Requirement already satisfied: python-dateutil>=2.7 in /home/luna.kuleuven.be/u0156635/.local/lib/python3.9/site-packages (from matplotlib>=3.0.0->ModelSEEDpy==0.3.1) (2.8.2)\n",
      "Requirement already satisfied: packaging>=20.0 in /home/luna.kuleuven.be/u0156635/.local/lib/python3.9/site-packages (from matplotlib>=3.0.0->ModelSEEDpy==0.3.1) (21.3)\n",
      "Requirement already satisfied: fonttools>=4.22.0 in /home/luna.kuleuven.be/u0156635/.local/lib/python3.9/site-packages (from matplotlib>=3.0.0->ModelSEEDpy==0.3.1) (4.38.0)\n",
      "Requirement already satisfied: cycler>=0.10 in /home/luna.kuleuven.be/u0156635/.local/lib/python3.9/site-packages (from matplotlib>=3.0.0->ModelSEEDpy==0.3.1) (0.11.0)\n",
      "Requirement already satisfied: contourpy>=1.0.1 in /home/luna.kuleuven.be/u0156635/.local/lib/python3.9/site-packages (from matplotlib>=3.0.0->ModelSEEDpy==0.3.1) (1.0.7)\n",
      "Requirement already satisfied: pyparsing>=2.2.1 in /home/luna.kuleuven.be/u0156635/.local/lib/python3.9/site-packages (from matplotlib>=3.0.0->ModelSEEDpy==0.3.1) (3.0.9)\n",
      "Requirement already satisfied: kiwisolver>=1.0.1 in /home/luna.kuleuven.be/u0156635/.local/lib/python3.9/site-packages (from matplotlib>=3.0.0->ModelSEEDpy==0.3.1) (1.4.4)\n",
      "Requirement already satisfied: pillow>=6.2.0 in /home/luna.kuleuven.be/u0156635/.local/lib/python3.9/site-packages (from matplotlib>=3.0.0->ModelSEEDpy==0.3.1) (9.4.0)\n",
      "Requirement already satisfied: six>=1.9 in /opt/miniconda3/lib/python3.9/site-packages (from optlang~=1.5->cobra>=0.17.1->ModelSEEDpy==0.3.1) (1.16.0)\n",
      "Requirement already satisfied: sympy>=1.0 in /home/luna.kuleuven.be/u0156635/.local/lib/python3.9/site-packages (from optlang~=1.5->cobra>=0.17.1->ModelSEEDpy==0.3.1) (1.11.1)\n",
      "Requirement already satisfied: pytz>=2020.1 in /home/luna.kuleuven.be/u0156635/.local/lib/python3.9/site-packages (from pandas->chemicals>=1.0.13->ModelSEEDpy==0.3.1) (2022.7.1)\n",
      "Requirement already satisfied: typing-extensions>=4.2.0 in /home/luna.kuleuven.be/u0156635/.local/lib/python3.9/site-packages (from pydantic~=1.6->cobra>=0.17.1->ModelSEEDpy==0.3.1) (4.4.0)\n",
      "Requirement already satisfied: pygments<3.0.0,>=2.6.0 in /home/luna.kuleuven.be/u0156635/.local/lib/python3.9/site-packages (from rich>=8.0->cobra>=0.17.1->ModelSEEDpy==0.3.1) (2.13.0)\n",
      "Requirement already satisfied: markdown-it-py<3.0.0,>=2.1.0 in /home/luna.kuleuven.be/u0156635/.local/lib/python3.9/site-packages (from rich>=8.0->cobra>=0.17.1->ModelSEEDpy==0.3.1) (2.1.0)\n",
      "Requirement already satisfied: mdurl~=0.1 in /home/luna.kuleuven.be/u0156635/.local/lib/python3.9/site-packages (from markdown-it-py<3.0.0,>=2.1.0->rich>=8.0->cobra>=0.17.1->ModelSEEDpy==0.3.1) (0.1.2)\n",
      "Requirement already satisfied: ruamel.yaml.clib>=0.2.6 in /home/luna.kuleuven.be/u0156635/.local/lib/python3.9/site-packages (from ruamel.yaml~=0.16->cobra>=0.17.1->ModelSEEDpy==0.3.1) (0.2.7)\n"
     ]
    },
    {
     "name": "stdout",
     "output_type": "stream",
     "text": [
      "Requirement already satisfied: mpmath>=0.19 in /home/luna.kuleuven.be/u0156635/.local/lib/python3.9/site-packages (from sympy>=1.0->optlang~=1.5->cobra>=0.17.1->ModelSEEDpy==0.3.1) (1.2.1)\n",
      "Requirement already satisfied: zipp>=3.1.0 in /home/luna.kuleuven.be/u0156635/.local/lib/python3.9/site-packages (from importlib-resources->cobra>=0.17.1->ModelSEEDpy==0.3.1) (3.10.0)\n",
      "Requirement already satisfied: charset-normalizer~=2.0.0 in /opt/miniconda3/lib/python3.9/site-packages (from requests->chemw>=0.3.2->ModelSEEDpy==0.3.1) (2.0.4)\n",
      "Requirement already satisfied: urllib3<1.27,>=1.21.1 in /opt/miniconda3/lib/python3.9/site-packages (from requests->chemw>=0.3.2->ModelSEEDpy==0.3.1) (1.26.8)\n",
      "Collecting SortedContainers\n",
      "  Using cached sortedcontainers-2.4.0-py2.py3-none-any.whl (29 kB)\n",
      "Building wheels for collected packages: ModelSEEDpy, chemw, pubchempy, pyeda\n",
      "  Building wheel for ModelSEEDpy (PEP 517) ... \u001b[?25ldone\n",
      "\u001b[?25h  Created wheel for ModelSEEDpy: filename=ModelSEEDpy-0.3.1-py3-none-any.whl size=155900 sha256=65321658f4de7c405423d85405f9d6e9038e228f0d91fb90a76143e1d4fbec7c\n",
      "  Stored in directory: /tmp/pip-ephem-wheel-cache-qzxdwpcc/wheels/ae/94/c7/ac0c2d893134945908b87ad59d3c4553ae69ca45a733271b6e\n",
      "  Building wheel for chemw (setup.py) ... \u001b[?25ldone\n",
      "\u001b[?25h  Created wheel for chemw: filename=ChemW-0.3.5-py3-none-any.whl size=480112 sha256=e4df06b1f2f087ff0391498b0eff8380df17e78012387809529ef8ae1e778a38\n",
      "  Stored in directory: /home/luna.kuleuven.be/u0156635/.cache/pip/wheels/7b/21/ba/2dd9467b94a05e280ee3881b019af128e862c92fd4013b34a5\n",
      "  Building wheel for pubchempy (setup.py) ... \u001b[?25ldone\n",
      "\u001b[?25h  Created wheel for pubchempy: filename=PubChemPy-1.0.4-py3-none-any.whl size=13834 sha256=acaabc2bd8c97f0ce4b2a60e8305133340379ee18cd0a3077c81036147eba42b\n",
      "  Stored in directory: /home/luna.kuleuven.be/u0156635/.cache/pip/wheels/84/45/0e/b597debba098119b642eaf728ae1883d23ad8ea2a9366f2ded\n",
      "  Building wheel for pyeda (setup.py) ... \u001b[?25ldone\n",
      "\u001b[?25h  Created wheel for pyeda: filename=pyeda-0.28.0-cp39-cp39-linux_x86_64.whl size=247656 sha256=974104274af724804a673121b60bc0582f680e482d8d14e1d27f092a550f56d4\n",
      "  Stored in directory: /home/luna.kuleuven.be/u0156635/.cache/pip/wheels/4f/78/58/1bd1d579001b50e88c76b374079fde5fbb2ffa79892f7b626b\n",
      "Successfully built ModelSEEDpy chemw pubchempy pyeda\n",
      "Installing collected packages: SortedContainers, fluids, sigfig, pubchempy, chemicals, scikit-learn, pyeda, networkx, chemw, ModelSEEDpy\n",
      "Successfully installed ModelSEEDpy-0.3.1 SortedContainers-2.4.0 chemicals-1.1.3 chemw-0.3.5 fluids-1.0.23 networkx-3.1 pubchempy-1.0.4 pyeda-0.28.0 scikit-learn-1.2.0 sigfig-1.3.2\n"
     ]
    }
   ],
   "source": [
    "!git clone https://github.com/ModelSEED/ModelSEEDpy\n",
    "!pip install ModelSEEDpy/."
   ]
  },
  {
   "cell_type": "code",
   "execution_count": null,
   "id": "2b245b76",
   "metadata": {},
   "outputs": [],
   "source": []
  },
  {
   "cell_type": "code",
   "execution_count": 71,
   "id": "6098998a",
   "metadata": {},
   "outputs": [],
   "source": []
  },
  {
   "cell_type": "code",
   "execution_count": null,
   "id": "99c64eb4",
   "metadata": {},
   "outputs": [],
   "source": [
    "from modelseedpy import MSBuilder, MSGenome\n",
    "import cobra\n",
    "\n",
    "# Set the path to your annotation\n",
    "genome_annotation = \"S_infantis.faa\"\n",
    "# Set modelId\n",
    "modelId  = \"s_inf\"\n",
    "# Init a MSGenome instance \n",
    "msGenome = MSGenome.from_fasta(genome_annotation, split=' ')\n",
    "# Build your GEM\n",
    "model = MSBuilder.build_metabolic_model(model_id = modelId, \n",
    "                                        genome = msGenome, \n",
    "                                        index= \"0\", \n",
    "                                        classic_biomass = True, \n",
    "                                        gapfill_model = False, \n",
    "                                        gapfill_media = None, \n",
    "                                        annotate_with_rast = True, \n",
    "                                        allow_all_non_grp_reactions = True)\n",
    "# Save the GEM as a .sbml file\n",
    "modelname = \"s_inf_modelseed.sbml\"\n",
    "cobra.io.write_sbml_model(cobra_model = model, filename = modelname)\n"
   ]
  },
  {
   "cell_type": "markdown",
   "id": "f161cd71",
   "metadata": {},
   "source": [
    "Now, you can use the draft reconstruction (`s_inf_modelseed.sbml`) as input for the `dnngior` library to gapfill it as you wish! &#x1F389;"
   ]
  },
  {
   "cell_type": "code",
   "execution_count": null,
   "id": "8816745e",
   "metadata": {},
   "outputs": [],
   "source": []
  },
  {
   "cell_type": "code",
   "execution_count": null,
   "id": "a54d0b79",
   "metadata": {},
   "outputs": [],
   "source": []
  },
  {
   "cell_type": "markdown",
   "id": "ffcb896c",
   "metadata": {},
   "source": [
    "### Gapfilling a model with different costs for reactions\n",
    "\n",
    "Now we need to provide a python dictionary with reaction costs. The function will automatically give a cost of zero to reactions that are already in the draft model and also to the exchange reactions of the defined media. It will give a default cost (set to 1) to reactions that are not in the draft model nor in the dictionary with costs."
   ]
  },
  {
   "cell_type": "code",
   "execution_count": 25,
   "id": "6af15113",
   "metadata": {},
   "outputs": [],
   "source": [
    "# #select random reaction and add random costs between 0 and 1\n",
    "# candidate_reactions = {}\n",
    "# for i in  all_reactions.reactions:\n",
    "#     if np.random.uniform()<0.02:\n",
    "#         candidate_reactions[i] = np.random.uniform()\n",
    "\n",
    "        \n",
    "#use NN scores        \n",
    "s_file = open(os.path.join(path.parent, 'files', 'custom scores','prediction_example.json'))\n",
    "NN_scores = json.loads(s_file.read())\n",
    "s_file.close()\n",
    "\n",
    "\n",
    "\n",
    "candidate_reactions = {}\n",
    "for i in all_reactions.reactions:\n",
    "    if i in NN_scores.keys():\n",
    "        candidate_reactions[i] = NN_scores[i]\n"
   ]
  },
  {
   "cell_type": "markdown",
   "id": "8ade2a07",
   "metadata": {},
   "source": [
    "We will also use a different criteria to choose the gapfilled reaction. Instead of 'min_reactions' we use 'min_cost', selecting the set with a minimum sum of costs."
   ]
  },
  {
   "cell_type": "markdown",
   "id": "4fec2071",
   "metadata": {},
   "source": [
    "### Quick idea of what to do when no flux is observed on a particular media\n",
    "\n",
    "\n",
    "1) Run a gapfill on the with complete media option (as in [5])\n",
    "\n",
    "2) Run flux variability analysis (for big models this takes a long time to run):"
   ]
  },
  {
   "cell_type": "code",
   "execution_count": 31,
   "id": "8e8375ed",
   "metadata": {},
   "outputs": [],
   "source": [
    "model_exchanges = [i for i in model.reactions if ('EX_' in i.id) and ('_e0' in i.id)]"
   ]
  },
  {
   "cell_type": "code",
   "execution_count": null,
   "id": "d784ff5d",
   "metadata": {},
   "outputs": [],
   "source": [
    "fva = cobra.flux_analysis.flux_variability_analysis(model, model_exchanges)\n",
    "print(fva)"
   ]
  },
  {
   "cell_type": "markdown",
   "id": "01c33bf2",
   "metadata": {},
   "source": [
    "The exchange reaction where the minimum and maximum are negative are likely required in the medium. They are essential for the objective and likely the database reactions have no way to make them, so gapdfilling does not wotrk."
   ]
  },
  {
   "cell_type": "markdown",
   "id": "b343367b",
   "metadata": {},
   "source": [
    "## More functionality\n",
    "\n",
    "excluding specific reactions from the gap-filling database, this can be done using the blacklist argument:"
   ]
  },
  {
   "cell_type": "code",
   "execution_count": null,
   "id": "35f511f6",
   "metadata": {},
   "outputs": [],
   "source": []
  },
  {
   "cell_type": "markdown",
   "id": "34758e35",
   "metadata": {},
   "source": [
    "Some reactions you might want to limit, you could manually set the weights of these reactions but dnngior . by default these reactions get a cost of 1,000 but you can change this using punish_cost."
   ]
  },
  {
   "cell_type": "code",
   "execution_count": null,
   "id": "f363d4de",
   "metadata": {},
   "outputs": [],
   "source": []
  },
  {
   "cell_type": "markdown",
   "id": "ad12e129",
   "metadata": {},
   "source": []
  }
 ],
 "metadata": {
  "kernelspec": {
   "display_name": "Python 3 (ipykernel)",
   "language": "python",
   "name": "python3"
  },
  "language_info": {
   "codemirror_mode": {
    "name": "ipython",
    "version": 3
   },
   "file_extension": ".py",
   "mimetype": "text/x-python",
   "name": "python",
   "nbconvert_exporter": "python",
   "pygments_lexer": "ipython3",
   "version": "3.9.18"
  }
 },
 "nbformat": 4,
 "nbformat_minor": 5
}
