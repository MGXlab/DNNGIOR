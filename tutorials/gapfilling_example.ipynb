{
 "cells": [
  {
   "cell_type": "markdown",
   "id": "212a1a57",
   "metadata": {},
   "source": [
    "# Gapfill a draft GEM using the `dnngior`gapfiller"
   ]
  },
  {
   "cell_type": "markdown",
   "id": "878d7db4",
   "metadata": {},
   "source": [
    "# Installation"
   ]
  },
  {
   "cell_type": "markdown",
   "id": "66cf9902",
   "metadata": {},
   "source": [
    "To run the `dnngior` gapfiller we need to have the [Gurobi](https://www.gurobi.com) solver. "
   ]
  },
  {
   "cell_type": "code",
   "execution_count": 1,
   "id": "5f327b25",
   "metadata": {},
   "outputs": [],
   "source": [
    "!pip install -i https://pypi.gurobi.com gurobipy"
   ]
  },
  {
   "cell_type": "markdown",
   "id": "6396af7e",
   "metadata": {},
   "source": [
    "To run `gurobi`, you first need a [license](https://www.gurobi.com/downloads/). \n",
    "If you are an acedemic, you may get a license for free.\n"
   ]
  },
  {
   "cell_type": "markdown",
   "id": "5b6af420",
   "metadata": {},
   "source": [
    "> **Attention!** To run `dnngior`, the Gurobi solver is **not** optional! \n",
    "Without a valid installation of Gurobi, `dnngior` will fail."
   ]
  },
  {
   "cell_type": "markdown",
   "id": "8c1e5a99",
   "metadata": {},
   "source": [
    "Once you have successfully got `gurobi`, you are ready to install the `dnngior` gapfiller. "
   ]
  },
  {
   "cell_type": "code",
   "execution_count": 2,
   "id": "cef60e3c",
   "metadata": {},
   "outputs": [],
   "source": [
    "!pip install dnngior"
   ]
  },
  {
   "cell_type": "markdown",
   "id": "a6ea7f58",
   "metadata": {},
   "source": [
    "You are now ready to gapfill any draft GEM as long as it's using the ModelSEED ontology for compounds and reactions."
   ]
  },
  {
   "cell_type": "markdown",
   "id": "c2338f35",
   "metadata": {},
   "source": [
    "## Gapfill using a complete medium"
   ]
  },
  {
   "cell_type": "markdown",
   "id": "4cbdc2a7",
   "metadata": {},
   "source": [
    "Let us get a genome scale reconstruction of a *Blautia* strain to work with:"
   ]
  },
  {
   "cell_type": "code",
   "execution_count": 3,
   "id": "824da992",
   "metadata": {},
   "outputs": [],
   "source": [
    "import os, sys\n",
    "\n",
    "cwd         = os.getcwd()\n",
    "repo_path   = \"/\".join(os.path.abspath(cwd).split(\"/\")[:-1])\n",
    "models_path = os.path.join(repo_path, \"docs/models\")\n",
    "path_to_blautia_model = os.path.join(models_path, \"bh_ungapfilled_model.sbml\")"
   ]
  },
  {
   "cell_type": "markdown",
   "id": "bc5f7006",
   "metadata": {},
   "source": [
    "Now, we can load the initial reconstruction, check its medium and whether it grows on it. So. let's print the first 4 exchange reactions on the current medium and see how many exchange reactions are present on the initial reconstruction."
   ]
  },
  {
   "cell_type": "code",
   "execution_count": null,
   "id": "f4bb7447",
   "metadata": {},
   "outputs": [],
   "source": [
    "import cobra\n",
    "draft_reconstruction = cobra.io.read_sbml_model(path_to_blautia_model)\n",
    "\n",
    "# Check current medium\n",
    "counter = 0 \n",
    "for i in draft_reconstruction.medium:\n",
    "    counter += 1\n",
    "    if counter < 5:\n",
    "        print(draft_reconstruction.reactions.get_by_id(i).name)\n",
    "print(\"Number of compounds on initial medium: \", len(draft_reconstruction.medium))\n"
   ]
  },
  {
   "cell_type": "markdown",
   "id": "72337e12",
   "metadata": {},
   "source": [
    "Now let us see if the initial reconstruction is a growing model. "
   ]
  },
  {
   "cell_type": "code",
   "execution_count": null,
   "id": "f0ed219a",
   "metadata": {},
   "outputs": [],
   "source": [
    "draft_reconstruction.optimize()  "
   ]
  },
  {
   "cell_type": "markdown",
   "id": "5bb19628",
   "metadata": {},
   "source": [
    "Apparently, this reconstruction is not growing."
   ]
  },
  {
   "cell_type": "markdown",
   "id": "53a7d56a",
   "metadata": {},
   "source": [
    "So, let's gapfill it! \n",
    "\n",
    "Import the `dnngior` library and use the `Gapfill` class to gapfill the reconstruction. "
   ]
  },
  {
   "cell_type": "markdown",
   "id": "add28f53",
   "metadata": {},
   "source": []
  },
  {
   "cell_type": "code",
   "execution_count": null,
   "id": "dc82817a",
   "metadata": {},
   "outputs": [],
   "source": [
    "import dnngior\n",
    "gapfill_complete_medium = dnngior.Gapfill(draftModel = path_to_blautia_model, \n",
    "                                          medium = None, \n",
    "                                          objectiveName = 'bio1')"
   ]
  },
  {
   "cell_type": "markdown",
   "id": "3a5e0afd",
   "metadata": {},
   "source": [
    "Get the number of reactions added during the gapfilling along with their names. "
   ]
  },
  {
   "cell_type": "code",
   "execution_count": null,
   "id": "e0246fe1",
   "metadata": {},
   "outputs": [],
   "source": [
    "print(\"Number of eactions added:\", len(gapfill_complete_medium.added_reactions))\n",
    "print(\"~~\")\n",
    "for reaction in gapfill_complete_medium.added_reactions:\n",
    "    print(gf_model_compl_med.reactions.get_by_id(reaction).name)"
   ]
  },
  {
   "cell_type": "markdown",
   "id": "2aebcfd6",
   "metadata": {},
   "source": [
    "Now make a new object of the gapfilled model."
   ]
  },
  {
   "cell_type": "code",
   "execution_count": 8,
   "id": "039f5090",
   "metadata": {},
   "outputs": [
    {
     "name": "stdout",
     "output_type": "stream",
     "text": [
      "Read LP format model from file /tmp/tmp1cme7kgq.lp\n",
      "Reading time = 0.01 seconds\n",
      ": 1402 rows, 3346 columns, 14424 nonzeros\n"
     ]
    }
   ],
   "source": [
    "gf_model_compl_med = gapfill_complete_medium.gapfilledModel.copy()"
   ]
  },
  {
   "cell_type": "markdown",
   "id": "9ab1cf86",
   "metadata": {},
   "source": [
    "And check whether it grows on its medium."
   ]
  },
  {
   "cell_type": "code",
   "execution_count": 9,
   "id": "53957634",
   "metadata": {},
   "outputs": [
    {
     "data": {
      "text/html": [
       "<strong><em>Optimal</em> solution with objective value 154.228</strong><br><div>\n",
       "<style scoped>\n",
       "    .dataframe tbody tr th:only-of-type {\n",
       "        vertical-align: middle;\n",
       "    }\n",
       "\n",
       "    .dataframe tbody tr th {\n",
       "        vertical-align: top;\n",
       "    }\n",
       "\n",
       "    .dataframe thead th {\n",
       "        text-align: right;\n",
       "    }\n",
       "</style>\n",
       "<table border=\"1\" class=\"dataframe\">\n",
       "  <thead>\n",
       "    <tr style=\"text-align: right;\">\n",
       "      <th></th>\n",
       "      <th>fluxes</th>\n",
       "      <th>reduced_costs</th>\n",
       "    </tr>\n",
       "  </thead>\n",
       "  <tbody>\n",
       "    <tr>\n",
       "      <th>EX_cpd01329_e0</th>\n",
       "      <td>0.000000</td>\n",
       "      <td>0.0</td>\n",
       "    </tr>\n",
       "    <tr>\n",
       "      <th>rxn04070_c0</th>\n",
       "      <td>0.432545</td>\n",
       "      <td>0.0</td>\n",
       "    </tr>\n",
       "    <tr>\n",
       "      <th>rxn05467_c0</th>\n",
       "      <td>-1000.000000</td>\n",
       "      <td>0.0</td>\n",
       "    </tr>\n",
       "    <tr>\n",
       "      <th>rxn00543_c0</th>\n",
       "      <td>0.000000</td>\n",
       "      <td>-0.0</td>\n",
       "    </tr>\n",
       "    <tr>\n",
       "      <th>rxn00527_c0</th>\n",
       "      <td>0.000000</td>\n",
       "      <td>0.0</td>\n",
       "    </tr>\n",
       "    <tr>\n",
       "      <th>...</th>\n",
       "      <td>...</td>\n",
       "      <td>...</td>\n",
       "    </tr>\n",
       "    <tr>\n",
       "      <th>rxn00131_c0</th>\n",
       "      <td>-41.057192</td>\n",
       "      <td>0.0</td>\n",
       "    </tr>\n",
       "    <tr>\n",
       "      <th>rxn05682_c0</th>\n",
       "      <td>0.000000</td>\n",
       "      <td>0.0</td>\n",
       "    </tr>\n",
       "    <tr>\n",
       "      <th>rxn00184_c0</th>\n",
       "      <td>0.000000</td>\n",
       "      <td>0.0</td>\n",
       "    </tr>\n",
       "    <tr>\n",
       "      <th>rxn01241_c0</th>\n",
       "      <td>0.000000</td>\n",
       "      <td>0.0</td>\n",
       "    </tr>\n",
       "    <tr>\n",
       "      <th>rxn21858_c0</th>\n",
       "      <td>0.432545</td>\n",
       "      <td>0.0</td>\n",
       "    </tr>\n",
       "  </tbody>\n",
       "</table>\n",
       "<p>1673 rows × 2 columns</p>\n",
       "</div>"
      ],
      "text/plain": [
       "<Solution 154.228 at 0x7f3d99d6f610>"
      ]
     },
     "execution_count": 48,
     "metadata": {},
     "output_type": "execute_result"
    }
   ],
   "source": [
    "gf_model_compl_med.optimize()"
   ]
  },
  {
   "cell_type": "markdown",
   "id": "55bddb9d",
   "metadata": {},
   "source": [
    "Check what compounds are now present on the model's medium that were not in the initial's reconstruction."
   ]
  },
  {
   "cell_type": "code",
   "execution_count": 10,
   "id": "64e3ba94",
   "metadata": {},
   "outputs": [
    {
     "name": "stdout",
     "output_type": "stream",
     "text": [
      "All exchange reactions of the initial reconstruction are present on the gapfilled model.\n",
      "\n",
      "Compound  Bactoprenyl diphosphate_e0  has been added in the gapfilled model's medium.\n",
      "Compound  Farnesylfarnesylgeraniol_e0  has been added in the gapfilled model's medium.\n",
      "Compound  two linked disacharide pentapeptide murein units (uncrosslinked, middle of chain)_e0  has been added in the gapfilled model's medium.\n",
      "Compound  core oligosaccharide lipid A_e0  has been added in the gapfilled model's medium.\n"
     ]
    }
   ],
   "source": [
    "check = False\n",
    "for i in draft_reconstruction.medium:\n",
    "    if i not in gf_model_compl_med.medium:\n",
    "        print(\"Compound \", i , \" was part of the initial's model model but not in the gapfilled.\")\n",
    "        check = True\n",
    "if not check:\n",
    "    print(\"All exchange reactions of the initial reconstruction are present on the gapfilled model.\\n\")\n",
    "\n",
    "for j in gf_model_compl_med.medium:\n",
    "    if j not in draft_reconstruction.medium:\n",
    "        print(\"Compound \", gf_model_compl_med.metabolites.get_by_id(j[3:]).name, \" has been added in the gapfilled model's medium.\")"
   ]
  },
  {
   "cell_type": "markdown",
   "id": "e1c06a46",
   "metadata": {},
   "source": [
    "## Gapfill using a defined medium"
   ]
  },
  {
   "cell_type": "markdown",
   "id": "71e57411",
   "metadata": {},
   "source": [
    "Load the media file. "
   ]
  },
  {
   "cell_type": "code",
   "execution_count": 11,
   "id": "98c24341",
   "metadata": {},
   "outputs": [],
   "source": [
    "medium_file_path = os.path.join(repo_path, 'docs/biochemistry/Nitrogen-Nitrite_media.tsv')"
   ]
  },
  {
   "cell_type": "code",
   "execution_count": 12,
   "id": "140093be",
   "metadata": {},
   "outputs": [
    {
     "data": {
      "text/html": [
       "<div>\n",
       "<style scoped>\n",
       "    .dataframe tbody tr th:only-of-type {\n",
       "        vertical-align: middle;\n",
       "    }\n",
       "\n",
       "    .dataframe tbody tr th {\n",
       "        vertical-align: top;\n",
       "    }\n",
       "\n",
       "    .dataframe thead th {\n",
       "        text-align: right;\n",
       "    }\n",
       "</style>\n",
       "<table border=\"1\" class=\"dataframe\">\n",
       "  <thead>\n",
       "    <tr style=\"text-align: right;\">\n",
       "      <th></th>\n",
       "      <th>id</th>\n",
       "      <th>name</th>\n",
       "      <th>concentration</th>\n",
       "      <th>minflux</th>\n",
       "      <th>maxflux</th>\n",
       "    </tr>\n",
       "  </thead>\n",
       "  <tbody>\n",
       "    <tr>\n",
       "      <th>0</th>\n",
       "      <td>cpd00027</td>\n",
       "      <td>D-Glucose</td>\n",
       "      <td>0.001</td>\n",
       "      <td>-100</td>\n",
       "      <td>5</td>\n",
       "    </tr>\n",
       "    <tr>\n",
       "      <th>1</th>\n",
       "      <td>cpd00075</td>\n",
       "      <td>Nitrite</td>\n",
       "      <td>0.001</td>\n",
       "      <td>-100</td>\n",
       "      <td>5</td>\n",
       "    </tr>\n",
       "    <tr>\n",
       "      <th>2</th>\n",
       "      <td>cpd00009</td>\n",
       "      <td>Phosphate</td>\n",
       "      <td>0.001</td>\n",
       "      <td>-100</td>\n",
       "      <td>5</td>\n",
       "    </tr>\n",
       "    <tr>\n",
       "      <th>3</th>\n",
       "      <td>cpd00048</td>\n",
       "      <td>Sulfate</td>\n",
       "      <td>0.001</td>\n",
       "      <td>-100</td>\n",
       "      <td>5</td>\n",
       "    </tr>\n",
       "    <tr>\n",
       "      <th>4</th>\n",
       "      <td>cpd00063</td>\n",
       "      <td>Ca2+</td>\n",
       "      <td>0.001</td>\n",
       "      <td>-100</td>\n",
       "      <td>100</td>\n",
       "    </tr>\n",
       "  </tbody>\n",
       "</table>\n",
       "</div>"
      ],
      "text/plain": [
       "         id       name  concentration  minflux  maxflux\n",
       "0  cpd00027  D-Glucose          0.001     -100        5\n",
       "1  cpd00075    Nitrite          0.001     -100        5\n",
       "2  cpd00009  Phosphate          0.001     -100        5\n",
       "3  cpd00048    Sulfate          0.001     -100        5\n",
       "4  cpd00063       Ca2+          0.001     -100      100"
      ]
     },
     "execution_count": 60,
     "metadata": {},
     "output_type": "execute_result"
    }
   ],
   "source": [
    "import pandas as pd\n",
    "raw_data = pd.read_csv(medium_file_path, sep=\"\\t\")\n",
    "raw_data.head()"
   ]
  },
  {
   "cell_type": "markdown",
   "id": "c94803dd",
   "metadata": {},
   "source": [
    "You can use the medium_file argument to give the path to this medium file."
   ]
  },
  {
   "cell_type": "code",
   "execution_count": null,
   "id": "54060640",
   "metadata": {},
   "outputs": [],
   "source": [
    "gapfill_nitr     = Gapfill(path_to_blautia_model, medium_file = medium_file_path, objectiveName = 'bio1')"
   ]
  },
  {
   "cell_type": "markdown",
   "id": "163cf499",
   "metadata": {},
   "source": [
    "Below we show how to manually load the new media to a dictionary setting the exchange reaction as a key and a dictionary as its value, including a lower, an upper bound and the stoichiometry of the related compound. This can be useful if you have a different structure or want to add aditional information."
   ]
  },
  {
   "cell_type": "code",
   "execution_count": null,
   "id": "439cdd57",
   "metadata": {
    "scrolled": true
   },
   "outputs": [],
   "source": [
    "Nit_media = {}\n",
    "with open(medium_file_path) as f:\n",
    "    f.readline()\n",
    "    for line in f:\n",
    "        a = line.strip().split('\\t')\n",
    "        Nit_media['EX_' + a[0] + '_e0'] = {'lower_bound':-1, 'upper_bound':1, 'metabolites':{a[0]+'_e0':-1.0}}"
   ]
  },
  {
   "cell_type": "markdown",
   "id": "552d7f37",
   "metadata": {},
   "source": [
    "Gapfill the initial reconstruction using the nitrate media."
   ]
  },
  {
   "cell_type": "code",
   "execution_count": null,
   "id": "31d7b5dc",
   "metadata": {},
   "outputs": [],
   "source": [
    "gapfill_nitr     = dnngior.Gapfill(path_to_blautia_model, medium = Nit_media, objectiveName = 'bio1')"
   ]
  },
  {
   "cell_type": "markdown",
   "id": "6575572f",
   "metadata": {},
   "source": [
    "Again, make an object of the gapfilled model and check whether it grows."
   ]
  },
  {
   "cell_type": "code",
   "execution_count": null,
   "id": "d360fca8",
   "metadata": {},
   "outputs": [
    {
     "name": "stdout",
     "output_type": "stream",
     "text": [
      "Read LP format model from file /tmp/tmp_99qbd2m.lp\n",
      "Reading time = 0.00 seconds\n",
      ": 1419 rows, 3166 columns, 14758 nonzeros\n"
     ]
    },
    {
     "data": {
      "text/html": [
       "<strong><em>Optimal</em> solution with objective value 39.996</strong><br><div>\n",
       "<style scoped>\n",
       "    .dataframe tbody tr th:only-of-type {\n",
       "        vertical-align: middle;\n",
       "    }\n",
       "\n",
       "    .dataframe tbody tr th {\n",
       "        vertical-align: top;\n",
       "    }\n",
       "\n",
       "    .dataframe thead th {\n",
       "        text-align: right;\n",
       "    }\n",
       "</style>\n",
       "<table border=\"1\" class=\"dataframe\">\n",
       "  <thead>\n",
       "    <tr style=\"text-align: right;\">\n",
       "      <th></th>\n",
       "      <th>fluxes</th>\n",
       "      <th>reduced_costs</th>\n",
       "    </tr>\n",
       "  </thead>\n",
       "  <tbody>\n",
       "    <tr>\n",
       "      <th>rxn04070_c0</th>\n",
       "      <td>0.224345</td>\n",
       "      <td>0.0</td>\n",
       "    </tr>\n",
       "    <tr>\n",
       "      <th>rxn05467_c0</th>\n",
       "      <td>0.000000</td>\n",
       "      <td>0.0</td>\n",
       "    </tr>\n",
       "    <tr>\n",
       "      <th>rxn00543_c0</th>\n",
       "      <td>0.000000</td>\n",
       "      <td>0.0</td>\n",
       "    </tr>\n",
       "    <tr>\n",
       "      <th>rxn00527_c0</th>\n",
       "      <td>-0.081221</td>\n",
       "      <td>0.0</td>\n",
       "    </tr>\n",
       "    <tr>\n",
       "      <th>rxn08287_c0</th>\n",
       "      <td>5.506151</td>\n",
       "      <td>0.0</td>\n",
       "    </tr>\n",
       "    <tr>\n",
       "      <th>...</th>\n",
       "      <td>...</td>\n",
       "      <td>...</td>\n",
       "    </tr>\n",
       "    <tr>\n",
       "      <th>rxn00131_c0</th>\n",
       "      <td>11.392259</td>\n",
       "      <td>0.0</td>\n",
       "    </tr>\n",
       "    <tr>\n",
       "      <th>rxn05682_c0</th>\n",
       "      <td>0.000000</td>\n",
       "      <td>0.0</td>\n",
       "    </tr>\n",
       "    <tr>\n",
       "      <th>rxn00184_c0</th>\n",
       "      <td>0.000000</td>\n",
       "      <td>0.0</td>\n",
       "    </tr>\n",
       "    <tr>\n",
       "      <th>rxn01241_c0</th>\n",
       "      <td>0.000000</td>\n",
       "      <td>0.0</td>\n",
       "    </tr>\n",
       "    <tr>\n",
       "      <th>rxn21858_c0</th>\n",
       "      <td>0.000000</td>\n",
       "      <td>0.0</td>\n",
       "    </tr>\n",
       "  </tbody>\n",
       "</table>\n",
       "<p>1583 rows × 2 columns</p>\n",
       "</div>"
      ],
      "text/plain": [
       "<Solution 39.996 at 0x7f3db7d5ab00>"
      ]
     },
     "execution_count": 65,
     "metadata": {},
     "output_type": "execute_result"
    }
   ],
   "source": [
    "gf_model_Nit_med = gapfill_nitr.gapfilledModel.copy()\n",
    "gf_model_Nit_med.optimize()"
   ]
  },
  {
   "cell_type": "code",
   "execution_count": null,
   "id": "e5a409bc",
   "metadata": {},
   "outputs": [],
   "source": [
    "print(\"Number of reactions added:\", len(gapfill_nitr.added_reactions))\n",
    "print(\"~~\")\n",
    "for reaction in gapfill_nitr.added_reactions[:5]:\n",
    "    print(gf_model_Nit_med.reactions.get_by_id(reaction).name)"
   ]
  },
  {
   "cell_type": "markdown",
   "id": "a9246993",
   "metadata": {},
   "source": [
    "The gapfilled model is growing again! \n",
    "However it's optimal objective value is lower and the number of the exchange reactions added is rather higher. \n"
   ]
  },
  {
   "cell_type": "code",
   "execution_count": null,
   "id": "05c0affd",
   "metadata": {},
   "outputs": [],
   "source": []
  },
  {
   "cell_type": "markdown",
   "id": "51b990be",
   "metadata": {},
   "source": [
    "## Build a GEM with `RAST-tk` and `ModelSEEDpy`"
   ]
  },
  {
   "cell_type": "markdown",
   "id": "e7eb920b",
   "metadata": {},
   "source": [
    "Here we show how one can get a GEM programmatically (no GUI) using the `ModelSEEDpy` library. \n",
    "This step will provide an input reconstruction for the `dnngior` gapfiller. \n",
    "This example is only instructive and is not guaranteed by the authors to work since it depends on third party software."
   ]
  },
  {
   "cell_type": "markdown",
   "id": "c2d8d4f8",
   "metadata": {},
   "source": [
    "Starting from a genome, the user needs to annotate it first before building a GEM.\n",
    "A good option for this step is the [BV-BRC Command Line Interface](https://www.bv-brc.org/docs//cli_tutorial/cli_installation.html) that allows to RAST-annotate the genome."
   ]
  },
  {
   "cell_type": "markdown",
   "id": "416370c3",
   "metadata": {},
   "source": [
    "Once you install the CLI, you may go for the default RASTtk Pipeline. Here is how we annotated a [*Salmonella* genome](https://www.ncbi.nlm.nih.gov/assembly/GCF_019918175.1) found in GenBank."
   ]
  },
  {
   "cell_type": "markdown",
   "id": "7e7281d3",
   "metadata": {},
   "source": [
    "First, initiate a RAST genome using the `.fna` file of yours. "
   ]
  },
  {
   "cell_type": "code",
   "execution_count": null,
   "id": "592b53fa",
   "metadata": {},
   "outputs": [],
   "source": [
    "!rast-create-genome --scientific-name \"Salmonella infantis\" \\\n",
    "                    --genetic-code 11\\\n",
    "                    --domain Bacteria\\\n",
    "                    --contigs GCF_019918175.1_ASM1991817v1_genomic.fna\\\n",
    "                    --genome-id S_infantis_ASM1991817v1\\\n",
    "                    --ncbi-taxonomy-id 595\\\n",
    "                    --source https://www.ncbi.nlm.nih.gov/assembly/GCF_019918175.1\\\n",
    "                    --source-id ASM1991817v1 > S_infantis.gto"
   ]
  },
  {
   "cell_type": "markdown",
   "id": "6e7cf8b1",
   "metadata": {},
   "source": [
    ">**Attention!** In case you have any trouble when running the `rast`- commands, please consider checking the status of the [RAST server](https://rast.nmpdr.org/rast.cgi). As already mentioned, all steps described in this section have nothing to do with the `dnngior` library, so for any issues you need to contact either the RAST or the ModeSEED communities."
   ]
  },
  {
   "cell_type": "markdown",
   "id": "39b18892",
   "metadata": {},
   "source": [
    "Then run the default RASTtk pipeline tool."
   ]
  },
  {
   "cell_type": "code",
   "execution_count": null,
   "id": "3ed2f46e",
   "metadata": {},
   "outputs": [],
   "source": [
    "!rast-process-genome < S_infantis.gto > S_infantis.gto2"
   ]
  },
  {
   "cell_type": "markdown",
   "id": "417026f7",
   "metadata": {},
   "source": [
    "Finally, export your annotation in a valid format for the `ModelSEEDpy` library."
   ]
  },
  {
   "cell_type": "code",
   "execution_count": null,
   "id": "93ccf453",
   "metadata": {},
   "outputs": [
    {
     "name": "stdout",
     "output_type": "stream",
     "text": [
      "malformed JSON string, neither tag, array, object, number, string or atom, at character offset 0 (before \"(end of string)\") at /usr/share/bvbrc-cli/deployment/lib/Bio/KBase/GenomeAnnotation/CmdHelper.pm line 230, <STDIN> line 1.\r\n"
     ]
    }
   ],
   "source": [
    "!rast-export-genome protein_fasta < S_infantis.gto2 > S_infantis.faa"
   ]
  },
  {
   "cell_type": "markdown",
   "id": "58097c6e",
   "metadata": {},
   "source": [
    "Once you have your annotated genome, you are ready to go for the reconstruction step.\n",
    "\n",
    "So first, you need to get the `ModelSEEDpy` library"
   ]
  },
  {
   "cell_type": "code",
   "execution_count": null,
   "id": "2b93f3a5",
   "metadata": {},
   "outputs": [],
   "source": [
    "!git clone https://github.com/ModelSEED/ModelSEEDpy\n",
    "!pip install ModelSEEDpy/."
   ]
  },
  {
   "cell_type": "code",
   "execution_count": null,
   "id": "99c64eb4",
   "metadata": {},
   "outputs": [],
   "source": [
    "from modelseedpy import MSBuilder, MSGenome\n",
    "import cobra\n",
    "\n",
    "# Set the path to your annotation\n",
    "genome_annotation = \"S_infantis.faa\"\n",
    "# Set modelId\n",
    "modelId  = \"s_inf\"\n",
    "# Init a MSGenome instance \n",
    "msGenome = MSGenome.from_fasta(genome_annotation, split=' ')\n",
    "# Build your GEM\n",
    "model = MSBuilder.build_metabolic_model(model_id = modelId, \n",
    "                                        genome = msGenome, \n",
    "                                        index= \"0\", \n",
    "                                        classic_biomass = True, \n",
    "                                        gapfill_model = False, \n",
    "                                        gapfill_media = None, \n",
    "                                        annotate_with_rast = True, \n",
    "                                        allow_all_non_grp_reactions = True)\n",
    "# Save the GEM as a .sbml file\n",
    "modelname = \"s_inf_modelseed.sbml\"\n",
    "cobra.io.write_sbml_model(cobra_model = model, filename = modelname)\n"
   ]
  },
  {
   "cell_type": "markdown",
   "id": "f161cd71",
   "metadata": {},
   "source": [
    "Now, you can use the draft reconstruction (`s_inf_modelseed.sbml`) as input for the `dnngior` library to gapfill it as you wish! &#x1F389;"
   ]
  },
  {
   "cell_type": "code",
   "execution_count": null,
   "id": "8816745e",
   "metadata": {},
   "outputs": [],
   "source": []
  },
  {
   "cell_type": "markdown",
   "id": "ffcb896c",
   "metadata": {},
   "source": [
    "### Gapfilling a model with different costs for reactions\n",
    "\n",
    "Now we need to provide a python dictionary with reaction costs. The function will automatically give a cost of zero to reactions that are already in the draft model and also to the exchange reactions of the defined media. It will give a default cost (set to 1) to reactions that are not in the draft model nor in the dictionary with costs."
   ]
  },
  {
   "cell_type": "code",
   "execution_count": null,
   "id": "6af15113",
   "metadata": {},
   "outputs": [],
   "source": [
    "# #select random reaction and add random costs between 0 and 1\n",
    "# candidate_reactions = {}\n",
    "# for i in  all_reactions.reactions:\n",
    "#     if np.random.uniform()<0.02:\n",
    "#         candidate_reactions[i] = np.random.uniform()\n",
    "\n",
    "        \n",
    "#use NN scores        \n",
    "s_file = open(os.path.join(path.parent, 'files', 'custom scores','prediction_example.json'))\n",
    "NN_scores = json.loads(s_file.read())\n",
    "s_file.close()\n",
    "\n",
    "\n",
    "\n",
    "candidate_reactions = {}\n",
    "for i in all_reactions.reactions:\n",
    "    if i in NN_scores.keys():\n",
    "        candidate_reactions[i] = NN_scores[i]\n"
   ]
  },
  {
   "cell_type": "markdown",
   "id": "8ade2a07",
   "metadata": {},
   "source": [
    "We will also use a different criteria to choose the gapfilled reaction. Instead of 'min_reactions' we use 'min_cost', selecting the set with a minimum sum of costs."
   ]
  },
  {
   "cell_type": "markdown",
   "id": "6291725c",
   "metadata": {},
   "source": [
    "### Command line interface\n",
    "\n",
    "if you have a larger amount of genomes for which you want to build models and gapfill, there is also a command line interface which uses modelseedpy and dnngior to build and gap-fill GSMMS.\n",
    "\n",
    "`python fasta2model_CLI.py -f DIR_FASTA -o output_folder`\n",
    "\n",
    "This command will create an output folder (-o) containing a subfolder with base ungapfilled models, a subfolder with gapfilled models, a log, and a tsv file telling you the number of added reactions.\n",
    "\n",
    "This CLI has limited functionality and assumes the same conditions for all gapfilling but you can change the standard gapfilling medium using the -e parameter. \n",
    "\n",
    "`python fasta2model_CLI.py -f DIR_FASTA -o DIR_OUTPUT' -e PATH_TO_MEDIUM_FILE`\n",
    "\n",
    "if you allready have base models you can use the -m parameter to provide a folder with base models to skip the base model building step.\n",
    "\n",
    "`python fasta2model_CLI.py -m DIR_MODELS -o DIR_OUTPUT`"
   ]
  },
  {
   "cell_type": "markdown",
   "id": "4fec2071",
   "metadata": {},
   "source": [
    "### Quick idea of what to do when no flux is observed on a particular media\n",
    "\n",
    "\n",
    "1) Run a gapfill on the with complete media option (as in [5])\n",
    "\n",
    "2) Run flux variability analysis (for big models this takes a long time to run):"
   ]
  },
  {
   "cell_type": "code",
   "execution_count": null,
   "id": "8e8375ed",
   "metadata": {},
   "outputs": [],
   "source": [
    "model_exchanges = [i for i in model.reactions if ('EX_' in i.id) and ('_e0' in i.id)]"
   ]
  },
  {
   "cell_type": "code",
   "execution_count": null,
   "id": "d784ff5d",
   "metadata": {},
   "outputs": [],
   "source": [
    "fva = cobra.flux_analysis.flux_variability_analysis(model, model_exchanges)\n",
    "print(fva)"
   ]
  },
  {
   "cell_type": "markdown",
   "id": "01c33bf2",
   "metadata": {},
   "source": [
    "The exchange reaction where the minimum and maximum are negative are likely required in the medium. They are essential for the objective and likely the database reactions have no way to make them, so gapdfilling does not wotrk."
   ]
  },
  {
   "cell_type": "markdown",
   "id": "b343367b",
   "metadata": {},
   "source": [
    "## More functionality\n",
    "\n",
    "You might want to exclude specific reactions from the gap-filling database (e.g. they are unbalanced or you know cannot be present based on other data), this can be done using the blacklist argument:"
   ]
  },
  {
   "cell_type": "code",
   "execution_count": null,
   "id": "35f511f6",
   "metadata": {},
   "outputs": [],
   "source": [
    "blackList = ['rxn99999_c0']\n",
    "gapfill_with_blacklist =  dnngior.Gapfill(path_to_blautia_model, black_list = blackList, objectiveName = 'bio1')"
   ]
  },
  {
   "cell_type": "markdown",
   "id": "34758e35",
   "metadata": {},
   "source": [
    "Sometimes reactions are unavoidable (i.e. no solution can be found without them), but you want as few of them as possible. You could manually set the weights of these reactions but to make it easier you can set a grey list. By default these reactions get a cost of 1,000 but you can change this using punish_cost."
   ]
  },
  {
   "cell_type": "code",
   "execution_count": null,
   "id": "f363d4de",
   "metadata": {},
   "outputs": [],
   "source": [
    "greyList = ['rxn04070_c0','rxn05467_c0','rxn00543_c0']\n",
    "gapfill_with_greylist =  dnngior.Gapfill(path_to_blautia_model, grey_list = greyList, punish_cost = 5000, objectiveName = 'bio1')"
   ]
  }
 ],
 "metadata": {
  "kernelspec": {
   "display_name": "plots",
   "language": "python",
   "name": "plots"
  },
  "language_info": {
   "codemirror_mode": {
    "name": "ipython",
    "version": 3
   },
   "file_extension": ".py",
   "mimetype": "text/x-python",
   "name": "python",
   "nbconvert_exporter": "python",
   "pygments_lexer": "ipython3",
   "version": "3.12.5"
  }
 },
 "nbformat": 4,
 "nbformat_minor": 5
}
