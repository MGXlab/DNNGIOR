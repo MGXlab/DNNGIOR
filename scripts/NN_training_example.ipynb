{
 "cells": [
  {
   "cell_type": "markdown",
   "id": "938ab8b5",
   "metadata": {},
   "source": [
    "Load dependecies"
   ]
  },
  {
   "cell_type": "code",
   "execution_count": 1,
   "id": "297119a8",
   "metadata": {
    "scrolled": true
   },
   "outputs": [
    {
     "name": "stderr",
     "output_type": "stream",
     "text": [
      "2023-07-12 14:36:36.196292: I tensorflow/core/platform/cpu_feature_guard.cc:182] This TensorFlow binary is optimized to use available CPU instructions in performance-critical operations.\n",
      "To enable the following instructions: SSE4.1 SSE4.2 AVX AVX2 FMA, in other operations, rebuild TensorFlow with the appropriate compiler flags.\n"
     ]
    }
   ],
   "source": [
    "import NN_Trainer\n",
    "import numpy as np\n",
    "import pandas as pd\n",
    "from reaction_class import Reaction as rc\n",
    "import os\n",
    "import sys\n",
    "from pathlib import Path\n",
    "path = Path.cwd()\n",
    "sys.path.append(path)"
   ]
  },
  {
   "cell_type": "markdown",
   "id": "492bd991",
   "metadata": {},
   "source": [
    "### Generating reaction presence dataframe\n",
    "\n",
    "To prepare the training data we need to determine the reactions present in your training metabolic models. This means that we need generate a list of possible reactions found in your training data, which will serve as the reaction keys. We can then determine for every draft training models which of these reactions are present and create a binary list of reactions presences. We will end up with a binary array with on one axis the different reactions and on the other every model in the training data. \n",
    "\n",
    "We will use the class we build but you can use any module to load metabolic models or extract the reaction sets in another way, the key is to end up with a binary array of reaction presences. If you already have this, this step can be skipped"
   ]
  },
  {
   "cell_type": "code",
   "execution_count": 2,
   "id": "6b12c388",
   "metadata": {},
   "outputs": [
    {
     "ename": "FileNotFoundError",
     "evalue": "[Errno 2] No such file or directory: ''",
     "output_type": "error",
     "traceback": [
      "\u001b[0;31m---------------------------------------------------------------------------\u001b[0m",
      "\u001b[0;31mFileNotFoundError\u001b[0m                         Traceback (most recent call last)",
      "Cell \u001b[0;32mIn[2], line 10\u001b[0m\n\u001b[1;32m      7\u001b[0m output_path \u001b[38;5;241m=\u001b[39m \u001b[38;5;124m'\u001b[39m\u001b[38;5;124m'\u001b[39m\n\u001b[1;32m      9\u001b[0m \u001b[38;5;66;03m#list of model-ids of draft-models\u001b[39;00m\n\u001b[0;32m---> 10\u001b[0m paths  \u001b[38;5;241m=\u001b[39m \u001b[43mos\u001b[49m\u001b[38;5;241;43m.\u001b[39;49m\u001b[43mlistdir\u001b[49m\u001b[43m(\u001b[49m\u001b[43mmodel_path\u001b[49m\u001b[43m)\u001b[49m\n\u001b[1;32m     11\u001b[0m model_ids \u001b[38;5;241m=\u001b[39m []\n\u001b[1;32m     12\u001b[0m \u001b[38;5;28;01mfor\u001b[39;00m filename \u001b[38;5;129;01min\u001b[39;00m paths:\n",
      "\u001b[0;31mFileNotFoundError\u001b[0m: [Errno 2] No such file or directory: ''"
     ]
    }
   ],
   "source": [
    "#path to training models\n",
    "\n",
    "model_path =  ''\n",
    "\n",
    "#output path training data\n",
    "\n",
    "output_path = ''\n",
    "\n",
    "#list of model-ids of draft-models\n",
    "paths  = os.listdir(model_path)\n",
    "model_ids = []\n",
    "for filename in paths:\n",
    "    model_ids.append(filename[:-5])\n",
    "n_models = len(model_ids)\n",
    "dic = {}\n",
    "rxn = []\n",
    "for file_path, model_id in zip(paths,model_ids):\n",
    "    print(model_id)\n",
    "    model = rc(model = os.path.join(model_path, file_path))\n",
    "    rs = set(model.reactions)\n",
    "    dic[model_id]=rs\n",
    "    \n",
    "    #generate a list of all possible reactions\n",
    "    for i in list(rs):\n",
    "         if i not in rxn:\n",
    "             rxn.append(i)\n",
    "\n",
    "n_reactions = len(rxn)\n",
    "\n",
    "reaction_df=pd.DataFrame(index=rxn, columns=model_ids)\n",
    "for key, value in dic.items():\n",
    "    a = []\n",
    "    for i in rxn:\n",
    "        if i in value:\n",
    "            a.append(1)\n",
    "        else:\n",
    "            a.append(0)\n",
    "    reaction_df[key]=a\n",
    "\n",
    "#saving to pandas file\n",
    "reaction_df.to_csv(output_path)\n",
    "\n"
   ]
  },
  {
   "cell_type": "markdown",
   "id": "e9000859",
   "metadata": {},
   "source": [
    "### Training the Neural Network\n",
    "\n",
    "The easiest way to train the network requires providing a pandas dataframe where the index are the reaction keys and the columns the different training examples (see above). You can also provide a numpy array and the reaction keys as a separate list. During training the function will automatically generate the training dataset. You can change the number of times each training model is used (nuplo). You can also give a range of deletion percentages (min_for to max_for) which will be removed in equal sized steps based on the number of replicates. There is also optional parameter that can be used to weigh the deletion of certain reactions (del_p). It is also possible to add false reactions (using min_con and max_con), but we do not currently use it and it will not work with the masking of input reactions (as the mask does not differentiate between contamination and real reactions).\n",
    "\n",
    "You can provide labels (the full set of reactions) for the network to try and predict, if no labels are provided the network will asume that your input (the data without deletions) should be what the network tries to predict. \n",
    "\n",
    "You can rely on the default parameters to define the network which we optimised for our usecase, but for optimal perfomance on different datasets, you might want to change the hyperparameters (dropout, batch size), the architecture (nnodes, nlayers) or bias of predicted classes. You can also disable the masking of input positions during loss calculation. Finally you can determine a validation split which will set apart a part of your input data during training and calculate scores after to validate your network.\n",
    "\n",
    "The function will return a class containing a Tensorflow object (the network), the list of reactions which respond to the output nodes (reaction keys) and the modeltype (ModelSEED, BiGG etc.). If save=True you can save these as a .h5 file. \n",
    "\n",
    "Finally you can set history = True to also return the history of training for optimisation purposes.\n"
   ]
  },
  {
   "cell_type": "code",
   "execution_count": 1,
   "id": "23e0e7f0",
   "metadata": {},
   "outputs": [],
   "source": [
    "\"\"\"\n",
    "        PARAMETERS:\n",
    "        ----------\n",
    "        data: DataFrame or array, required\n",
    "            binary array of reactions presences, for DataFrame index is used as rxn_keys\n",
    "            otherwise rxn_keys should be provided\n",
    "        modeltype : string, (currently) required\n",
    "            The modeltype of the training data,\n",
    "        rxn_keys: list, optional\n",
    "            Can be used if data is not a pandas dataframe but a numpy array. Default is None\n",
    "        labels:\n",
    "            User can specify labels, by default input data is used as labels\n",
    "\n",
    "        TRAINING PARAMETERS:\n",
    "        -------\n",
    "        nuplo: int\n",
    "            create duplicates of input data\n",
    "            default=30\n",
    "\n",
    "        The omission and contamination rates will increase linearly from min to max,\n",
    "        with stepsize determined by nuplo\n",
    "        min_for, float\n",
    "            minimum false omssion rate, default = 0.05\n",
    "        max_for, float\n",
    "            maximum false ommision rate, default = 0.55\n",
    "        min_con, float\n",
    "            minimum contanimation introduced, currently not used, default = 0\n",
    "        max_con, float\n",
    "            maximum contamination introduced, currently not used, default = 0\n",
    "        del_p, list\n",
    "            list of probabilities of deletion for reactions\n",
    "        con_p, list\n",
    "            list of probabilities of introduction for reactions\n",
    "\n",
    "        NETWORK PARAMETERS\n",
    "        -------------\n",
    "        nlayers: int, optional\n",
    "            number of hidden layers (layers that are not input or output)\n",
    "            default=1\n",
    "        nnodes: int, optional\n",
    "            number of nodes per layer,\n",
    "            default=256\n",
    "        nepochs: int, optional\n",
    "            how often the network needs to loop over all the data\n",
    "            default=10\n",
    "        b_size: int, optional\n",
    "            batch_size (number of training examples that are simultaneously evaluated)\n",
    "            default=32,\n",
    "        dropout: float, optional\n",
    "            parameter for training that can reduce overfitting\n",
    "            default = 0.1,\n",
    "        bias_0: float, optional\n",
    "            default = 0.3,\n",
    "        maskI: boolean, optional\n",
    "            Determines wether the input positions are masked during loss calculation, default=True\n",
    "            default=True\n",
    "        validation_split: float, optional\n",
    "            Splits the input data in training and validation\n",
    "            default = 0 (no split)\n",
    "\n",
    "        SAVING PARAMETERS:\n",
    "\n",
    "        save: boolean, optional\n",
    "            Whether you want to save the network, default = False\n",
    "        name: string, optional\n",
    "            name of your network, default='noname'\n",
    "        output_path: string,\n",
    "            where output, default=''\n",
    "        return_history: boolean, optional\n",
    "            If you want training history\n",
    "\n",
    "       Returns:\n",
    "        -------------\n",
    "        trainedNN\n",
    "            NN class containing network, rxn_keys and modeltype\n",
    "        history: History(), if history=True\n",
    "            history of training, this can be used to look at the performance during training\n",
    "    \n",
    "    \"\"\""
   ]
  },
  {
   "cell_type": "code",
   "execution_count": 2,
   "id": "59319dbf",
   "metadata": {
    "scrolled": false
   },
   "outputs": [
    {
     "name": "stdout",
     "output_type": "stream",
     "text": [
      "Num GPUs Available:  0\n",
      "using data as labels\n",
      "dataset created\n",
      "training on data with shape: (300, 2452) with 249710.0 reactions\n",
      "Model: \"sequential\"\n",
      "_________________________________________________________________\n",
      " Layer (type)                Output Shape              Param #   \n",
      "=================================================================\n",
      " dense (Dense)               (None, 256)               627968    \n",
      "                                                                 \n",
      " dropout (Dropout)           (None, 256)               0         \n",
      "                                                                 \n",
      " dense_1 (Dense)             (None, 2452)              630164    \n",
      "                                                                 \n",
      "=================================================================\n",
      "Total params: 1,258,132\n",
      "Trainable params: 1,258,132\n",
      "Non-trainable params: 0\n",
      "_________________________________________________________________\n",
      "Train on 300 samples\n",
      "Epoch 1/10\n"
     ]
    },
    {
     "name": "stderr",
     "output_type": "stream",
     "text": [
      "2023-07-12 14:36:42.909027: I tensorflow/core/common_runtime/process_util.cc:146] Creating new thread pool with default inter op setting: 2. Tune using inter_op_parallelism_threads for best performance.\n",
      "2023-07-12 14:36:42.923453: I tensorflow/compiler/mlir/mlir_graph_optimization_pass.cc:353] MLIR V1 optimization pass is not enabled\n",
      "2023-07-12 14:36:42.975300: W tensorflow/c/c_api.cc:300] Operation '{name:'training/Adam/dense_1/bias/vhat/Assign' id:565 op device:{requested: '', assigned: ''} def:{{{node training/Adam/dense_1/bias/vhat/Assign}} = AssignVariableOp[_has_manual_control_dependencies=true, dtype=DT_FLOAT, validate_shape=false](training/Adam/dense_1/bias/vhat, training/Adam/dense_1/bias/vhat/Initializer/zeros)}}' was changed by setting attribute after it was run by a session. This mutation will have no effect, and will trigger an error in the future. Either don't modify nodes after running them or create a new session.\n"
     ]
    },
    {
     "name": "stdout",
     "output_type": "stream",
     "text": [
      "300/300 [==============================] - 1s 2ms/sample - loss: 0.0804 - auc: 0.8633 - precision: 0.8034 - recall: 0.6166\n",
      "Epoch 2/10\n",
      "300/300 [==============================] - 1s 2ms/sample - loss: 0.0316 - auc: 0.9724 - precision: 0.9656 - recall: 0.7855\n",
      "Epoch 3/10\n",
      "300/300 [==============================] - 1s 2ms/sample - loss: 0.0128 - auc: 0.9920 - precision: 0.9941 - recall: 0.8946\n",
      "Epoch 4/10\n",
      "300/300 [==============================] - 0s 1ms/sample - loss: 0.0055 - auc: 0.9965 - precision: 0.9967 - recall: 0.9476\n",
      "Epoch 5/10\n",
      "300/300 [==============================] - 0s 1ms/sample - loss: 0.0029 - auc: 0.9978 - precision: 0.9982 - recall: 0.9712\n",
      "Epoch 6/10\n",
      "300/300 [==============================] - 0s 775us/sample - loss: 0.0015 - auc: 0.9984 - precision: 0.9990 - recall: 0.9854\n",
      "Epoch 7/10\n",
      "300/300 [==============================] - 0s 1ms/sample - loss: 8.9606e-04 - auc: 0.9984 - precision: 0.9996 - recall: 0.9895\n",
      "Epoch 8/10\n",
      "300/300 [==============================] - 0s 812us/sample - loss: 5.6326e-04 - auc: 0.9985 - precision: 0.9998 - recall: 0.9924\n",
      "Epoch 9/10\n",
      "300/300 [==============================] - 0s 688us/sample - loss: 4.3424e-04 - auc: 0.9985 - precision: 0.9998 - recall: 0.9928\n",
      "Epoch 10/10\n",
      "300/300 [==============================] - 0s 850us/sample - loss: 3.2417e-04 - auc: 0.9984 - precision: 1.0000 - recall: 0.9935\n"
     ]
    }
   ],
   "source": [
    "#Load in a small training sample\n",
    "file_path = os.path.join(path.parent,'files', 'NN')\n",
    "data = pd.read_csv(os.path.join(file_path, 'Sample_reaction_presence.csv'), index_col=0)\n",
    "\n",
    "network = NN_Trainer.train(data=data, modeltype='ModelSEED',name='example',output_path=file_path, save=True)"
   ]
  }
 ],
 "metadata": {
  "kernelspec": {
   "display_name": "tfcob",
   "language": "python",
   "name": "tfcob"
  },
  "language_info": {
   "codemirror_mode": {
    "name": "ipython",
    "version": 3
   },
   "file_extension": ".py",
   "mimetype": "text/x-python",
   "name": "python",
   "nbconvert_exporter": "python",
   "pygments_lexer": "ipython3",
   "version": "3.10.12"
  }
 },
 "nbformat": 4,
 "nbformat_minor": 5
}
