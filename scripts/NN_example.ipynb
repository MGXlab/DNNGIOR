{
 "cells": [
  {
   "cell_type": "markdown",
   "id": "339e7624",
   "metadata": {},
   "source": [
    "Load dependencies"
   ]
  },
  {
   "cell_type": "code",
   "execution_count": null,
   "id": "330fd769",
   "metadata": {},
   "outputs": [],
   "source": [
    "import numpy as np\n",
    "import pandas as pd\n",
    "import os\n",
    "import sys\n",
    "import json\n",
    "import tensorflow as tf\n",
    "from NN_Predictor import NN\n",
    "import NN_Trainer\n",
    "import cobra"
   ]
  },
  {
   "cell_type": "code",
   "execution_count": null,
   "id": "821a4d96",
   "metadata": {},
   "outputs": [],
   "source": [
    "from pathlib import Path\n",
    "path = Path.cwd()\n",
    "sys.path.append(path)\n",
    "file_path = os.path.join(path.parent,'files', 'NN')\n",
    "output_path = os.path.join(path.parent,'files', 'custom scores')\n",
    "\n",
    "#Tensorflow complains because the NN is not optimized perfectly\n",
    "tf.get_logger().setLevel('ERROR')"
   ]
  },
  {
   "cell_type": "markdown",
   "id": "3a919838",
   "metadata": {},
   "source": [
    "## Introduction\n",
    "\n",
    "The purpose of this notebook is to show some examples of using the NN"
   ]
  },
  {
   "cell_type": "markdown",
   "id": "4a5d8419",
   "metadata": {},
   "source": [
    "## Making predictions using the NN\n",
    "\n",
    "Load in your favourite Neural Network"
   ]
  },
  {
   "cell_type": "code",
   "execution_count": null,
   "id": "4c7276c8",
   "metadata": {},
   "outputs": [],
   "source": [
    "NN_MS = NN(path=file_path+'/NN_MS_lite.npz')"
   ]
  },
  {
   "cell_type": "code",
   "execution_count": null,
   "id": "13a8410b",
   "metadata": {},
   "outputs": [],
   "source": [
    "file_path+'/NN_MS_lite.npz'"
   ]
  },
  {
   "cell_type": "code",
   "execution_count": null,
   "id": "4f05132e",
   "metadata": {},
   "outputs": [],
   "source": []
  },
  {
   "cell_type": "markdown",
   "id": "665388ab",
   "metadata": {},
   "source": [
    "You can also use modeltype"
   ]
  },
  {
   "cell_type": "code",
   "execution_count": null,
   "id": "d0a30aa9",
   "metadata": {},
   "outputs": [],
   "source": [
    "NN_MS = NN(modeltype='ModelSEED')"
   ]
  },
  {
   "cell_type": "markdown",
   "id": "92b03fc0",
   "metadata": {},
   "source": [
    "Load in the data, the NN requires a binary list indicating presences of reactions, it is important that this is in the right order. However, you can give it a dictionary and it will put it in the right order for you.\n",
    "\n",
    "load in the dictionary:"
   ]
  },
  {
   "cell_type": "code",
   "execution_count": null,
   "id": "c671f8f5",
   "metadata": {},
   "outputs": [],
   "source": [
    "with open(file_path+'/binary_example.json', 'r') as j:\n",
    "    binary_example = json.loads(j.read())"
   ]
  },
  {
   "cell_type": "markdown",
   "id": "deebd52f",
   "metadata": {},
   "source": [
    "and make the prediction"
   ]
  },
  {
   "cell_type": "code",
   "execution_count": null,
   "id": "ba454574",
   "metadata": {},
   "outputs": [],
   "source": [
    "prediction = NN_MS.predict(input=binary_example)"
   ]
  },
  {
   "cell_type": "code",
   "execution_count": null,
   "id": "8bb786e0",
   "metadata": {
    "scrolled": false
   },
   "outputs": [],
   "source": []
  },
  {
   "cell_type": "markdown",
   "id": "8f9a2239",
   "metadata": {},
   "source": [
    "# Multiple predictions\n",
    "\n",
    "We can also make predictions for multiple models at the same time, starting with a reaction presence dataframe where the rows are the different reactions and the columns are the model ids:"
   ]
  },
  {
   "cell_type": "code",
   "execution_count": null,
   "id": "88ec4ebd",
   "metadata": {},
   "outputs": [],
   "source": [
    "#multiple binary reaction lists (csv)\n",
    "input_path = file_path+'/Sample_reaction_presence.csv'\n",
    "df = pd.read_csv(input_path, index_col=0)"
   ]
  },
  {
   "cell_type": "markdown",
   "id": "da538646",
   "metadata": {},
   "source": [
    "We can then create a array of prediction scores with the same order of reaction and model ids"
   ]
  },
  {
   "cell_type": "code",
   "execution_count": null,
   "id": "08de9604",
   "metadata": {},
   "outputs": [],
   "source": [
    "NN_MS.predict(input=df)"
   ]
  },
  {
   "cell_type": "markdown",
   "id": "e0ca7549",
   "metadata": {},
   "source": [
    "Of course usually we dont have a dictionary or binary array but rather a model:"
   ]
  },
  {
   "cell_type": "code",
   "execution_count": null,
   "id": "2e225de0",
   "metadata": {},
   "outputs": [],
   "source": [
    "model_path = os.path.join(path.parent, 'files',  'models', 'E_coli_KTE31_388739.3_r30_removed.sbml')\n",
    "draft_model = cobra.io.read_sbml_model(model_path) \n"
   ]
  },
  {
   "cell_type": "markdown",
   "id": "7f69c870",
   "metadata": {},
   "source": [
    "We can make a list of the reactions in a model"
   ]
  },
  {
   "cell_type": "code",
   "execution_count": null,
   "id": "5cdeed96",
   "metadata": {},
   "outputs": [],
   "source": [
    "list_of_reactions = draft_model.reactions.list_attr('id')\n",
    "NN_MS.predict(input=list_of_reactions)"
   ]
  },
  {
   "cell_type": "markdown",
   "id": "06f9a362",
   "metadata": {},
   "source": [
    "or just give the model"
   ]
  },
  {
   "cell_type": "code",
   "execution_count": null,
   "id": "b66b7275",
   "metadata": {},
   "outputs": [],
   "source": [
    "NN_MS.predict(input=draft_model)"
   ]
  }
 ],
 "metadata": {
  "kernelspec": {
   "display_name": "tfcob",
   "language": "python",
   "name": "tfcob"
  },
  "language_info": {
   "codemirror_mode": {
    "name": "ipython",
    "version": 3
   },
   "file_extension": ".py",
   "mimetype": "text/x-python",
   "name": "python",
   "nbconvert_exporter": "python",
   "pygments_lexer": "ipython3",
   "version": "3.10.12"
  }
 },
 "nbformat": 4,
 "nbformat_minor": 5
}
