{
 "cells": [
  {
   "cell_type": "code",
   "execution_count": 7,
   "id": "5f327b25",
   "metadata": {},
   "outputs": [],
   "source": [
    "import cobra\n",
    "#Avoid the warnings about the sbml formating\n",
    "import logging\n",
    "logging.getLogger(\"cobra\").setLevel(logging.ERROR)\n",
    "\n",
    "import os\n",
    "import sys\n",
    "from pathlib import Path\n",
    "path = Path.cwd()\n",
    "sys.path.append(path)\n",
    "\n",
    "import numpy as np"
   ]
  },
  {
   "cell_type": "code",
   "execution_count": 8,
   "id": "cef60e3c",
   "metadata": {},
   "outputs": [],
   "source": [
    "from reaction_class import Reaction\n",
    "import gapfill_function"
   ]
  },
  {
   "cell_type": "markdown",
   "id": "33b2f0c5",
   "metadata": {},
   "source": [
    "### Gapfilling a Model\n",
    "\n",
    "**Steps**"
   ]
  }
 ],
 "metadata": {
  "kernelspec": {
   "display_name": "Python 3",
   "language": "python",
   "name": "python3"
  },
  "language_info": {
   "codemirror_mode": {
    "name": "ipython",
    "version": 3
   },
   "file_extension": ".py",
   "mimetype": "text/x-python",
   "name": "python",
   "nbconvert_exporter": "python",
   "pygments_lexer": "ipython3",
   "version": "3.8.8"
  }
 },
 "nbformat": 4,
 "nbformat_minor": 5
}
